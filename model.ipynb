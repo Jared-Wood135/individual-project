{
 "cells": [
  {
   "cell_type": "markdown",
   "id": "468f91d2",
   "metadata": {},
   "source": [
    "<div style=\"background-color: orange\">\n",
    "<a id='TableOfContents'></a>\n",
    "    <b><u><i><h1 style='text-align: center'>\n",
    "        Table of Contents\n",
    "    </h1></i></u></b>\n",
    "<li><a href='#imports'>Imports</a></li>\n",
    "<li><a href='#wrangle'>Wrangle Data</a></li>\n",
    "<li><a href='#modelsdict'>Models Dictionary Creation</a></li>\n",
    "<li><a href='#baseline'>Baseline Creation</a></li>\n",
    "<li><a href='#dtc'>Decision Tree Classifier</a></li>\n",
    "<li><a href='#rfc'>Random Forest Classifiier</a></li>\n",
    "<li><a href='#lr'>Linear Regression</a></li>\n",
    "<li><a href='#misc'>Miscellaneous</a></li>"
   ]
  },
  {
   "cell_type": "markdown",
   "id": "d8c3fd19",
   "metadata": {},
   "source": [
    "<div style='background-color: orange'>\n",
    "<a id='imports'></a>\n",
    "    <b><u><i><h1 style='text-align: center'>\n",
    "        Imports\n",
    "    </h1></i></u></b>\n",
    "<li><a href='#TableOfContents'>Table of Contents</a></li>"
   ]
  },
  {
   "cell_type": "code",
   "execution_count": 1,
   "id": "4ff916e3",
   "metadata": {},
   "outputs": [],
   "source": [
    "# Vectorization and dataframing\n",
    "import numpy as np\n",
    "import pandas as pd\n",
    "\n",
    "# Visualizations\n",
    "import matplotlib.pyplot as plt\n",
    "import seaborn as sns\n",
    "\n",
    "# Ignore warnings\n",
    "import warnings\n",
    "warnings.filterwarnings('ignore')\n",
    "\n",
    "# Classification Models\n",
    "from sklearn.tree import DecisionTreeClassifier as dtc\n",
    "from sklearn.ensemble import RandomForestClassifier as rfc\n",
    "from sklearn.linear_model import LinearRegression as lr\n",
    "\n",
    "# Model Metrics\n",
    "from sklearn.metrics import classification_report, accuracy_score, recall_score\n",
    "\n",
    "#.py Files\n",
    "import wrangle as w"
   ]
  },
  {
   "cell_type": "markdown",
   "id": "3ad4de6a",
   "metadata": {},
   "source": [
    "<div style='background-color: orange'>\n",
    "<a id='wrangle'></a>\n",
    "    <b><u><i><h1 style='text-align: center'>\n",
    "        Wrangle Data\n",
    "    </h1></i></u></b>\n",
    "<li><a href='#TableOfContents'>Table of Contents</a></li>"
   ]
  },
  {
   "cell_type": "code",
   "execution_count": 2,
   "id": "c00bada1",
   "metadata": {},
   "outputs": [],
   "source": [
    "# Wrangle and split the mass_shooters data for proper\n",
    "# modeling purposes\n",
    "train, validate, test = w.wrangle_mass_shooters()"
   ]
  },
  {
   "cell_type": "code",
   "execution_count": 3,
   "id": "bf9dcc79",
   "metadata": {},
   "outputs": [
    {
     "data": {
      "text/plain": [
       "((131, 254), (38, 254), (19, 254))"
      ]
     },
     "execution_count": 3,
     "metadata": {},
     "output_type": "execute_result"
    }
   ],
   "source": [
    "# Verify split data\n",
    "train.shape, validate.shape, test.shape"
   ]
  },
  {
   "cell_type": "markdown",
   "id": "2f563ef1",
   "metadata": {},
   "source": [
    "<div style='background-color: orange'>\n",
    "<a id='modelsdict'></a>\n",
    "    <b><u><i><h1 style='text-align: center'>\n",
    "        Models Dictionary Creation\n",
    "    </h1></i></u></b>\n",
    "<li><a href='#TableOfContents'>Table of Contents</a></li>"
   ]
  },
  {
   "cell_type": "code",
   "execution_count": 22,
   "id": "905f0a22",
   "metadata": {},
   "outputs": [],
   "source": [
    "# Create a dictionary that holds all the models for \n",
    "# easier comparison purposes...\n",
    "models_dict = {\n",
    "    'model_name' : [],\n",
    "    'model_type' : [],\n",
    "    'model_descriptor' : [],\n",
    "    'accuracy_train' : [],\n",
    "    'accuracy_val' : [],\n",
    "    'accuracy_diff' : [],\n",
    "    'recall_variable' : [],\n",
    "    'recall_train' : [],\n",
    "    'recall_val' : [],\n",
    "    'recall_diff' : []\n",
    "}"
   ]
  },
  {
   "cell_type": "markdown",
   "id": "16df6f89",
   "metadata": {},
   "source": [
    "<div style='background-color: orange'>\n",
    "<a id='baseline'></a>\n",
    "    <b><u><i><h1 style='text-align: center'>\n",
    "        Baseline Creation\n",
    "    </h1></i></u></b>\n",
    "<li><a href='#TableOfContents'>Table of Contents</a></li>"
   ]
  },
  {
   "cell_type": "code",
   "execution_count": 24,
   "id": "1556a6dd",
   "metadata": {},
   "outputs": [],
   "source": [
    "# Target value is 'shooter_volatility', thus create\n",
    "# baseline with mode value ('Low Volatility')\n",
    "baseline_train = round((train.shooter_volatility == train.shooter_volatility.mode()[0]).sum() / train.shape[0], 3)\n",
    "baseline_val = round((validate.shooter_volatility == validate.shooter_volatility.mode()[0]).sum() / validate.shape[0], 3)\n",
    "\n",
    "# Append to 'models_dict'\n",
    "models_dict['model_name'].append('Baseline')\n",
    "models_dict['model_type'].append('Baseline')\n",
    "models_dict['model_descriptor'].append('Mode = Low Volatility')\n",
    "models_dict['accuracy_train'].append(baseline_train)\n",
    "models_dict['accuracy_val'].append(baseline_val)\n",
    "models_dict['accuracy_diff'].append(baseline_val - baseline_train)\n",
    "models_dict['recall_variable'].append('High Volatility')\n",
    "models_dict['recall_train'].append(0.000)\n",
    "models_dict['recall_val'].append(0.000)\n",
    "models_dict['recall_diff'].append(0.000)"
   ]
  },
  {
   "cell_type": "code",
   "execution_count": 25,
   "id": "e9f7df62",
   "metadata": {},
   "outputs": [
    {
     "data": {
      "text/html": [
       "<div>\n",
       "<style scoped>\n",
       "    .dataframe tbody tr th:only-of-type {\n",
       "        vertical-align: middle;\n",
       "    }\n",
       "\n",
       "    .dataframe tbody tr th {\n",
       "        vertical-align: top;\n",
       "    }\n",
       "\n",
       "    .dataframe thead th {\n",
       "        text-align: right;\n",
       "    }\n",
       "</style>\n",
       "<table border=\"1\" class=\"dataframe\">\n",
       "  <thead>\n",
       "    <tr style=\"text-align: right;\">\n",
       "      <th></th>\n",
       "      <th>model_name</th>\n",
       "      <th>model_type</th>\n",
       "      <th>model_descriptor</th>\n",
       "      <th>accuracy_train</th>\n",
       "      <th>accuracy_val</th>\n",
       "      <th>accuracy_diff</th>\n",
       "      <th>recall_variable</th>\n",
       "      <th>recall_train</th>\n",
       "      <th>recall_val</th>\n",
       "      <th>recall_diff</th>\n",
       "    </tr>\n",
       "  </thead>\n",
       "  <tbody>\n",
       "    <tr>\n",
       "      <th>0</th>\n",
       "      <td>Baseline</td>\n",
       "      <td>Baseline</td>\n",
       "      <td>Mode = Low Volatility</td>\n",
       "      <td>0.634</td>\n",
       "      <td>0.632</td>\n",
       "      <td>-0.002</td>\n",
       "      <td>High Volatility</td>\n",
       "      <td>0.0</td>\n",
       "      <td>0.0</td>\n",
       "      <td>0.0</td>\n",
       "    </tr>\n",
       "  </tbody>\n",
       "</table>\n",
       "</div>"
      ],
      "text/plain": [
       "  model_name model_type       model_descriptor  accuracy_train  accuracy_val  \\\n",
       "0   Baseline   Baseline  Mode = Low Volatility           0.634         0.632   \n",
       "\n",
       "   accuracy_diff  recall_variable  recall_train  recall_val  recall_diff  \n",
       "0         -0.002  High Volatility           0.0         0.0          0.0  "
      ]
     },
     "execution_count": 25,
     "metadata": {},
     "output_type": "execute_result"
    }
   ],
   "source": [
    "# Check models_dict via pd.DataFrame\n",
    "pd.DataFrame(models_dict)"
   ]
  },
  {
   "cell_type": "markdown",
   "id": "ffc5126e",
   "metadata": {},
   "source": []
  },
  {
   "cell_type": "markdown",
   "id": "55a9033c",
   "metadata": {},
   "source": [
    "<div style='background-color: orange'>\n",
    "<a id='dtc'></a>\n",
    "    <b><u><i><h1 style='text-align: center'>\n",
    "        Decision Tree Classifier\n",
    "    </h1></i></u></b>\n",
    "<li><a href='#TableOfContents'>Table of Contents</a></li>"
   ]
  },
  {
   "cell_type": "code",
   "execution_count": null,
   "id": "0602a3bd",
   "metadata": {},
   "outputs": [],
   "source": []
  },
  {
   "cell_type": "markdown",
   "id": "b6664dfe",
   "metadata": {},
   "source": [
    "<div style='background-color: orange'>\n",
    "<a id='rfc'></a>\n",
    "    <b><u><i><h1 style='text-align: center'>\n",
    "        Random Forest Classifier\n",
    "    </h1></i></u></b>\n",
    "<li><a href='#TableOfContents'>Table of Contents</a></li>"
   ]
  },
  {
   "cell_type": "code",
   "execution_count": null,
   "id": "fed87591",
   "metadata": {},
   "outputs": [],
   "source": []
  },
  {
   "cell_type": "markdown",
   "id": "9d6d1f70",
   "metadata": {},
   "source": [
    "<div style='background-color: orange'>\n",
    "<a id='lr'></a>\n",
    "    <b><u><i><h1 style='text-align: center'>\n",
    "        Linear Regression\n",
    "    </h1></i></u></b>\n",
    "<li><a href='#TableOfContents'>Table of Contents</a></li>"
   ]
  },
  {
   "cell_type": "code",
   "execution_count": null,
   "id": "0caac488",
   "metadata": {},
   "outputs": [],
   "source": []
  },
  {
   "cell_type": "markdown",
   "id": "81c0be58",
   "metadata": {},
   "source": [
    "<div style='background-color: orange'>\n",
    "<a id='misc'></a>\n",
    "    <b><u><i><h1 style='text-align: center'>\n",
    "        Miscellaneous\n",
    "    </h1></i></u></b>\n",
    "<li><a href='#TableOfContents'>Table of Contents</a></li>"
   ]
  },
  {
   "cell_type": "code",
   "execution_count": null,
   "id": "7d9118c1",
   "metadata": {},
   "outputs": [],
   "source": []
  },
  {
   "cell_type": "code",
   "execution_count": null,
   "id": "54d5ed92",
   "metadata": {},
   "outputs": [],
   "source": []
  }
 ],
 "metadata": {
  "kernelspec": {
   "display_name": "Python 3 (ipykernel)",
   "language": "python",
   "name": "python3"
  },
  "language_info": {
   "codemirror_mode": {
    "name": "ipython",
    "version": 3
   },
   "file_extension": ".py",
   "mimetype": "text/x-python",
   "name": "python",
   "nbconvert_exporter": "python",
   "pygments_lexer": "ipython3",
   "version": "3.9.13"
  }
 },
 "nbformat": 4,
 "nbformat_minor": 5
}
