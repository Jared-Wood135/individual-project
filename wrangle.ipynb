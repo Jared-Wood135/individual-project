{
 "cells": [
  {
   "cell_type": "markdown",
   "id": "067c6c6b",
   "metadata": {},
   "source": [
    "<div style='background-color: orange'>\n",
    "<a id=\"TableOfContents\"></a>\n",
    "    <h1 style='text-align: center'>\n",
    "        <b><i>\n",
    "            TABLE OF CONTENTS:\n",
    "        </i></b></h1>\n",
    "<li><a href='#imports'>Imports</a></li>\n",
    "<li><a href=\"#acquire\">Acquire</a></li>\n",
    "<li><a href='#prepare'>Prepare</a></li>\n",
    "<li><a href=\"#wrangle\">Wrangle</a></li>\n",
    "<li><a href='#misc'>Miscellaneous</a></li>"
   ]
  },
  {
   "cell_type": "markdown",
   "id": "793b55d6",
   "metadata": {},
   "source": [
    "<div style='background-color: orange'>\n",
    "<a id=\"imports\"></a>\n",
    "    <h1 style='text-align: center'>\n",
    "        <b><i>\n",
    "            Imports\n",
    "        </i></b></h1>\n",
    "<li><a href='#TableOfContents'>Table of Contents</a></li>"
   ]
  },
  {
   "cell_type": "code",
   "execution_count": 3,
   "id": "beb5f3e4",
   "metadata": {},
   "outputs": [],
   "source": [
    "# Vectorization and tables\n",
    "import numpy as np\n",
    "import pandas as pd\n",
    "\n",
    "# .py files\n",
    "import wrangle as w"
   ]
  },
  {
   "cell_type": "markdown",
   "id": "84cd970a",
   "metadata": {},
   "source": [
    "<div style='background-color: orange'>\n",
    "<a id=\"acquire\"></a>\n",
    "    <h1 style='text-align: center'>\n",
    "        <b><i>\n",
    "            Acquire\n",
    "        </i></b></h1>\n",
    "<li><a href='#TableOfContents'>Table of Contents</a></li>"
   ]
  },
  {
   "cell_type": "markdown",
   "id": "9dbe69c7",
   "metadata": {},
   "source": [
    "Acquire everything from the vanilla mass_shooters database via excel sheet\n",
    "\n",
    "- mass_shooters Vanilla Shape:\n",
    "    - Rows: 189\n",
    "    - Columns: 153"
   ]
  },
  {
   "cell_type": "code",
   "execution_count": 4,
   "id": "d0df65b5",
   "metadata": {},
   "outputs": [
    {
     "data": {
      "text/plain": [
       "(189, 153)"
      ]
     },
     "execution_count": 4,
     "metadata": {},
     "output_type": "execute_result"
    }
   ],
   "source": [
    "# Acquire the vanilla data\n",
    "mass_shooters = pd.read_excel('mass_shooters.xlsx', sheet_name='Full Database', header=1)\n",
    "mass_shooters.shape"
   ]
  },
  {
   "cell_type": "code",
   "execution_count": 5,
   "id": "d6c66bc4",
   "metadata": {},
   "outputs": [
    {
     "data": {
      "text/plain": [
       "(189, 153)"
      ]
     },
     "execution_count": 5,
     "metadata": {},
     "output_type": "execute_result"
    }
   ],
   "source": [
    "# Verify .py file functionality\n",
    "mass_shooters_py = w.acquire_mass_shooters()\n",
    "mass_shooters_py.shape"
   ]
  },
  {
   "cell_type": "markdown",
   "id": "3fc72510",
   "metadata": {},
   "source": [
    "<div style='background-color: orange'>\n",
    "<a id=\"prepare\"></a>\n",
    "    <h1 style='text-align: center'>\n",
    "        <b><i>\n",
    "            Prepare\n",
    "        </i></b></h1>\n",
    "<li><a href='#TableOfContents'>Table of Contents</a></li>\n",
    "<li><a href='#preparedrop'>Drop Data</a></li>\n",
    "<li><a href='#preparenull'>Null Handling</a></li>\n",
    "<li><a href='#preparedtypes'>Dtype Cleaning</a></li>\n",
    "<li><a href='#preparetext'>Text Modifications</a></li>\n",
    "<li><a href='#preparesummary'>Summary of Preparation</a></li>"
   ]
  },
  {
   "cell_type": "markdown",
   "id": "2867d09c",
   "metadata": {},
   "source": [
    "<a id='preparedrop'></a>\n",
    "<h3><b><i>\n",
    "    Drop Data\n",
    "</i></b></h3>\n",
    "<li><a href='#prepare'>Prepare Top</a></li>"
   ]
  },
  {
   "cell_type": "markdown",
   "id": "9b68c907",
   "metadata": {},
   "source": [
    "- 1 Row\n",
    "    - Missing majority of info\n",
    "- 47 columns\n",
    "    - Useless in scope of predictive value\n",
    "    - Percent nulls above 20%"
   ]
  },
  {
   "cell_type": "code",
   "execution_count": 6,
   "id": "38a01725",
   "metadata": {},
   "outputs": [],
   "source": [
    "# Remove row '145, 146' (Too many nulls)\n",
    "mass_shooters = mass_shooters.drop(mass_shooters[mass_shooters['Case #'] == '145, 146'].index)"
   ]
  },
  {
   "cell_type": "code",
   "execution_count": 7,
   "id": "fac3ec13",
   "metadata": {},
   "outputs": [],
   "source": [
    "# Drop cols that aren't necessary\n",
    "# Generally anything that would've been known during\n",
    "# and/or after the shooting\n",
    "# 29 columns\n",
    "drop_perpetratorname_cols = [\n",
    "    'Shooter Last Name',\n",
    "    'Shooter First Name'\n",
    "]\n",
    "\n",
    "drop_date_cols = [\n",
    "    'Full Date'\n",
    "]\n",
    "\n",
    "drop_location_cols = [\n",
    "    'Street Number',\n",
    "    'Street Name',\n",
    "    'Zip Code',\n",
    "    'Latitude',\n",
    "    'Longitude',\n",
    "    'State Code',\n",
    "    'Region',\n",
    "    'Metro/Micro Statistical Area Type',\n",
    "    'Location',\n",
    "    'Insider or Outsider',\n",
    "    'Workplace Shooting',\n",
    "    'Multiple Locations',\n",
    "    'Other Location',\n",
    "    'Armed Person on Scene',\n",
    "    'Specify Armed Person'\n",
    "]\n",
    "\n",
    "drop_victim_cols = [\n",
    "    'Family Member Victim',\n",
    "    'Romantic Partner Victim',\n",
    "    'Kidnapping or Hostage Situation'\n",
    "]\n",
    "\n",
    "drop_weapons_cols = [\n",
    "    'Total Firearms Brought to the Scene',\n",
    "    'Other Weapons or Gear',\n",
    "    'Specify Other Weapons or Gear',\n",
    "]\n",
    "\n",
    "drop_resolutionofcase_cols = [\n",
    "    'On-Scene Outcome',\n",
    "    'Who Killed Shooter On Scene',\n",
    "    'Attempt to Flee',\n",
    "    'Insanity Defense',\n",
    "    'Criminal Sentence'\n",
    "]"
   ]
  },
  {
   "cell_type": "code",
   "execution_count": 8,
   "id": "8f4b29ba",
   "metadata": {},
   "outputs": [],
   "source": [
    "# Drop the above cols\n",
    "mass_shooters = mass_shooters.drop(columns=drop_perpetratorname_cols)\n",
    "mass_shooters = mass_shooters.drop(columns=drop_date_cols)\n",
    "mass_shooters = mass_shooters.drop(columns=drop_location_cols)\n",
    "mass_shooters = mass_shooters.drop(columns=drop_victim_cols)\n",
    "mass_shooters = mass_shooters.drop(columns=drop_weapons_cols)\n",
    "mass_shooters = mass_shooters.drop(columns=drop_resolutionofcase_cols)"
   ]
  },
  {
   "cell_type": "code",
   "execution_count": 9,
   "id": "30923a6c",
   "metadata": {},
   "outputs": [
    {
     "data": {
      "text/plain": [
       "(188, 124)"
      ]
     },
     "execution_count": 9,
     "metadata": {},
     "output_type": "execute_result"
    }
   ],
   "source": [
    "mass_shooters.shape"
   ]
  },
  {
   "cell_type": "code",
   "execution_count": 10,
   "id": "1dcf4ff3",
   "metadata": {},
   "outputs": [],
   "source": [
    "# Drop cols based off of a null percent cutoff\n",
    "# 21 columns\n",
    "mass_shooters, drop_null_pct_dict = drop_nullpct(mass_shooters, 0.20)"
   ]
  },
  {
   "cell_type": "code",
   "execution_count": 11,
   "id": "bf2a4cdf",
   "metadata": {},
   "outputs": [
    {
     "data": {
      "text/html": [
       "<div>\n",
       "<style scoped>\n",
       "    .dataframe tbody tr th:only-of-type {\n",
       "        vertical-align: middle;\n",
       "    }\n",
       "\n",
       "    .dataframe tbody tr th {\n",
       "        vertical-align: top;\n",
       "    }\n",
       "\n",
       "    .dataframe thead th {\n",
       "        text-align: right;\n",
       "    }\n",
       "</style>\n",
       "<table border=\"1\" class=\"dataframe\">\n",
       "  <thead>\n",
       "    <tr style=\"text-align: right;\">\n",
       "      <th></th>\n",
       "      <th>column_name</th>\n",
       "      <th>percent_null</th>\n",
       "    </tr>\n",
       "  </thead>\n",
       "  <tbody>\n",
       "    <tr>\n",
       "      <th>0</th>\n",
       "      <td>Height</td>\n",
       "      <td>0.702128</td>\n",
       "    </tr>\n",
       "    <tr>\n",
       "      <th>1</th>\n",
       "      <td>Weight</td>\n",
       "      <td>0.760638</td>\n",
       "    </tr>\n",
       "    <tr>\n",
       "      <th>2</th>\n",
       "      <td>Religion</td>\n",
       "      <td>0.505319</td>\n",
       "    </tr>\n",
       "    <tr>\n",
       "      <th>3</th>\n",
       "      <td>Education</td>\n",
       "      <td>0.265957</td>\n",
       "    </tr>\n",
       "    <tr>\n",
       "      <th>4</th>\n",
       "      <td>School Performance</td>\n",
       "      <td>0.531915</td>\n",
       "    </tr>\n",
       "    <tr>\n",
       "      <th>5</th>\n",
       "      <td>School Performance Specified</td>\n",
       "      <td>0.526596</td>\n",
       "    </tr>\n",
       "    <tr>\n",
       "      <th>6</th>\n",
       "      <td>Birth Order</td>\n",
       "      <td>0.420213</td>\n",
       "    </tr>\n",
       "    <tr>\n",
       "      <th>7</th>\n",
       "      <td>Number of Siblings</td>\n",
       "      <td>0.255319</td>\n",
       "    </tr>\n",
       "    <tr>\n",
       "      <th>8</th>\n",
       "      <td>Older Siblings</td>\n",
       "      <td>0.436170</td>\n",
       "    </tr>\n",
       "    <tr>\n",
       "      <th>9</th>\n",
       "      <td>Younger Siblings</td>\n",
       "      <td>0.446809</td>\n",
       "    </tr>\n",
       "    <tr>\n",
       "      <th>10</th>\n",
       "      <td>Military Branch</td>\n",
       "      <td>0.744681</td>\n",
       "    </tr>\n",
       "    <tr>\n",
       "      <th>11</th>\n",
       "      <td>Community Involvement Specified</td>\n",
       "      <td>0.680851</td>\n",
       "    </tr>\n",
       "    <tr>\n",
       "      <th>12</th>\n",
       "      <td>Childhood SES</td>\n",
       "      <td>0.297872</td>\n",
       "    </tr>\n",
       "    <tr>\n",
       "      <th>13</th>\n",
       "      <td>Psychiatric Medication Specified</td>\n",
       "      <td>0.765957</td>\n",
       "    </tr>\n",
       "    <tr>\n",
       "      <th>14</th>\n",
       "      <td>Medication Category</td>\n",
       "      <td>0.771277</td>\n",
       "    </tr>\n",
       "    <tr>\n",
       "      <th>15</th>\n",
       "      <td>Health Issues - Specify</td>\n",
       "      <td>0.760638</td>\n",
       "    </tr>\n",
       "    <tr>\n",
       "      <th>16</th>\n",
       "      <td>Leakage How</td>\n",
       "      <td>0.547872</td>\n",
       "    </tr>\n",
       "    <tr>\n",
       "      <th>17</th>\n",
       "      <td>Leakage Who</td>\n",
       "      <td>0.553191</td>\n",
       "    </tr>\n",
       "    <tr>\n",
       "      <th>18</th>\n",
       "      <td>Leakage Specific/Nonspecific</td>\n",
       "      <td>0.537234</td>\n",
       "    </tr>\n",
       "    <tr>\n",
       "      <th>19</th>\n",
       "      <td>Specify Relationship to Other Shooting(s)</td>\n",
       "      <td>0.872340</td>\n",
       "    </tr>\n",
       "    <tr>\n",
       "      <th>20</th>\n",
       "      <td>Specify Pop Culture Connection</td>\n",
       "      <td>0.893617</td>\n",
       "    </tr>\n",
       "  </tbody>\n",
       "</table>\n",
       "</div>"
      ],
      "text/plain": [
       "                                  column_name  percent_null\n",
       "0                                      Height      0.702128\n",
       "1                                      Weight      0.760638\n",
       "2                                    Religion      0.505319\n",
       "3                                   Education      0.265957\n",
       "4                          School Performance      0.531915\n",
       "5                School Performance Specified      0.526596\n",
       "6                                 Birth Order      0.420213\n",
       "7                          Number of Siblings      0.255319\n",
       "8                              Older Siblings      0.436170\n",
       "9                            Younger Siblings      0.446809\n",
       "10                            Military Branch      0.744681\n",
       "11            Community Involvement Specified      0.680851\n",
       "12                              Childhood SES      0.297872\n",
       "13           Psychiatric Medication Specified      0.765957\n",
       "14                        Medication Category      0.771277\n",
       "15                    Health Issues - Specify      0.760638\n",
       "16                                Leakage How      0.547872\n",
       "17                               Leakage Who       0.553191\n",
       "18              Leakage Specific/Nonspecific       0.537234\n",
       "19  Specify Relationship to Other Shooting(s)      0.872340\n",
       "20             Specify Pop Culture Connection      0.893617"
      ]
     },
     "execution_count": 11,
     "metadata": {},
     "output_type": "execute_result"
    }
   ],
   "source": [
    "# Get list and percentages of everything dropped\n",
    "pd.DataFrame(drop_null_pct_dict)"
   ]
  },
  {
   "cell_type": "code",
   "execution_count": 12,
   "id": "4d97a463",
   "metadata": {},
   "outputs": [
    {
     "data": {
      "text/plain": [
       "(188, 103)"
      ]
     },
     "execution_count": 12,
     "metadata": {},
     "output_type": "execute_result"
    }
   ],
   "source": [
    "mass_shooters.shape"
   ]
  },
  {
   "cell_type": "code",
   "execution_count": 13,
   "id": "b7cb78b1",
   "metadata": {},
   "outputs": [],
   "source": [
    "drop_notmuchinsight_cols = [\n",
    "    'Adult Trauma'\n",
    "]"
   ]
  },
  {
   "cell_type": "markdown",
   "id": "a798d2fd",
   "metadata": {},
   "source": [
    "---"
   ]
  },
  {
   "cell_type": "markdown",
   "id": "cec4cdc3",
   "metadata": {},
   "source": [
    "<a id='preparenull'></a>\n",
    "<h3><b><i>\n",
    "    Null Handling\n",
    "</i></b></h3>\n",
    "<li><a href='#prepare'>Prepare Top</a></li>"
   ]
  },
  {
   "cell_type": "code",
   "execution_count": 14,
   "id": "24f4d48d",
   "metadata": {},
   "outputs": [
    {
     "data": {
      "text/plain": [
       "45"
      ]
     },
     "execution_count": 14,
     "metadata": {},
     "output_type": "execute_result"
    }
   ],
   "source": [
    "# Identify cols with nulls\n",
    "has_nulls = check_nulls(mass_shooters)\n",
    "len(has_nulls)"
   ]
  },
  {
   "cell_type": "markdown",
   "id": "dec0b547",
   "metadata": {},
   "source": [
    "45 columns out of 106 columns with nulls:\n",
    "\n",
    "- Fill with mode\n",
    "    - 44 columns\n",
    "- Fill uniquely\n",
    "    - 1 columns ('None')"
   ]
  },
  {
   "cell_type": "code",
   "execution_count": 15,
   "id": "529b67d5",
   "metadata": {},
   "outputs": [],
   "source": [
    "# Filling nulls\n",
    "mass_shooters['Signs of Crisis Expanded'] = mass_shooters['Signs of Crisis Expanded'].fillna('None')\n",
    "for col in has_nulls:\n",
    "    mass_shooters[col] = mass_shooters[col].fillna(mass_shooters[col].mode()[0])"
   ]
  },
  {
   "cell_type": "code",
   "execution_count": 16,
   "id": "9cf9982e",
   "metadata": {},
   "outputs": [
    {
     "data": {
      "text/plain": [
       "0"
      ]
     },
     "execution_count": 16,
     "metadata": {},
     "output_type": "execute_result"
    }
   ],
   "source": [
    "# Recheck for any nulls\n",
    "has_nulls_verify = check_nulls(mass_shooters)\n",
    "len(has_nulls_verify)"
   ]
  },
  {
   "cell_type": "markdown",
   "id": "02829991",
   "metadata": {},
   "source": [
    "---"
   ]
  },
  {
   "cell_type": "markdown",
   "id": "a91311dd",
   "metadata": {},
   "source": [
    "<a id='preparedtypes'></a>\n",
    "<h3><b><i>\n",
    "    Dtype Cleaning\n",
    "</i></b></h3>\n",
    "<li><a href='#prepare'>Prepare Top</a></li>"
   ]
  },
  {
   "cell_type": "markdown",
   "id": "d7ba9ce1",
   "metadata": {},
   "source": [
    "103 columns out of 103 columns:\n",
    "\n",
    "- Object\n",
    "    - 20 Columns\n",
    "        - 'Case #'\n",
    "        - 'Day of Week'\n",
    "        - 'Day'\n",
    "        - 'City'\n",
    "        - 'State'\n",
    "        - 'County'\n",
    "        - 'Race'\n",
    "        - 'Employment Status',\n",
    "        - 'Criminal Record',\n",
    "        - 'Part I Crimes',\n",
    "        - 'Part II Crimes',\n",
    "        - 'Domestic Abuse Specified',\n",
    "        - 'Adult Trauma',\n",
    "        - 'Recent or Ongoing Stressor',\n",
    "        - 'Signs of Crisis Expanded',\n",
    "        - 'Voluntary or Mandatory Counseling',\n",
    "        - 'Mental Illness',\n",
    "        - 'Known Family Mental Health History',\n",
    "        - 'Substance Use',\n",
    "        - 'Known Prejudices\\xa0'\n",
    "- Float\n",
    "    - 78 Columns\n",
    "        - 'Age',\n",
    "        - 'Gender',\n",
    "        - 'Immigrant',\n",
    "        - 'Sexual Orientation',\n",
    "        - 'Relationship Status',\n",
    "        - 'Children',\n",
    "        - 'Employment Type\\xa0',\n",
    "        - 'Military Service',\n",
    "        - 'Community Involvement',\n",
    "        - 'Known to Police or FBI',\n",
    "        - 'Highest Level of Justice System Involvement',\n",
    "        - 'History of Physical Altercations',\n",
    "        - 'History of Animal Abuse',\n",
    "        - 'History of Domestic Abuse',\n",
    "        - 'History of Sexual Offenses',\n",
    "        - 'Gang Affiliation',\n",
    "        - 'Terror Group Affiliation',\n",
    "        - 'Known Hate Group or Chat Room Affiliation',\n",
    "        - 'Violent Video Games',\n",
    "        - 'Bully',\n",
    "        - 'Bullied',\n",
    "        - 'Raised by Single Parent',\n",
    "        - 'Parental Divorce / Separation',\n",
    "        - 'Parental Death in Childhood',\n",
    "        - 'Parental Suicide',\n",
    "        - 'Childhood Trauma',\n",
    "        - 'Physically Abused',\n",
    "        - 'Sexually Abused',\n",
    "        - 'Emotionally Abused',\n",
    "        - 'Neglected',\n",
    "        - 'Mother Violent Treatment',\n",
    "        - 'Parental Substance Abuse',\n",
    "        - 'Parent Criminal Record',\n",
    "        - 'Family Member Incarcerated',\n",
    "        - 'Signs of Being in Crisis',\n",
    "        - 'Timeline of Signs of Crisis',\n",
    "        - 'Inability to Perform Daily Tasks',\n",
    "        - 'Notably Depressed Mood',\n",
    "        - 'Unusually Calm or Happy',\n",
    "        - 'Rapid Mood Swings',\n",
    "        - 'Increased Agitation',\n",
    "        - 'Abusive Behavior',\n",
    "        - 'Isolation',\n",
    "        - 'Losing Touch with Reality',\n",
    "        - 'Paranoia',\n",
    "        - 'Suicidality',\n",
    "        - 'Prior Hospitalization',\n",
    "        - 'Voluntary or Involuntary Hospitalization',\n",
    "        - 'Prior Counseling',\n",
    "        - 'Psychiatric Medication',\n",
    "        - 'Treatment 6 Months Prior to Shooting',\n",
    "        - 'FASD (Fetal Alcohol Spectrum Disorder)',\n",
    "        - 'Autism Spectrum',\n",
    "        - 'Health Issues',\n",
    "        - 'Head Injury / Possible TBI',\n",
    "        - 'Motive: Racism/Xenophobia',\n",
    "        - 'Motive: Religious Hate',\n",
    "        - 'Motive: Misogyny',\n",
    "        - 'Motive: Homophobia',\n",
    "        - 'Motive: Employment Issue',\n",
    "        - 'Motive: Economic Issue',\n",
    "        - 'Motive: Legal Issue',\n",
    "        - 'Motive: Relationship Issue',\n",
    "        - 'Motive: Interpersonal Conflict\\xa0',\n",
    "        - 'Motive: Fame-Seeking',\n",
    "        - 'Motive: Other\\xa0',\n",
    "        - 'Motive: Unknown',\n",
    "        - 'Role of Psychosis in the Shooting',\n",
    "        - 'Social Media Use\\xa0',\n",
    "        - 'Leakage\\xa0',\n",
    "        - 'Interest in Past Mass Violence',\n",
    "        - 'Relationship with Other Shooting(s)',\n",
    "        - 'Legacy Token',\n",
    "        - 'Pop Culture Connection',\n",
    "        - 'Planning',\n",
    "        - 'Performance',\n",
    "        - 'Interest in Firearms',\n",
    "        - 'Firearm Proficiency'\n",
    "- Int\n",
    "    - 5 Columns\n",
    "        - 'Month', \n",
    "        - 'Year', \n",
    "        - 'Urban/Suburban/Rural', \n",
    "        - 'Number Killed', \n",
    "        - 'Number Injured']"
   ]
  },
  {
   "cell_type": "code",
   "execution_count": 17,
   "id": "542ada35",
   "metadata": {},
   "outputs": [],
   "source": [
    "# Ensure there are no ' ' values...\n",
    "for col in mass_shooters.columns:\n",
    "    if mass_shooters[col].dtype == 'object':\n",
    "        if mass_shooters[col].apply(lambda x: isinstance(x, str) and x.isspace()).any():\n",
    "            mass_shooters[col].replace(r'^\\s*$', np.nan, regex=True, inplace=True)\n",
    "            mass_shooters[col].fillna(mass_shooters[col].mode()[0], inplace=True)"
   ]
  },
  {
   "cell_type": "code",
   "execution_count": 45,
   "id": "a8d8726f",
   "metadata": {},
   "outputs": [],
   "source": [
    "# Change Object Columns\n",
    "mass_shooters['Case #'] = mass_shooters['Case #'].astype(int)\n",
    "mass_shooters['Day'] = np.where(mass_shooters['Day'] == '19-20', 19, mass_shooters['Day'])\n",
    "mass_shooters['Day'] = mass_shooters['Day'].astype(int)\n",
    "mass_shooters['Race'] = np.where(mass_shooters['Race'] == 'Moroccan', 6, mass_shooters['Race'])\n",
    "mass_shooters['Race'] = np.where(mass_shooters['Race'] == 'Bosnian', 7, mass_shooters['Race'])\n",
    "mass_shooters['Race'] = mass_shooters['Race'].astype(int)\n",
    "mass_shooters['Criminal Record'] = np.where(mass_shooters['Criminal Record'] == '1`', 1, mass_shooters['Criminal Record'])\n",
    "mass_shooters['Criminal Record'] = mass_shooters['Criminal Record'].astype(int)\n",
    "mass_shooters['Adult Trauma'] = np.where(mass_shooters['Adult Trauma'] == '1, 3', 1, mass_shooters['Adult Trauma'])\n",
    "mass_shooters['Adult Trauma'] = mass_shooters['Adult Trauma'].astype(int)\n",
    "mass_shooters['Voluntary or Mandatory Counseling'] = np.where(mass_shooters['Voluntary or Mandatory Counseling'] == '1, 2', 3, mass_shooters['Voluntary or Mandatory Counseling'])\n",
    "mass_shooters['Voluntary or Mandatory Counseling'] = mass_shooters['Voluntary or Mandatory Counseling'].astype(int)\n",
    "mass_shooters['Mental Illness'] = np.where(mass_shooters['Mental Illness'] == '1, 2', 5, mass_shooters['Mental Illness'])\n",
    "mass_shooters['Mental Illness'] = mass_shooters['Mental Illness'].astype(int)\n",
    "mass_shooters['Known Family Mental Health History'] = np.where(mass_shooters['Known Family Mental Health History'] == '1, 2', 1, mass_shooters['Known Family Mental Health History'])\n",
    "mass_shooters['Known Family Mental Health History'] = mass_shooters['Known Family Mental Health History'].astype(int)\n"
   ]
  },
  {
   "cell_type": "code",
   "execution_count": 50,
   "id": "8ed8beda",
   "metadata": {},
   "outputs": [
    {
     "data": {
      "text/plain": [
       "0.0    160\n",
       "1.0     28\n",
       "Name: Immigrant, dtype: int64"
      ]
     },
     "execution_count": 50,
     "metadata": {},
     "output_type": "execute_result"
    }
   ],
   "source": [
    "mass_shooters['Immigrant'].value_counts()"
   ]
  },
  {
   "cell_type": "code",
   "execution_count": null,
   "id": "0a2cc080",
   "metadata": {},
   "outputs": [],
   "source": [
    "# Change Float Columns\n",
    "mass_shooters['Age'] = mass_shooters['Age'].astype(int)\n",
    "mass_shooters['Gender'] = np.where(mass_shooters['Gender'] == 3.0, 0, mass_shooters['Gender'])\n",
    "mass_shooters['Gender'] = mass_shooters['Gender'].astype(int)\n",
    "mass_shooters['Immigrant'] = mass_shooters['Immigrant'].astype(int)"
   ]
  },
  {
   "cell_type": "markdown",
   "id": "6c523197",
   "metadata": {},
   "source": [
    "---"
   ]
  },
  {
   "cell_type": "markdown",
   "id": "5268f3b7",
   "metadata": {},
   "source": [
    "<a id='preparetext'></a>\n",
    "<h3><b><i>\n",
    "    Text Modification\n",
    "</i></b></h3>\n",
    "<li><a href='#prepare'>Prepare Top</a></li>"
   ]
  },
  {
   "cell_type": "code",
   "execution_count": null,
   "id": "be359a27",
   "metadata": {},
   "outputs": [],
   "source": []
  },
  {
   "cell_type": "markdown",
   "id": "dd21c306",
   "metadata": {},
   "source": [
    "---"
   ]
  },
  {
   "cell_type": "markdown",
   "id": "5d24dddc",
   "metadata": {},
   "source": [
    "<a id='preparesummary'></a>\n",
    "<h3><b><i>\n",
    "    Summary of Preparation\n",
    "</i></b></h3>\n",
    "<li><a href='#prepare'>Prepare Top</a></li>\n",
    "\n",
    "- Dropped Data\n",
    "    - 1 Row\n",
    "        - Missing majority of info\n",
    "    - 47 columns\n",
    "        - Useless in scope of predictive value\n",
    "        - Percent nulls above 20%\n",
    "- Dtype Cleaning\n",
    "- Null Handling\n",
    "- Text Modifications"
   ]
  },
  {
   "cell_type": "markdown",
   "id": "56c707c4",
   "metadata": {},
   "source": [
    "<div style='background-color: orange'>\n",
    "<a id=\"wrangle\"></a>\n",
    "    <h1 style='text-align: center'>\n",
    "        <b><i>\n",
    "            Wrangle\n",
    "        </i></b></h1>\n",
    "<li><a href='#TableOfContents'>Table of Contents</a></li>"
   ]
  },
  {
   "cell_type": "code",
   "execution_count": null,
   "id": "49c8d9b8",
   "metadata": {},
   "outputs": [],
   "source": []
  },
  {
   "cell_type": "markdown",
   "id": "df3853ba",
   "metadata": {},
   "source": [
    "<div style='background-color: orange'>\n",
    "<a id=\"misc\"></a>\n",
    "    <h1 style='text-align: center'>\n",
    "        <b><i>\n",
    "            Miscellaneous\n",
    "        </i></b></h1>\n",
    "<li><a href='#TableOfContents'>Table of Contents</a></li>"
   ]
  },
  {
   "cell_type": "code",
   "execution_count": 1,
   "id": "8df3957e",
   "metadata": {},
   "outputs": [],
   "source": [
    "def drop_nullpct(df, percent_cutoff):\n",
    "    '''\n",
    "    Takes in a dataframe and a percent_cutoff of nulls to drop a column on\n",
    "    and returns the new dataframe and a dictionary of dropped columns and their pct...\n",
    "    \n",
    "    INPUT:\n",
    "    df = pandas dataframe\n",
    "    percent_cutoff = Null percent cutoff amount\n",
    "    \n",
    "    OUTPUT:\n",
    "    new_df = pandas dataframe with dropped columns\n",
    "    drop_null_pct_dict = dict of column names dropped and pcts\n",
    "    '''\n",
    "    drop_null_pct_dict = {\n",
    "        'column_name' : [],\n",
    "        'percent_null' : []\n",
    "    }\n",
    "    for col in df:\n",
    "        pct = df[col].isna().sum() / df.shape[0]\n",
    "        if pct > 0.20:\n",
    "            df = df.drop(columns=col)\n",
    "            drop_null_pct_dict['column_name'].append(col)\n",
    "            drop_null_pct_dict['percent_null'].append(pct)\n",
    "    new_df = df\n",
    "    return new_df, drop_null_pct_dict"
   ]
  },
  {
   "cell_type": "code",
   "execution_count": 2,
   "id": "54c45bc8",
   "metadata": {},
   "outputs": [],
   "source": [
    "def check_nulls(df):\n",
    "    '''\n",
    "    Takes a dataframe and returns a list of columns that has at least one null value\n",
    "    \n",
    "    INPUT:\n",
    "    df = pandas dataframe\n",
    "    \n",
    "    OUTPUT:\n",
    "    has_nulls = List of column names with at least one null\n",
    "    '''\n",
    "    has_nulls = []\n",
    "    for col in df:\n",
    "        nulls = df[col].isna().sum()\n",
    "        if nulls > 0:\n",
    "            has_nulls.append(col)\n",
    "    return has_nulls"
   ]
  },
  {
   "cell_type": "code",
   "execution_count": null,
   "id": "a0d12c11",
   "metadata": {},
   "outputs": [],
   "source": []
  }
 ],
 "metadata": {
  "kernelspec": {
   "display_name": "Python 3 (ipykernel)",
   "language": "python",
   "name": "python3"
  },
  "language_info": {
   "codemirror_mode": {
    "name": "ipython",
    "version": 3
   },
   "file_extension": ".py",
   "mimetype": "text/x-python",
   "name": "python",
   "nbconvert_exporter": "python",
   "pygments_lexer": "ipython3",
   "version": "3.9.13"
  }
 },
 "nbformat": 4,
 "nbformat_minor": 5
}
