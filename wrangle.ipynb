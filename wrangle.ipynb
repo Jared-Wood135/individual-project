{
 "cells": [
  {
   "cell_type": "markdown",
   "id": "067c6c6b",
   "metadata": {},
   "source": [
    "<div style='background-color: orange'>\n",
    "<a id=\"TableOfContents\"></a>\n",
    "    <h1 style='text-align: center'>\n",
    "        <b><i>\n",
    "            TABLE OF CONTENTS:\n",
    "        </i></b></h1>\n",
    "<li><a href='#imports'>Imports</a></li>\n",
    "<li><a href=\"#acquire\">Acquire</a></li>\n",
    "<li><a href='#prepare'>Prepare</a></li>\n",
    "<li><a href=\"#wrangle\">Wrangle</a></li>\n",
    "<li><a href='#misc'>Miscellaneous</a></li>"
   ]
  },
  {
   "cell_type": "markdown",
   "id": "793b55d6",
   "metadata": {},
   "source": [
    "<div style='background-color: orange'>\n",
    "<a id=\"imports\"></a>\n",
    "    <h1 style='text-align: center'>\n",
    "        <b><i>\n",
    "            Imports\n",
    "        </i></b></h1>\n",
    "<li><a href='#TableOfContents'>Table of Contents</a></li>"
   ]
  },
  {
   "cell_type": "code",
   "execution_count": 184,
   "id": "beb5f3e4",
   "metadata": {},
   "outputs": [],
   "source": [
    "# Vectorization and tables\n",
    "import numpy as np\n",
    "import pandas as pd\n",
    "\n",
    "# Ignore Warnings\n",
    "import warnings\n",
    "warnings.filterwarnings('ignore')\n",
    "\n",
    "# .py files\n",
    "import wrangle as w"
   ]
  },
  {
   "cell_type": "markdown",
   "id": "84cd970a",
   "metadata": {},
   "source": [
    "<div style='background-color: orange'>\n",
    "<a id=\"acquire\"></a>\n",
    "    <h1 style='text-align: center'>\n",
    "        <b><i>\n",
    "            Acquire\n",
    "        </i></b></h1>\n",
    "<li><a href='#TableOfContents'>Table of Contents</a></li>"
   ]
  },
  {
   "cell_type": "markdown",
   "id": "9dbe69c7",
   "metadata": {},
   "source": [
    "Acquire everything from the vanilla mass_shooters database via excel sheet\n",
    "\n",
    "- mass_shooters Vanilla Shape:\n",
    "    - Rows: 189\n",
    "    - Columns: 153"
   ]
  },
  {
   "cell_type": "code",
   "execution_count": 144,
   "id": "d0df65b5",
   "metadata": {},
   "outputs": [
    {
     "data": {
      "text/plain": [
       "(189, 153)"
      ]
     },
     "execution_count": 144,
     "metadata": {},
     "output_type": "execute_result"
    }
   ],
   "source": [
    "# Acquire the vanilla data\n",
    "mass_shooters = pd.read_excel('mass_shooters.xlsx', sheet_name='Full Database', header=1)\n",
    "mass_shooters.shape"
   ]
  },
  {
   "cell_type": "code",
   "execution_count": 145,
   "id": "d6c66bc4",
   "metadata": {},
   "outputs": [
    {
     "data": {
      "text/plain": [
       "(189, 153)"
      ]
     },
     "execution_count": 145,
     "metadata": {},
     "output_type": "execute_result"
    }
   ],
   "source": [
    "# Verify .py file functionality\n",
    "mass_shooters_py = w.acquire_mass_shooters()\n",
    "mass_shooters_py.shape"
   ]
  },
  {
   "cell_type": "markdown",
   "id": "3fc72510",
   "metadata": {},
   "source": [
    "<div style='background-color: orange'>\n",
    "<a id=\"prepare\"></a>\n",
    "    <h1 style='text-align: center'>\n",
    "        <b><i>\n",
    "            Prepare\n",
    "        </i></b></h1>\n",
    "<li><a href='#TableOfContents'>Table of Contents</a></li>\n",
    "<li><a href='#preparedrop'>Drop Data</a></li>\n",
    "<li><a href='#preparenull'>Null Handling</a></li>\n",
    "<li><a href='#preparedtypes'>Dtype Cleaning</a></li>\n",
    "<li><a href='#preparedisseminate'>Disseminate Column Information</a></li>\n",
    "<li><a href='#preparetext'>Text Modifications</a></li>\n",
    "<li><a href='#preparesummary'>Summary of Preparation</a></li>"
   ]
  },
  {
   "cell_type": "markdown",
   "id": "fa9dbd13",
   "metadata": {},
   "source": [
    "<a id='preparedrop'></a>\n",
    "<h3><b><i>\n",
    "    Drop Data\n",
    "</i></b></h3>\n",
    "<li><a href='#prepare'>Prepare Top</a></li>"
   ]
  },
  {
   "cell_type": "markdown",
   "id": "06757ae1",
   "metadata": {},
   "source": [
    "- 1 Row\n",
    "    - Missing majority of info\n",
    "- 47 columns\n",
    "    - Useless in scope of predictive value\n",
    "    - Percent nulls above 20%"
   ]
  },
  {
   "cell_type": "code",
   "execution_count": 146,
   "id": "38a01725",
   "metadata": {},
   "outputs": [],
   "source": [
    "# Remove row '145, 146' (Too many nulls)\n",
    "mass_shooters = mass_shooters.drop(mass_shooters[mass_shooters['Case #'] == '145, 146'].index)"
   ]
  },
  {
   "cell_type": "code",
   "execution_count": 147,
   "id": "6f8cd8c7",
   "metadata": {},
   "outputs": [],
   "source": [
    "# Drop cols that aren't necessary\n",
    "# Generally anything that would've been known during\n",
    "# and/or after the shooting\n",
    "# 29 columns\n",
    "drop_perpetratorname_cols = [\n",
    "    'Shooter Last Name',\n",
    "    'Shooter First Name'\n",
    "]\n",
    "\n",
    "drop_date_cols = [\n",
    "    'Full Date'\n",
    "]\n",
    "\n",
    "drop_location_cols = [\n",
    "    'Street Number',\n",
    "    'Street Name',\n",
    "    'Zip Code',\n",
    "    'Latitude',\n",
    "    'Longitude',\n",
    "    'State Code',\n",
    "    'Region',\n",
    "    'Metro/Micro Statistical Area Type',\n",
    "    'Location',\n",
    "    'Insider or Outsider',\n",
    "    'Workplace Shooting',\n",
    "    'Multiple Locations',\n",
    "    'Other Location',\n",
    "    'Armed Person on Scene',\n",
    "    'Specify Armed Person'\n",
    "]\n",
    "\n",
    "drop_victim_cols = [\n",
    "    'Family Member Victim',\n",
    "    'Romantic Partner Victim',\n",
    "    'Kidnapping or Hostage Situation'\n",
    "]\n",
    "\n",
    "drop_weapons_cols = [\n",
    "    'Total Firearms Brought to the Scene',\n",
    "    'Other Weapons or Gear',\n",
    "    'Specify Other Weapons or Gear',\n",
    "]\n",
    "\n",
    "drop_resolutionofcase_cols = [\n",
    "    'On-Scene Outcome',\n",
    "    'Who Killed Shooter On Scene',\n",
    "    'Attempt to Flee',\n",
    "    'Insanity Defense',\n",
    "    'Criminal Sentence'\n",
    "]"
   ]
  },
  {
   "cell_type": "code",
   "execution_count": 148,
   "id": "e0b448ac",
   "metadata": {},
   "outputs": [],
   "source": [
    "# Drop the above cols\n",
    "mass_shooters = mass_shooters.drop(columns=drop_perpetratorname_cols)\n",
    "mass_shooters = mass_shooters.drop(columns=drop_date_cols)\n",
    "mass_shooters = mass_shooters.drop(columns=drop_location_cols)\n",
    "mass_shooters = mass_shooters.drop(columns=drop_victim_cols)\n",
    "mass_shooters = mass_shooters.drop(columns=drop_weapons_cols)\n",
    "mass_shooters = mass_shooters.drop(columns=drop_resolutionofcase_cols)"
   ]
  },
  {
   "cell_type": "code",
   "execution_count": 149,
   "id": "d6fad290",
   "metadata": {},
   "outputs": [
    {
     "data": {
      "text/plain": [
       "(188, 124)"
      ]
     },
     "execution_count": 149,
     "metadata": {},
     "output_type": "execute_result"
    }
   ],
   "source": [
    "mass_shooters.shape"
   ]
  },
  {
   "cell_type": "code",
   "execution_count": 150,
   "id": "d951ced7",
   "metadata": {},
   "outputs": [],
   "source": [
    "# Drop cols based off of a null percent cutoff\n",
    "# 21 columns\n",
    "mass_shooters, drop_null_pct_dict = drop_nullpct(mass_shooters, 0.20)"
   ]
  },
  {
   "cell_type": "code",
   "execution_count": 151,
   "id": "f5c13dd7",
   "metadata": {},
   "outputs": [
    {
     "data": {
      "text/html": [
       "<div>\n",
       "<style scoped>\n",
       "    .dataframe tbody tr th:only-of-type {\n",
       "        vertical-align: middle;\n",
       "    }\n",
       "\n",
       "    .dataframe tbody tr th {\n",
       "        vertical-align: top;\n",
       "    }\n",
       "\n",
       "    .dataframe thead th {\n",
       "        text-align: right;\n",
       "    }\n",
       "</style>\n",
       "<table border=\"1\" class=\"dataframe\">\n",
       "  <thead>\n",
       "    <tr style=\"text-align: right;\">\n",
       "      <th></th>\n",
       "      <th>column_name</th>\n",
       "      <th>percent_null</th>\n",
       "    </tr>\n",
       "  </thead>\n",
       "  <tbody>\n",
       "    <tr>\n",
       "      <th>0</th>\n",
       "      <td>Height</td>\n",
       "      <td>0.702128</td>\n",
       "    </tr>\n",
       "    <tr>\n",
       "      <th>1</th>\n",
       "      <td>Weight</td>\n",
       "      <td>0.760638</td>\n",
       "    </tr>\n",
       "    <tr>\n",
       "      <th>2</th>\n",
       "      <td>Religion</td>\n",
       "      <td>0.505319</td>\n",
       "    </tr>\n",
       "    <tr>\n",
       "      <th>3</th>\n",
       "      <td>Education</td>\n",
       "      <td>0.265957</td>\n",
       "    </tr>\n",
       "    <tr>\n",
       "      <th>4</th>\n",
       "      <td>School Performance</td>\n",
       "      <td>0.531915</td>\n",
       "    </tr>\n",
       "    <tr>\n",
       "      <th>5</th>\n",
       "      <td>School Performance Specified</td>\n",
       "      <td>0.526596</td>\n",
       "    </tr>\n",
       "    <tr>\n",
       "      <th>6</th>\n",
       "      <td>Birth Order</td>\n",
       "      <td>0.420213</td>\n",
       "    </tr>\n",
       "    <tr>\n",
       "      <th>7</th>\n",
       "      <td>Number of Siblings</td>\n",
       "      <td>0.255319</td>\n",
       "    </tr>\n",
       "    <tr>\n",
       "      <th>8</th>\n",
       "      <td>Older Siblings</td>\n",
       "      <td>0.436170</td>\n",
       "    </tr>\n",
       "    <tr>\n",
       "      <th>9</th>\n",
       "      <td>Younger Siblings</td>\n",
       "      <td>0.446809</td>\n",
       "    </tr>\n",
       "    <tr>\n",
       "      <th>10</th>\n",
       "      <td>Military Branch</td>\n",
       "      <td>0.744681</td>\n",
       "    </tr>\n",
       "    <tr>\n",
       "      <th>11</th>\n",
       "      <td>Community Involvement Specified</td>\n",
       "      <td>0.680851</td>\n",
       "    </tr>\n",
       "    <tr>\n",
       "      <th>12</th>\n",
       "      <td>Childhood SES</td>\n",
       "      <td>0.297872</td>\n",
       "    </tr>\n",
       "    <tr>\n",
       "      <th>13</th>\n",
       "      <td>Psychiatric Medication Specified</td>\n",
       "      <td>0.765957</td>\n",
       "    </tr>\n",
       "    <tr>\n",
       "      <th>14</th>\n",
       "      <td>Medication Category</td>\n",
       "      <td>0.771277</td>\n",
       "    </tr>\n",
       "    <tr>\n",
       "      <th>15</th>\n",
       "      <td>Health Issues - Specify</td>\n",
       "      <td>0.760638</td>\n",
       "    </tr>\n",
       "    <tr>\n",
       "      <th>16</th>\n",
       "      <td>Leakage How</td>\n",
       "      <td>0.547872</td>\n",
       "    </tr>\n",
       "    <tr>\n",
       "      <th>17</th>\n",
       "      <td>Leakage Who</td>\n",
       "      <td>0.553191</td>\n",
       "    </tr>\n",
       "    <tr>\n",
       "      <th>18</th>\n",
       "      <td>Leakage Specific/Nonspecific</td>\n",
       "      <td>0.537234</td>\n",
       "    </tr>\n",
       "    <tr>\n",
       "      <th>19</th>\n",
       "      <td>Specify Relationship to Other Shooting(s)</td>\n",
       "      <td>0.872340</td>\n",
       "    </tr>\n",
       "    <tr>\n",
       "      <th>20</th>\n",
       "      <td>Specify Pop Culture Connection</td>\n",
       "      <td>0.893617</td>\n",
       "    </tr>\n",
       "  </tbody>\n",
       "</table>\n",
       "</div>"
      ],
      "text/plain": [
       "                                  column_name  percent_null\n",
       "0                                      Height      0.702128\n",
       "1                                      Weight      0.760638\n",
       "2                                    Religion      0.505319\n",
       "3                                   Education      0.265957\n",
       "4                          School Performance      0.531915\n",
       "5                School Performance Specified      0.526596\n",
       "6                                 Birth Order      0.420213\n",
       "7                          Number of Siblings      0.255319\n",
       "8                              Older Siblings      0.436170\n",
       "9                            Younger Siblings      0.446809\n",
       "10                            Military Branch      0.744681\n",
       "11            Community Involvement Specified      0.680851\n",
       "12                              Childhood SES      0.297872\n",
       "13           Psychiatric Medication Specified      0.765957\n",
       "14                        Medication Category      0.771277\n",
       "15                    Health Issues - Specify      0.760638\n",
       "16                                Leakage How      0.547872\n",
       "17                               Leakage Who       0.553191\n",
       "18              Leakage Specific/Nonspecific       0.537234\n",
       "19  Specify Relationship to Other Shooting(s)      0.872340\n",
       "20             Specify Pop Culture Connection      0.893617"
      ]
     },
     "execution_count": 151,
     "metadata": {},
     "output_type": "execute_result"
    }
   ],
   "source": [
    "# Get list and percentages of everything dropped\n",
    "pd.DataFrame(drop_null_pct_dict)"
   ]
  },
  {
   "cell_type": "code",
   "execution_count": 152,
   "id": "1821a2f7",
   "metadata": {},
   "outputs": [
    {
     "data": {
      "text/plain": [
       "(188, 103)"
      ]
     },
     "execution_count": 152,
     "metadata": {},
     "output_type": "execute_result"
    }
   ],
   "source": [
    "mass_shooters.shape"
   ]
  },
  {
   "cell_type": "markdown",
   "id": "4e46ef5b",
   "metadata": {},
   "source": [
    "---"
   ]
  },
  {
   "cell_type": "markdown",
   "id": "7af4a182",
   "metadata": {},
   "source": [
    "<a id='preparenull'></a>\n",
    "<h3><b><i>\n",
    "    Null Handling\n",
    "</i></b></h3>\n",
    "<li><a href='#prepare'>Prepare Top</a></li>"
   ]
  },
  {
   "cell_type": "markdown",
   "id": "1cf19cf9",
   "metadata": {},
   "source": [
    "45 columns out of 106 columns with nulls:\n",
    "\n",
    "- Fill with mode\n",
    "    - 44 columns\n",
    "- Fill uniquely\n",
    "    - 1 columns ('None')"
   ]
  },
  {
   "cell_type": "code",
   "execution_count": 153,
   "id": "3a3f332d",
   "metadata": {},
   "outputs": [
    {
     "data": {
      "text/plain": [
       "45"
      ]
     },
     "execution_count": 153,
     "metadata": {},
     "output_type": "execute_result"
    }
   ],
   "source": [
    "# Identify cols with nulls\n",
    "has_nulls = check_nulls(mass_shooters)\n",
    "len(has_nulls)"
   ]
  },
  {
   "cell_type": "code",
   "execution_count": 154,
   "id": "9f190579",
   "metadata": {},
   "outputs": [],
   "source": [
    "# Filling nulls\n",
    "mass_shooters['Signs of Crisis Expanded'] = mass_shooters['Signs of Crisis Expanded'].fillna('None')\n",
    "for col in has_nulls:\n",
    "    mass_shooters[col] = mass_shooters[col].fillna(mass_shooters[col].mode()[0])"
   ]
  },
  {
   "cell_type": "code",
   "execution_count": 155,
   "id": "dff48e2c",
   "metadata": {},
   "outputs": [
    {
     "data": {
      "text/plain": [
       "0"
      ]
     },
     "execution_count": 155,
     "metadata": {},
     "output_type": "execute_result"
    }
   ],
   "source": [
    "# Recheck for any nulls\n",
    "has_nulls_verify = check_nulls(mass_shooters)\n",
    "len(has_nulls_verify)"
   ]
  },
  {
   "cell_type": "markdown",
   "id": "9539532e",
   "metadata": {},
   "source": [
    "---"
   ]
  },
  {
   "cell_type": "markdown",
   "id": "a7f6e00e",
   "metadata": {},
   "source": [
    "<a id='preparedtypes'></a>\n",
    "<h3><b><i>\n",
    "    Dtype Cleaning\n",
    "</i></b></h3>\n",
    "<li><a href='#prepare'>Prepare Top</a></li>"
   ]
  },
  {
   "cell_type": "markdown",
   "id": "226da467",
   "metadata": {},
   "source": [
    "87 columns out of 106 columns adjusted:\n",
    "- Object\n",
    "    - 4 columns to int\n",
    "    - 3 columns fixed\n",
    "         - 'Day',\n",
    "             - '19-20' == 19\n",
    "         - 'Race',\n",
    "             - 'Moroccan' == 6\n",
    "             - 'Bosnian' == 7\n",
    "         - 'Criminal Record',\n",
    "             - '1`' == 1\n",
    "- Float\n",
    "    - 79 columns to int\n",
    "    - 2 columns fixed\n",
    "         - 'Gender',\n",
    "             - 3.0 == 0\n",
    "         - 'Children',\n",
    "             - 5.0 == 0\n",
    "- Int\n",
    "    - Nothing changed"
   ]
  },
  {
   "cell_type": "code",
   "execution_count": 156,
   "id": "7ceeae5f",
   "metadata": {},
   "outputs": [],
   "source": [
    "# Ensure there are no ' ' values...\n",
    "for col in mass_shooters.columns:\n",
    "    if mass_shooters[col].dtype == 'object':\n",
    "        if mass_shooters[col].apply(lambda x: isinstance(x, str) and x.isspace()).any():\n",
    "            mass_shooters[col].replace(r'^\\s*$', np.nan, regex=True, inplace=True)\n",
    "            mass_shooters[col].fillna(mass_shooters[col].mode()[0], inplace=True)"
   ]
  },
  {
   "cell_type": "code",
   "execution_count": 158,
   "id": "f0a67899",
   "metadata": {},
   "outputs": [],
   "source": [
    "# Change Object Columns\n",
    "mass_shooters['Case #'] = mass_shooters['Case #'].astype(int)\n",
    "mass_shooters['Day'] = np.where(mass_shooters['Day'] == '19-20', 19, mass_shooters['Day'])\n",
    "mass_shooters['Day'] = mass_shooters['Day'].astype(int)\n",
    "mass_shooters['Race'] = np.where(mass_shooters['Race'] == 'Moroccan', 6, mass_shooters['Race'])\n",
    "mass_shooters['Race'] = np.where(mass_shooters['Race'] == 'Bosnian', 7, mass_shooters['Race'])\n",
    "mass_shooters['Race'] = mass_shooters['Race'].astype(int)\n",
    "mass_shooters['Criminal Record'] = np.where(mass_shooters['Criminal Record'] == '1`', 1, mass_shooters['Criminal Record'])\n",
    "mass_shooters['Criminal Record'] = mass_shooters['Criminal Record'].astype(int)"
   ]
  },
  {
   "cell_type": "code",
   "execution_count": 159,
   "id": "823b4749",
   "metadata": {},
   "outputs": [],
   "source": [
    "# Make preliminary changes before astype changes\n",
    "mass_shooters['Gender'] = np.where(mass_shooters['Gender'] == 3.0, 0, mass_shooters['Gender'])\n",
    "mass_shooters['Children'] = np.where(mass_shooters['Children'] == 5.0, 0, mass_shooters['Children'])"
   ]
  },
  {
   "cell_type": "code",
   "execution_count": 160,
   "id": "872b7687",
   "metadata": {},
   "outputs": [],
   "source": [
    "# All floats confirmed ready to change to int\n",
    "for col in mass_shooters.select_dtypes(include=float).columns.to_list():\n",
    "    mass_shooters[col] = mass_shooters[col].astype(int)"
   ]
  },
  {
   "cell_type": "code",
   "execution_count": 161,
   "id": "c1ac7296",
   "metadata": {},
   "outputs": [],
   "source": [
    "# No changes to int dtypes necessary..."
   ]
  },
  {
   "cell_type": "markdown",
   "id": "598c01e0",
   "metadata": {},
   "source": [
    "---"
   ]
  },
  {
   "cell_type": "markdown",
   "id": "b984e484",
   "metadata": {},
   "source": [
    "<a id='preparedisseminate'></a>\n",
    "<h3><b><i>\n",
    "    Disseminate Column Information\n",
    "</i></b></h3>\n",
    "<li><a href='#prepare'>Prepare Top</a></li>"
   ]
  },
  {
   "cell_type": "markdown",
   "id": "9e3d04d0",
   "metadata": {},
   "source": [
    "Due to column information formatting, encoders will not disseminate/create binary columns properly;therefore, must manually create them..."
   ]
  },
  {
   "cell_type": "markdown",
   "id": "f23dff64",
   "metadata": {},
   "source": [
    "- 10 columns manually disseminated\n",
    "    - 58 new columns generated"
   ]
  },
  {
   "cell_type": "code",
   "execution_count": 177,
   "id": "4ae491b5",
   "metadata": {},
   "outputs": [],
   "source": [
    "# Disseminate 'Adult Trauma'\n",
    "mass_shooters['adult_trauma_no_evidence'] = np.where(mass_shooters['Adult Trauma'].astype(str).str.contains('0'), 1, 0)\n",
    "mass_shooters['adult_trauma_death_of_parent'] = np.where(mass_shooters['Adult Trauma'].astype(str).str.contains('1'), 1, 0)\n",
    "mass_shooters['adult_trauma_death_or_loss_of_child'] = np.where(mass_shooters['Adult Trauma'].astype(str).str.contains('2'), 1, 0)\n",
    "mass_shooters['adult_trauma_death_of_family_member_causing_significant_distress'] = np.where(mass_shooters['Adult Trauma'].astype(str).str.contains('3'), 1, 0)\n",
    "mass_shooters['adult_trauma_from_war'] = np.where(mass_shooters['Adult Trauma'].astype(str).str.contains('4'), 1, 0)\n",
    "mass_shooters['adult_trauma_accident'] = np.where(mass_shooters['Adult Trauma'].astype(str).str.contains('5'), 1, 0)\n",
    "mass_shooters['adult_trauma_other'] = np.where(mass_shooters['Adult Trauma'].astype(str).str.contains('6'), 1, 0)"
   ]
  },
  {
   "cell_type": "code",
   "execution_count": 179,
   "id": "7a3180df",
   "metadata": {},
   "outputs": [],
   "source": [
    "# Disseminate 'Voluntary or Mandatory Counseling'\n",
    "mass_shooters['voluntary_or_mandatory_counseling_na'] = np.where(mass_shooters['Voluntary or Mandatory Counseling'].astype(str).str.contains('0'), 1, 0)\n",
    "mass_shooters['voluntary_or_mandatory_counseling_voluntary'] = np.where(mass_shooters['Voluntary or Mandatory Counseling'].astype(str).str.contains('1'), 1, 0)\n",
    "mass_shooters['voluntary_or_mandatory_counseling_involuntary'] = np.where(mass_shooters['Voluntary or Mandatory Counseling'].astype(str).str.contains('2'), 1, 0)"
   ]
  },
  {
   "cell_type": "code",
   "execution_count": 185,
   "id": "f647ae96",
   "metadata": {},
   "outputs": [],
   "source": [
    "# Disseminate 'Mental Illness'\n",
    "mass_shooters['mental_illness_no_evidence'] = np.where(mass_shooters['Mental Illness'].astype(str).str.contains('0'), 1, 0)\n",
    "mass_shooters['mental_illness_mood_disorder'] = np.where(mass_shooters['Mental Illness'].astype(str).str.contains('1'), 1, 0)\n",
    "mass_shooters['mental_illness_thought_disorder'] = np.where(mass_shooters['Mental Illness'].astype(str).str.contains('2'), 1, 0)\n",
    "mass_shooters['mental_illness_other_psychiatric_disorder'] = np.where(mass_shooters['Mental Illness'].astype(str).str.contains('3'), 1, 0)\n",
    "mass_shooters['mental_illness_indication_but_no_diagnosis'] = np.where(mass_shooters['Mental Illness'].astype(str).str.contains('4'), 1, 0)"
   ]
  },
  {
   "cell_type": "code",
   "execution_count": 187,
   "id": "9c423921",
   "metadata": {},
   "outputs": [],
   "source": [
    "# Disseminate 'Known Family Mental Health History'\n",
    "mass_shooters['known_family_mental_health_history_no_evidence'] = np.where(mass_shooters['Known Family Mental Health History'].astype(str).str.contains('0'), 1, 0)\n",
    "mass_shooters['known_family_mental_health_history_parents'] = np.where(mass_shooters['Known Family Mental Health History'].astype(str).str.contains('1'), 1, 0)\n",
    "mass_shooters['known_family_mental_health_history_other_relative'] = np.where(mass_shooters['Known Family Mental Health History'].astype(str).str.contains('2'), 1, 0)"
   ]
  },
  {
   "cell_type": "code",
   "execution_count": 189,
   "id": "15a03131",
   "metadata": {},
   "outputs": [],
   "source": [
    "# Disseminate 'Part I Crimes'\n",
    "mass_shooters['part_i_crimes_no_evidence'] = np.where(mass_shooters['Part I Crimes'].astype(str).str.contains('0'), 1, 0)\n",
    "mass_shooters['part_i_crimes_homicide'] = np.where(mass_shooters['Part I Crimes'].astype(str).str.contains('1'), 1, 0)\n",
    "mass_shooters['part_i_crimes_forcible_rape'] = np.where(mass_shooters['Part I Crimes'].astype(str).str.contains('2'), 1, 0)\n",
    "mass_shooters['part_i_crimes_robbery'] = np.where(mass_shooters['Part I Crimes'].astype(str).str.contains('3'), 1, 0)\n",
    "mass_shooters['part_i_crimes_aggravated_assault'] = np.where(mass_shooters['Part I Crimes'].astype(str).str.contains('4'), 1, 0)\n",
    "mass_shooters['part_i_crimes_burglary'] = np.where(mass_shooters['Part I Crimes'].astype(str).str.contains('5'), 1, 0)\n",
    "mass_shooters['part_i_crimes_larceny_theft'] = np.where(mass_shooters['Part I Crimes'].astype(str).str.contains('6'), 1, 0)\n",
    "mass_shooters['part_i_crimes_motor_vehicle_theft'] = np.where(mass_shooters['Part I Crimes'].astype(str).str.contains('7'), 1, 0)\n",
    "mass_shooters['part_i_crimes_arson'] = np.where(mass_shooters['Part I Crimes'].astype(str).str.contains('8'), 1, 0)"
   ]
  },
  {
   "cell_type": "code",
   "execution_count": 191,
   "id": "41681a6a",
   "metadata": {},
   "outputs": [],
   "source": [
    "# Disseminate 'Part II Crimes'\n",
    "mass_shooters['part_ii_crimes_no_evidence'] = np.where(mass_shooters['Part II Crimes'].astype(str).str.contains('0'), 1, 0)\n",
    "mass_shooters['part_ii_crimes_simple_assault'] = np.where(mass_shooters['Part II Crimes'].astype(str).str.contains('1'), 1, 0)\n",
    "mass_shooters['part_ii_crimes_fraud_forgery_embezzlement'] = np.where(mass_shooters['Part II Crimes'].astype(str).str.contains('2'), 1, 0)\n",
    "mass_shooters['part_ii_crimes_stolen_property'] = np.where(mass_shooters['Part II Crimes'].astype(str).str.contains('3'), 1, 0)\n",
    "mass_shooters['part_ii_crimes_vandalism'] = np.where(mass_shooters['Part II Crimes'].astype(str).str.contains('4'), 1, 0)\n",
    "mass_shooters['part_ii_crimes_weapons_offenses'] = np.where(mass_shooters['Part II Crimes'].astype(str).str.contains('5'), 1, 0)\n",
    "mass_shooters['part_ii_crimes_prostitution'] = np.where(mass_shooters['Part II Crimes'].astype(str).str.contains('6'), 1, 0)\n",
    "mass_shooters['part_ii_crimes_drugs'] = np.where(mass_shooters['Part II Crimes'].astype(str).str.contains('7'), 1, 0)\n",
    "mass_shooters['part_ii_crimes_dui'] = np.where(mass_shooters['Part II Crimes'].astype(str).str.contains('8'), 1, 0)\n",
    "mass_shooters['part_ii_crimes_other'] = np.where(mass_shooters['Part II Crimes'].astype(str).str.contains('9'), 1, 0)"
   ]
  },
  {
   "cell_type": "code",
   "execution_count": 193,
   "id": "8fee9680",
   "metadata": {},
   "outputs": [],
   "source": [
    "# Disseminate 'Domestic Abuse Specified'\n",
    "mass_shooters['domestic_abuse_specified_na'] = np.where(mass_shooters['Domestic Abuse Specified'].astype(str).str.contains('0'), 1, 0)\n",
    "mass_shooters['domestic_abuse_specified_non_sexual'] = np.where(mass_shooters['Domestic Abuse Specified'].astype(str).str.contains('1'), 1, 0)\n",
    "mass_shooters['domestic_abuse_specified_sexual_violence'] = np.where(mass_shooters['Domestic Abuse Specified'].astype(str).str.contains('2'), 1, 0)\n",
    "mass_shooters['domestic_abuse_specified_threats_coercive_control'] = np.where(mass_shooters['Domestic Abuse Specified'].astype(str).str.contains('3'), 1, 0)\n",
    "mass_shooters['domestic_abuse_specified_threats_with_deadly_weapon'] = np.where(mass_shooters['Domestic Abuse Specified'].astype(str).str.contains('4'), 1, 0)"
   ]
  },
  {
   "cell_type": "code",
   "execution_count": 195,
   "id": "f099d5c0",
   "metadata": {},
   "outputs": [],
   "source": [
    "# Disseminate 'Recent or Ongoing Stressor'\n",
    "mass_shooters['recent_or_ongoing_stressor_no_evidence'] = np.where(mass_shooters['Recent or Ongoing Stressor'].astype(str).str.contains('0'), 1, 0)\n",
    "mass_shooters['recent_or_ongoing_stressor_recent_breakup'] = np.where(mass_shooters['Recent or Ongoing Stressor'].astype(str).str.contains('1'), 1, 0)\n",
    "mass_shooters['recent_or_ongoing_stressor_employment'] = np.where(mass_shooters['Recent or Ongoing Stressor'].astype(str).str.contains('2'), 1, 0)\n",
    "mass_shooters['recent_or_ongoing_stressor_economic_stressor'] = np.where(mass_shooters['Recent or Ongoing Stressor'].astype(str).str.contains('3'), 1, 0)\n",
    "mass_shooters['recent_or_ongoing_stressor_family_issue'] = np.where(mass_shooters['Recent or Ongoing Stressor'].astype(str).str.contains('4'), 1, 0)\n",
    "mass_shooters['recent_or_ongoing_stressor_legal_issue'] = np.where(mass_shooters['Recent or Ongoing Stressor'].astype(str).str.contains('5'), 1, 0)\n",
    "mass_shooters['recent_or_ongoing_stressor_other'] = np.where(mass_shooters['Recent or Ongoing Stressor'].astype(str).str.contains('6'), 1, 0)"
   ]
  },
  {
   "cell_type": "code",
   "execution_count": 197,
   "id": "ea8ab23b",
   "metadata": {},
   "outputs": [],
   "source": [
    "# Disseminate 'Substance Use'\n",
    "mass_shooters['substance_use_no_evidence'] = np.where(mass_shooters['Substance Use'].astype(str).str.contains('0'), 1, 0)\n",
    "mass_shooters['substance_use_alcohol'] = np.where(mass_shooters['Substance Use'].astype(str).str.contains('1'), 1, 0)\n",
    "mass_shooters['substance_use_marijuana'] = np.where(mass_shooters['Substance Use'].astype(str).str.contains('2'), 1, 0)\n",
    "mass_shooters['substance_use_other_drugs'] = np.where(mass_shooters['Substance Use'].astype(str).str.contains('3'), 1, 0)"
   ]
  },
  {
   "cell_type": "code",
   "execution_count": 199,
   "id": "d52dea7c",
   "metadata": {},
   "outputs": [],
   "source": [
    "# Disseminate 'Known Prejudices\\xa0'\n",
    "mass_shooters['known_prejudices_no_evidence'] = np.where(mass_shooters['Known Prejudices\\xa0'].astype(str).str.contains('0'), 1, 0)\n",
    "mass_shooters['known_prejudices_racism'] = np.where(mass_shooters['Known Prejudices\\xa0'].astype(str).str.contains('1'), 1, 0)\n",
    "mass_shooters['known_prejudices_misogyny'] = np.where(mass_shooters['Known Prejudices\\xa0'].astype(str).str.contains('2'), 1, 0)\n",
    "mass_shooters['known_prejudices_homophobia'] = np.where(mass_shooters['Known Prejudices\\xa0'].astype(str).str.contains('3'), 1, 0)\n",
    "mass_shooters['known_prejudices_religious_hatred'] = np.where(mass_shooters['Known Prejudices\\xa0'].astype(str).str.contains('4'), 1, 0)"
   ]
  },
  {
   "cell_type": "markdown",
   "id": "f448facb",
   "metadata": {},
   "source": [
    "---"
   ]
  },
  {
   "cell_type": "code",
   "execution_count": 211,
   "id": "fc8384ef",
   "metadata": {},
   "outputs": [
    {
     "data": {
      "text/plain": [
       "['Case #',\n",
       " 'Day',\n",
       " 'Month',\n",
       " 'Year',\n",
       " 'Urban/Suburban/Rural',\n",
       " 'Number Killed',\n",
       " 'Number Injured',\n",
       " 'Age',\n",
       " 'Race',\n",
       " 'Relationship Status',\n",
       " 'Employment Type\\xa0',\n",
       " 'Military Service',\n",
       " 'Community Involvement',\n",
       " 'Highest Level of Justice System Involvement',\n",
       " 'History of Physical Altercations',\n",
       " 'History of Domestic Abuse',\n",
       " 'Known Hate Group or Chat Room Affiliation',\n",
       " 'Violent Video Games',\n",
       " 'Timeline of Signs of Crisis',\n",
       " 'Suicidality',\n",
       " 'Voluntary or Involuntary Hospitalization',\n",
       " 'Motive: Racism/Xenophobia',\n",
       " 'Motive: Religious Hate',\n",
       " 'Motive: Other\\xa0',\n",
       " 'Role of Psychosis in the Shooting',\n",
       " 'Social Media Use\\xa0',\n",
       " 'Pop Culture Connection',\n",
       " 'Firearm Proficiency']"
      ]
     },
     "execution_count": 211,
     "metadata": {},
     "output_type": "execute_result"
    }
   ],
   "source": [
    "more_than_2_cols = []\n",
    "for col in mass_shooters.select_dtypes(include=int).columns:\n",
    "    if mass_shooters[col].nunique() > 2:\n",
    "        more_than_2_cols.append(col)\n",
    "more_than_2_cols"
   ]
  },
  {
   "cell_type": "code",
   "execution_count": 206,
   "id": "7873a117",
   "metadata": {},
   "outputs": [
    {
     "data": {
      "text/plain": [
       "Index(['Case #', 'Day', 'Month', 'Year', 'Urban/Suburban/Rural',\n",
       "       'Number Killed', 'Number Injured', 'Age', 'Gender', 'Race',\n",
       "       ...\n",
       "       'recent_or_ongoing_stressor_other', 'substance_use_no_evidence',\n",
       "       'substance_use_alcohol', 'substance_use_marijuana',\n",
       "       'substance_use_other_drugs', 'known_prejudices_no_evidence',\n",
       "       'known_prejudices_racism', 'known_prejudices_misogyny',\n",
       "       'known_prejudices_homophobia', 'known_prejudices_religious_hatred'],\n",
       "      dtype='object', length=146)"
      ]
     },
     "execution_count": 206,
     "metadata": {},
     "output_type": "execute_result"
    }
   ],
   "source": [
    "mass_shooters.select_dtypes(include=int).columns"
   ]
  },
  {
   "cell_type": "markdown",
   "id": "c67bbbf3",
   "metadata": {},
   "source": [
    "<a id='preparetext'></a>\n",
    "<h3><b><i>\n",
    "    Text Modification\n",
    "</i></b></h3>\n",
    "<li><a href='#prepare'>Prepare Top</a></li>"
   ]
  },
  {
   "cell_type": "code",
   "execution_count": null,
   "id": "1b473746",
   "metadata": {},
   "outputs": [],
   "source": []
  },
  {
   "cell_type": "markdown",
   "id": "8ca93df0",
   "metadata": {},
   "source": [
    "---"
   ]
  },
  {
   "cell_type": "markdown",
   "id": "e4a231cd",
   "metadata": {},
   "source": [
    "<a id='preparesummary'></a>\n",
    "<h3><b><i>\n",
    "    Summary of Preparation\n",
    "</i></b></h3>\n",
    "<li><a href='#prepare'>Prepare Top</a></li>\n",
    "\n",
    "- <h5><b>Dropped Data</b></h5>\n",
    "\n",
    "    - 1 Row\n",
    "        - Missing majority of info\n",
    "    - 47 columns\n",
    "        - Useless in scope of predictive value\n",
    "        - Percent nulls above 20%\n",
    "        \n",
    "- <h5><b>Null Handling</b></h5>\n",
    "\n",
    "    - Fill with mode\n",
    "        - 44 columns\n",
    "    - Fill uniquely\n",
    "        - 1 columns ('None')\n",
    "\n",
    "- <h5><b>Dtype Cleaning</b></h5>\n",
    "    \n",
    "    - Object\n",
    "        - 4 columns to int\n",
    "        - 3 columns fixed\n",
    "             - 'Day',\n",
    "                 - '19-20' == 19\n",
    "             - 'Race',\n",
    "                 - 'Moroccan' == 6\n",
    "                 - 'Bosnian' == 7\n",
    "             - 'Criminal Record',\n",
    "                 - '1`' == 1\n",
    "    - Float\n",
    "        - 79 columns to int\n",
    "        - 2 columns fixed\n",
    "             - 'Gender',\n",
    "                 - 3.0 == 0\n",
    "             - 'Children',\n",
    "                 - 5.0 == 0\n",
    "    - Int\n",
    "        - Nothing changed\n",
    "    \n",
    "- <h5><b>Disseminate Column Information</b></h5>\n",
    "    \n",
    "    - 10 columns manually disseminated\n",
    "        - 58 new columns generated\n",
    "    \n",
    "- <h5><b>Text Modifications</b></h5>"
   ]
  },
  {
   "cell_type": "markdown",
   "id": "56c707c4",
   "metadata": {},
   "source": [
    "<div style='background-color: orange'>\n",
    "<a id=\"wrangle\"></a>\n",
    "    <h1 style='text-align: center'>\n",
    "        <b><i>\n",
    "            Wrangle\n",
    "        </i></b></h1>\n",
    "<li><a href='#TableOfContents'>Table of Contents</a></li>"
   ]
  },
  {
   "cell_type": "code",
   "execution_count": null,
   "id": "c6e82b3b",
   "metadata": {},
   "outputs": [],
   "source": []
  },
  {
   "cell_type": "markdown",
   "id": "df3853ba",
   "metadata": {},
   "source": [
    "<div style='background-color: orange'>\n",
    "<a id=\"misc\"></a>\n",
    "    <h1 style='text-align: center'>\n",
    "        <b><i>\n",
    "            Miscellaneous\n",
    "        </i></b></h1>\n",
    "<li><a href='#TableOfContents'>Table of Contents</a></li>"
   ]
  },
  {
   "cell_type": "code",
   "execution_count": 1,
   "id": "a0f1b395",
   "metadata": {},
   "outputs": [],
   "source": [
    "def drop_nullpct(df, percent_cutoff):\n",
    "    '''\n",
    "    Takes in a dataframe and a percent_cutoff of nulls to drop a column on\n",
    "    and returns the new dataframe and a dictionary of dropped columns and their pct...\n",
    "    \n",
    "    INPUT:\n",
    "    df = pandas dataframe\n",
    "    percent_cutoff = Null percent cutoff amount\n",
    "    \n",
    "    OUTPUT:\n",
    "    new_df = pandas dataframe with dropped columns\n",
    "    drop_null_pct_dict = dict of column names dropped and pcts\n",
    "    '''\n",
    "    drop_null_pct_dict = {\n",
    "        'column_name' : [],\n",
    "        'percent_null' : []\n",
    "    }\n",
    "    for col in df:\n",
    "        pct = df[col].isna().sum() / df.shape[0]\n",
    "        if pct > 0.20:\n",
    "            df = df.drop(columns=col)\n",
    "            drop_null_pct_dict['column_name'].append(col)\n",
    "            drop_null_pct_dict['percent_null'].append(pct)\n",
    "    new_df = df\n",
    "    return new_df, drop_null_pct_dict"
   ]
  },
  {
   "cell_type": "code",
   "execution_count": 2,
   "id": "509b7406",
   "metadata": {},
   "outputs": [],
   "source": [
    "def check_nulls(df):\n",
    "    '''\n",
    "    Takes a dataframe and returns a list of columns that has at least one null value\n",
    "    \n",
    "    INPUT:\n",
    "    df = pandas dataframe\n",
    "    \n",
    "    OUTPUT:\n",
    "    has_nulls = List of column names with at least one null\n",
    "    '''\n",
    "    has_nulls = []\n",
    "    for col in df:\n",
    "        nulls = df[col].isna().sum()\n",
    "        if nulls > 0:\n",
    "            has_nulls.append(col)\n",
    "    return has_nulls"
   ]
  },
  {
   "cell_type": "code",
   "execution_count": null,
   "id": "f1205cdf",
   "metadata": {},
   "outputs": [],
   "source": []
  }
 ],
 "metadata": {
  "kernelspec": {
   "display_name": "Python 3 (ipykernel)",
   "language": "python",
   "name": "python3"
  },
  "language_info": {
   "codemirror_mode": {
    "name": "ipython",
    "version": 3
   },
   "file_extension": ".py",
   "mimetype": "text/x-python",
   "name": "python",
   "nbconvert_exporter": "python",
   "pygments_lexer": "ipython3",
   "version": "3.9.13"
  }
 },
 "nbformat": 4,
 "nbformat_minor": 5
}
