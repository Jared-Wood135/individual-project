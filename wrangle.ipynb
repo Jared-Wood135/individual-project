{
 "cells": [
  {
   "cell_type": "markdown",
   "id": "067c6c6b",
   "metadata": {},
   "source": [
    "<div style='background-color: orange'>\n",
    "<a id=\"TableOfContents\"></a>\n",
    "    <h1 style='text-align: center'>\n",
    "        <b><i>\n",
    "            TABLE OF CONTENTS:\n",
    "        </i></b></h1>\n",
    "<li><a href='#imports'>Imports</a></li>\n",
    "<li><a href=\"#acquire\">Acquire</a></li>\n",
    "<li><a href='#prepare'>Prepare</a></li>\n",
    "<li><a href=\"#wrangle\">Wrangle</a></li>\n",
    "<li><a href='#misc'>Miscellaneous</a></li>"
   ]
  },
  {
   "cell_type": "markdown",
   "id": "793b55d6",
   "metadata": {},
   "source": [
    "<div style='background-color: orange'>\n",
    "<a id=\"imports\"></a>\n",
    "    <h1 style='text-align: center'>\n",
    "        <b><i>\n",
    "            Imports\n",
    "        </i></b></h1>\n",
    "<li><a href='#TableOfContents'>Table of Contents</a></li>"
   ]
  },
  {
   "cell_type": "code",
   "execution_count": 1,
   "id": "beb5f3e4",
   "metadata": {},
   "outputs": [],
   "source": [
    "# Vectorization and tables\n",
    "import numpy as np\n",
    "import pandas as pd\n",
    "\n",
    "# .py files\n",
    "import wrangle as w"
   ]
  },
  {
   "cell_type": "markdown",
   "id": "84cd970a",
   "metadata": {},
   "source": [
    "<div style='background-color: orange'>\n",
    "<a id=\"acquire\"></a>\n",
    "    <h1 style='text-align: center'>\n",
    "        <b><i>\n",
    "            Acquire\n",
    "        </i></b></h1>\n",
    "<li><a href='#TableOfContents'>Table of Contents</a></li>"
   ]
  },
  {
   "cell_type": "markdown",
   "id": "9dbe69c7",
   "metadata": {},
   "source": [
    "Acquire everything from the vanilla mass_shooters database via excel sheet\n",
    "\n",
    "- mass_shooters Vanilla Shape:\n",
    "    - Rows: 189\n",
    "    - Columns: 153"
   ]
  },
  {
   "cell_type": "code",
   "execution_count": 92,
   "id": "d0df65b5",
   "metadata": {},
   "outputs": [
    {
     "data": {
      "text/plain": [
       "(189, 153)"
      ]
     },
     "execution_count": 92,
     "metadata": {},
     "output_type": "execute_result"
    }
   ],
   "source": [
    "# Acquire the vanilla data\n",
    "mass_shooters = pd.read_excel('mass_shooters.xlsx', sheet_name='Full Database', header=1)\n",
    "mass_shooters.shape"
   ]
  },
  {
   "cell_type": "code",
   "execution_count": 93,
   "id": "d6c66bc4",
   "metadata": {},
   "outputs": [
    {
     "data": {
      "text/plain": [
       "(189, 153)"
      ]
     },
     "execution_count": 93,
     "metadata": {},
     "output_type": "execute_result"
    }
   ],
   "source": [
    "# Verify .py file functionality\n",
    "mass_shooters_py = w.acquire_mass_shooters()\n",
    "mass_shooters_py.shape"
   ]
  },
  {
   "cell_type": "markdown",
   "id": "3fc72510",
   "metadata": {},
   "source": [
    "<div style='background-color: orange'>\n",
    "<a id=\"prepare\"></a>\n",
    "    <h1 style='text-align: center'>\n",
    "        <b><i>\n",
    "            Prepare\n",
    "        </i></b></h1>\n",
    "<li><a href='#TableOfContents'>Table of Contents</a></li>\n",
    "<li><a href='#preparedrop'>Drop Data</a></li>\n",
    "<li><a href='#preparedtypes'>Dtype Cleaning</a></li>\n",
    "<li><a href='#preparenull'>Null Handling</a></li>\n",
    "<li><a href='#preparetext'>Text Modifications</a></li>\n",
    "<li><a href='#preparesummary'>Summary of Preparation</a></li>"
   ]
  },
  {
   "cell_type": "markdown",
   "id": "848f44a9",
   "metadata": {},
   "source": [
    "<a id='preparedrop'></a>\n",
    "<h3><b><i>\n",
    "    Drop Data\n",
    "</i></b></h3>\n",
    "<li><a href='#prepare'>Prepare Top</a></li>"
   ]
  },
  {
   "cell_type": "markdown",
   "id": "a1792da8",
   "metadata": {},
   "source": [
    "- 1 Row\n",
    "    - Missing majority of info\n",
    "- 47 columns\n",
    "    - Useless in scope of predictive value\n",
    "    - Percent nulls above 20%"
   ]
  },
  {
   "cell_type": "code",
   "execution_count": 94,
   "id": "38a01725",
   "metadata": {},
   "outputs": [],
   "source": [
    "# Remove row '145, 146' (Too many nulls)\n",
    "mass_shooters = mass_shooters.drop(mass_shooters[mass_shooters['Case #'] == '145, 146'].index)"
   ]
  },
  {
   "cell_type": "code",
   "execution_count": 95,
   "id": "545f4baf",
   "metadata": {},
   "outputs": [],
   "source": [
    "# Drop cols that aren't necessary\n",
    "# Generally anything that would've been known during\n",
    "# and/or after the shooting\n",
    "# 29 columns\n",
    "drop_perpetratorname_cols = [\n",
    "    'Shooter Last Name',\n",
    "    'Shooter First Name'\n",
    "]\n",
    "\n",
    "drop_date_cols = [\n",
    "    'Full Date'\n",
    "]\n",
    "\n",
    "drop_location_cols = [\n",
    "    'Street Number',\n",
    "    'Street Name',\n",
    "    'Zip Code',\n",
    "    'Latitude',\n",
    "    'Longitude',\n",
    "    'State Code',\n",
    "    'Region',\n",
    "    'Metro/Micro Statistical Area Type',\n",
    "    'Location',\n",
    "    'Insider or Outsider',\n",
    "    'Workplace Shooting',\n",
    "    'Multiple Locations',\n",
    "    'Other Location',\n",
    "    'Armed Person on Scene',\n",
    "    'Specify Armed Person'\n",
    "]\n",
    "\n",
    "drop_victim_cols = [\n",
    "    'Family Member Victim',\n",
    "    'Romantic Partner Victim',\n",
    "    'Kidnapping or Hostage Situation'\n",
    "]\n",
    "\n",
    "drop_weapons_cols = [\n",
    "    'Total Firearms Brought to the Scene',\n",
    "    'Other Weapons or Gear',\n",
    "    'Specify Other Weapons or Gear',\n",
    "]\n",
    "\n",
    "drop_resolutionofcase_cols = [\n",
    "    'On-Scene Outcome',\n",
    "    'Who Killed Shooter On Scene',\n",
    "    'Attempt to Flee',\n",
    "    'Insanity Defense',\n",
    "    'Criminal Sentence'\n",
    "]"
   ]
  },
  {
   "cell_type": "code",
   "execution_count": 96,
   "id": "45a473c0",
   "metadata": {},
   "outputs": [],
   "source": [
    "# Drop the above cols\n",
    "mass_shooters = mass_shooters.drop(columns=drop_perpetratorname_cols)\n",
    "mass_shooters = mass_shooters.drop(columns=drop_date_cols)\n",
    "mass_shooters = mass_shooters.drop(columns=drop_location_cols)\n",
    "mass_shooters = mass_shooters.drop(columns=drop_victim_cols)\n",
    "mass_shooters = mass_shooters.drop(columns=drop_weapons_cols)\n",
    "mass_shooters = mass_shooters.drop(columns=drop_resolutionofcase_cols)"
   ]
  },
  {
   "cell_type": "code",
   "execution_count": 97,
   "id": "63c4faa3",
   "metadata": {},
   "outputs": [
    {
     "data": {
      "text/plain": [
       "(188, 124)"
      ]
     },
     "execution_count": 97,
     "metadata": {},
     "output_type": "execute_result"
    }
   ],
   "source": [
    "mass_shooters.shape"
   ]
  },
  {
   "cell_type": "code",
   "execution_count": 98,
   "id": "0930a5c7",
   "metadata": {},
   "outputs": [],
   "source": [
    "# Drop cols based off of a null percent cutoff\n",
    "# 21 columns\n",
    "mass_shooters, drop_null_pct_dict = drop_nullpct(mass_shooters, 0.20)"
   ]
  },
  {
   "cell_type": "code",
   "execution_count": 99,
   "id": "72a25763",
   "metadata": {},
   "outputs": [
    {
     "data": {
      "text/html": [
       "<div>\n",
       "<style scoped>\n",
       "    .dataframe tbody tr th:only-of-type {\n",
       "        vertical-align: middle;\n",
       "    }\n",
       "\n",
       "    .dataframe tbody tr th {\n",
       "        vertical-align: top;\n",
       "    }\n",
       "\n",
       "    .dataframe thead th {\n",
       "        text-align: right;\n",
       "    }\n",
       "</style>\n",
       "<table border=\"1\" class=\"dataframe\">\n",
       "  <thead>\n",
       "    <tr style=\"text-align: right;\">\n",
       "      <th></th>\n",
       "      <th>column_name</th>\n",
       "      <th>percent_null</th>\n",
       "    </tr>\n",
       "  </thead>\n",
       "  <tbody>\n",
       "    <tr>\n",
       "      <th>0</th>\n",
       "      <td>Height</td>\n",
       "      <td>0.702128</td>\n",
       "    </tr>\n",
       "    <tr>\n",
       "      <th>1</th>\n",
       "      <td>Weight</td>\n",
       "      <td>0.760638</td>\n",
       "    </tr>\n",
       "    <tr>\n",
       "      <th>2</th>\n",
       "      <td>Religion</td>\n",
       "      <td>0.505319</td>\n",
       "    </tr>\n",
       "    <tr>\n",
       "      <th>3</th>\n",
       "      <td>Education</td>\n",
       "      <td>0.265957</td>\n",
       "    </tr>\n",
       "    <tr>\n",
       "      <th>4</th>\n",
       "      <td>School Performance</td>\n",
       "      <td>0.531915</td>\n",
       "    </tr>\n",
       "    <tr>\n",
       "      <th>5</th>\n",
       "      <td>School Performance Specified</td>\n",
       "      <td>0.526596</td>\n",
       "    </tr>\n",
       "    <tr>\n",
       "      <th>6</th>\n",
       "      <td>Birth Order</td>\n",
       "      <td>0.420213</td>\n",
       "    </tr>\n",
       "    <tr>\n",
       "      <th>7</th>\n",
       "      <td>Number of Siblings</td>\n",
       "      <td>0.255319</td>\n",
       "    </tr>\n",
       "    <tr>\n",
       "      <th>8</th>\n",
       "      <td>Older Siblings</td>\n",
       "      <td>0.436170</td>\n",
       "    </tr>\n",
       "    <tr>\n",
       "      <th>9</th>\n",
       "      <td>Younger Siblings</td>\n",
       "      <td>0.446809</td>\n",
       "    </tr>\n",
       "    <tr>\n",
       "      <th>10</th>\n",
       "      <td>Military Branch</td>\n",
       "      <td>0.744681</td>\n",
       "    </tr>\n",
       "    <tr>\n",
       "      <th>11</th>\n",
       "      <td>Community Involvement Specified</td>\n",
       "      <td>0.680851</td>\n",
       "    </tr>\n",
       "    <tr>\n",
       "      <th>12</th>\n",
       "      <td>Childhood SES</td>\n",
       "      <td>0.297872</td>\n",
       "    </tr>\n",
       "    <tr>\n",
       "      <th>13</th>\n",
       "      <td>Psychiatric Medication Specified</td>\n",
       "      <td>0.765957</td>\n",
       "    </tr>\n",
       "    <tr>\n",
       "      <th>14</th>\n",
       "      <td>Medication Category</td>\n",
       "      <td>0.771277</td>\n",
       "    </tr>\n",
       "    <tr>\n",
       "      <th>15</th>\n",
       "      <td>Health Issues - Specify</td>\n",
       "      <td>0.760638</td>\n",
       "    </tr>\n",
       "    <tr>\n",
       "      <th>16</th>\n",
       "      <td>Leakage How</td>\n",
       "      <td>0.547872</td>\n",
       "    </tr>\n",
       "    <tr>\n",
       "      <th>17</th>\n",
       "      <td>Leakage Who</td>\n",
       "      <td>0.553191</td>\n",
       "    </tr>\n",
       "    <tr>\n",
       "      <th>18</th>\n",
       "      <td>Leakage Specific/Nonspecific</td>\n",
       "      <td>0.537234</td>\n",
       "    </tr>\n",
       "    <tr>\n",
       "      <th>19</th>\n",
       "      <td>Specify Relationship to Other Shooting(s)</td>\n",
       "      <td>0.872340</td>\n",
       "    </tr>\n",
       "    <tr>\n",
       "      <th>20</th>\n",
       "      <td>Specify Pop Culture Connection</td>\n",
       "      <td>0.893617</td>\n",
       "    </tr>\n",
       "  </tbody>\n",
       "</table>\n",
       "</div>"
      ],
      "text/plain": [
       "                                  column_name  percent_null\n",
       "0                                      Height      0.702128\n",
       "1                                      Weight      0.760638\n",
       "2                                    Religion      0.505319\n",
       "3                                   Education      0.265957\n",
       "4                          School Performance      0.531915\n",
       "5                School Performance Specified      0.526596\n",
       "6                                 Birth Order      0.420213\n",
       "7                          Number of Siblings      0.255319\n",
       "8                              Older Siblings      0.436170\n",
       "9                            Younger Siblings      0.446809\n",
       "10                            Military Branch      0.744681\n",
       "11            Community Involvement Specified      0.680851\n",
       "12                              Childhood SES      0.297872\n",
       "13           Psychiatric Medication Specified      0.765957\n",
       "14                        Medication Category      0.771277\n",
       "15                    Health Issues - Specify      0.760638\n",
       "16                                Leakage How      0.547872\n",
       "17                               Leakage Who       0.553191\n",
       "18              Leakage Specific/Nonspecific       0.537234\n",
       "19  Specify Relationship to Other Shooting(s)      0.872340\n",
       "20             Specify Pop Culture Connection      0.893617"
      ]
     },
     "execution_count": 99,
     "metadata": {},
     "output_type": "execute_result"
    }
   ],
   "source": [
    "# Get list and percentages of everything dropped\n",
    "pd.DataFrame(drop_null_pct_dict)"
   ]
  },
  {
   "cell_type": "code",
   "execution_count": 100,
   "id": "e55aee2f",
   "metadata": {},
   "outputs": [
    {
     "data": {
      "text/plain": [
       "(188, 103)"
      ]
     },
     "execution_count": 100,
     "metadata": {},
     "output_type": "execute_result"
    }
   ],
   "source": [
    "mass_shooters.shape"
   ]
  },
  {
   "cell_type": "code",
   "execution_count": null,
   "id": "03dbf0d1",
   "metadata": {},
   "outputs": [],
   "source": [
    "drop_notmuchinsight_cols = [\n",
    "    'Adult Trauma',\n",
    "    \n",
    "]"
   ]
  },
  {
   "cell_type": "markdown",
   "id": "db7d1cfe",
   "metadata": {},
   "source": [
    "---"
   ]
  },
  {
   "cell_type": "markdown",
   "id": "f11cff3e",
   "metadata": {},
   "source": [
    "<a id='preparedtypes'></a>\n",
    "<h3><b><i>\n",
    "    Dtype Cleaning\n",
    "</i></b></h3>\n",
    "<li><a href='#prepare'>Prepare Top</a></li>"
   ]
  },
  {
   "cell_type": "markdown",
   "id": "deb7c7e4",
   "metadata": {},
   "source": [
    "103 columns out of 103 columns:\n",
    "\n",
    "- Object\n",
    "    - 20 Columns\n",
    "        - 'Case #'\n",
    "        - 'Day of Week'\n",
    "        - 'Day'\n",
    "        - 'City'\n",
    "        - 'State'\n",
    "        - 'County'\n",
    "        - 'Race'\n",
    "        - 'Employment Status',\n",
    "        - 'Criminal Record',\n",
    "        - 'Part I Crimes',\n",
    "        - 'Part II Crimes',\n",
    "        - 'Domestic Abuse Specified',\n",
    "        - 'Adult Trauma',\n",
    "        - 'Recent or Ongoing Stressor',\n",
    "        - 'Signs of Crisis Expanded',\n",
    "        - 'Voluntary or Mandatory Counseling',\n",
    "        - 'Mental Illness',\n",
    "        - 'Known Family Mental Health History',\n",
    "        - 'Substance Use',\n",
    "        - 'Known Prejudices\\xa0'\n",
    "- Float\n",
    "    - 78 Columns\n",
    "        - 'Age',\n",
    "        - 'Gender',\n",
    "        - 'Immigrant',\n",
    "        - 'Sexual Orientation',\n",
    "        - 'Relationship Status',\n",
    "        - 'Children',\n",
    "        - 'Employment Type\\xa0',\n",
    "        - 'Military Service',\n",
    "        - 'Community Involvement',\n",
    "        - 'Known to Police or FBI',\n",
    "        - 'Highest Level of Justice System Involvement',\n",
    "        - 'History of Physical Altercations',\n",
    "        - 'History of Animal Abuse',\n",
    "        - 'History of Domestic Abuse',\n",
    "        - 'History of Sexual Offenses',\n",
    "        - 'Gang Affiliation',\n",
    "        - 'Terror Group Affiliation',\n",
    "        - 'Known Hate Group or Chat Room Affiliation',\n",
    "        - 'Violent Video Games',\n",
    "        - 'Bully',\n",
    "        - 'Bullied',\n",
    "        - 'Raised by Single Parent',\n",
    "        - 'Parental Divorce / Separation',\n",
    "        - 'Parental Death in Childhood',\n",
    "        - 'Parental Suicide',\n",
    "        - 'Childhood Trauma',\n",
    "        - 'Physically Abused',\n",
    "        - 'Sexually Abused',\n",
    "        - 'Emotionally Abused',\n",
    "        - 'Neglected',\n",
    "        - 'Mother Violent Treatment',\n",
    "        - 'Parental Substance Abuse',\n",
    "        - 'Parent Criminal Record',\n",
    "        - 'Family Member Incarcerated',\n",
    "        - 'Signs of Being in Crisis',\n",
    "        - 'Timeline of Signs of Crisis',\n",
    "        - 'Inability to Perform Daily Tasks',\n",
    "        - 'Notably Depressed Mood',\n",
    "        - 'Unusually Calm or Happy',\n",
    "        - 'Rapid Mood Swings',\n",
    "        - 'Increased Agitation',\n",
    "        - 'Abusive Behavior',\n",
    "        - 'Isolation',\n",
    "        - 'Losing Touch with Reality',\n",
    "        - 'Paranoia',\n",
    "        - 'Suicidality',\n",
    "        - 'Prior Hospitalization',\n",
    "        - 'Voluntary or Involuntary Hospitalization',\n",
    "        - 'Prior Counseling',\n",
    "        - 'Psychiatric Medication',\n",
    "        - 'Treatment 6 Months Prior to Shooting',\n",
    "        - 'FASD (Fetal Alcohol Spectrum Disorder)',\n",
    "        - 'Autism Spectrum',\n",
    "        - 'Health Issues',\n",
    "        - 'Head Injury / Possible TBI',\n",
    "        - 'Motive: Racism/Xenophobia',\n",
    "        - 'Motive: Religious Hate',\n",
    "        - 'Motive: Misogyny',\n",
    "        - 'Motive: Homophobia',\n",
    "        - 'Motive: Employment Issue',\n",
    "        - 'Motive: Economic Issue',\n",
    "        - 'Motive: Legal Issue',\n",
    "        - 'Motive: Relationship Issue',\n",
    "        - 'Motive: Interpersonal Conflict\\xa0',\n",
    "        - 'Motive: Fame-Seeking',\n",
    "        - 'Motive: Other\\xa0',\n",
    "        - 'Motive: Unknown',\n",
    "        - 'Role of Psychosis in the Shooting',\n",
    "        - 'Social Media Use\\xa0',\n",
    "        - 'Leakage\\xa0',\n",
    "        - 'Interest in Past Mass Violence',\n",
    "        - 'Relationship with Other Shooting(s)',\n",
    "        - 'Legacy Token',\n",
    "        - 'Pop Culture Connection',\n",
    "        - 'Planning',\n",
    "        - 'Performance',\n",
    "        - 'Interest in Firearms',\n",
    "        - 'Firearm Proficiency'\n",
    "- Int\n",
    "    - 5 Columns\n",
    "        - 'Month', \n",
    "        - 'Year', \n",
    "        - 'Urban/Suburban/Rural', \n",
    "        - 'Number Killed', \n",
    "        - 'Number Injured']"
   ]
  },
  {
   "cell_type": "code",
   "execution_count": 125,
   "id": "320aef6e",
   "metadata": {},
   "outputs": [
    {
     "data": {
      "text/plain": [
       "170    3\n",
       "Name: Domestic Abuse Specified, dtype: object"
      ]
     },
     "execution_count": 125,
     "metadata": {},
     "output_type": "execute_result"
    }
   ],
   "source": [
    "mass_shooters['Domestic Abuse Specified'].sample()"
   ]
  },
  {
   "cell_type": "code",
   "execution_count": 134,
   "id": "9674d2b0",
   "metadata": {},
   "outputs": [
    {
     "data": {
      "text/plain": [
       "0       135\n",
       "1        34\n",
       "2        15\n",
       "1, 2      4\n",
       "Name: Voluntary or Mandatory Counseling, dtype: int64"
      ]
     },
     "execution_count": 134,
     "metadata": {},
     "output_type": "execute_result"
    }
   ],
   "source": [
    "mass_shooters['Voluntary or Mandatory Counseling'].value_counts()"
   ]
  },
  {
   "cell_type": "code",
   "execution_count": 119,
   "id": "66c80789",
   "metadata": {},
   "outputs": [],
   "source": [
    "\n",
    "\n"
   ]
  },
  {
   "cell_type": "code",
   "execution_count": 91,
   "id": "c86fcb94",
   "metadata": {},
   "outputs": [
    {
     "ename": "ParserError",
     "evalue": "Unknown string format: 11/19-20/2022",
     "output_type": "error",
     "traceback": [
      "\u001b[0;31m---------------------------------------------------------------------------\u001b[0m",
      "\u001b[0;31mTypeError\u001b[0m                                 Traceback (most recent call last)",
      "\u001b[0;32m/usr/local/anaconda3/lib/python3.9/site-packages/pandas/core/arrays/datetimes.py\u001b[0m in \u001b[0;36mobjects_to_datetime64ns\u001b[0;34m(data, dayfirst, yearfirst, utc, errors, require_iso8601, allow_object, allow_mixed)\u001b[0m\n\u001b[1;32m   2235\u001b[0m         \u001b[0;32mtry\u001b[0m\u001b[0;34m:\u001b[0m\u001b[0;34m\u001b[0m\u001b[0;34m\u001b[0m\u001b[0m\n\u001b[0;32m-> 2236\u001b[0;31m             \u001b[0mvalues\u001b[0m\u001b[0;34m,\u001b[0m \u001b[0mtz_parsed\u001b[0m \u001b[0;34m=\u001b[0m \u001b[0mconversion\u001b[0m\u001b[0;34m.\u001b[0m\u001b[0mdatetime_to_datetime64\u001b[0m\u001b[0;34m(\u001b[0m\u001b[0mdata\u001b[0m\u001b[0;34m.\u001b[0m\u001b[0mravel\u001b[0m\u001b[0;34m(\u001b[0m\u001b[0;34m\"K\"\u001b[0m\u001b[0;34m)\u001b[0m\u001b[0;34m)\u001b[0m\u001b[0;34m\u001b[0m\u001b[0;34m\u001b[0m\u001b[0m\n\u001b[0m\u001b[1;32m   2237\u001b[0m             \u001b[0;31m# If tzaware, these values represent unix timestamps, so we\u001b[0m\u001b[0;34m\u001b[0m\u001b[0;34m\u001b[0m\u001b[0m\n",
      "\u001b[0;32m/usr/local/anaconda3/lib/python3.9/site-packages/pandas/_libs/tslibs/conversion.pyx\u001b[0m in \u001b[0;36mpandas._libs.tslibs.conversion.datetime_to_datetime64\u001b[0;34m()\u001b[0m\n",
      "\u001b[0;31mTypeError\u001b[0m: Unrecognized value type: <class 'str'>",
      "\nDuring handling of the above exception, another exception occurred:\n",
      "\u001b[0;31mParserError\u001b[0m                               Traceback (most recent call last)",
      "\u001b[0;32m/var/folders/6x/kctcvd8x6l18t57t92kmqy6w0000gn/T/ipykernel_67069/1305248111.py\u001b[0m in \u001b[0;36m<module>\u001b[0;34m\u001b[0m\n\u001b[1;32m      1\u001b[0m \u001b[0;31m# Change Object Columns\u001b[0m\u001b[0;34m\u001b[0m\u001b[0;34m\u001b[0m\u001b[0m\n\u001b[1;32m      2\u001b[0m \u001b[0mmass_shooters\u001b[0m\u001b[0;34m[\u001b[0m\u001b[0;34m'Case #'\u001b[0m\u001b[0;34m]\u001b[0m \u001b[0;34m=\u001b[0m \u001b[0mmass_shooters\u001b[0m\u001b[0;34m[\u001b[0m\u001b[0;34m'Case #'\u001b[0m\u001b[0;34m]\u001b[0m\u001b[0;34m.\u001b[0m\u001b[0mastype\u001b[0m\u001b[0;34m(\u001b[0m\u001b[0mint\u001b[0m\u001b[0;34m)\u001b[0m\u001b[0;34m\u001b[0m\u001b[0;34m\u001b[0m\u001b[0m\n\u001b[0;32m----> 3\u001b[0;31m \u001b[0mmass_shooters\u001b[0m\u001b[0;34m[\u001b[0m\u001b[0;34m'Full Date'\u001b[0m\u001b[0;34m]\u001b[0m \u001b[0;34m=\u001b[0m \u001b[0mpd\u001b[0m\u001b[0;34m.\u001b[0m\u001b[0mto_datetime\u001b[0m\u001b[0;34m(\u001b[0m\u001b[0mmass_shooters\u001b[0m\u001b[0;34m[\u001b[0m\u001b[0;34m'Full Date'\u001b[0m\u001b[0;34m]\u001b[0m\u001b[0;34m)\u001b[0m\u001b[0;34m\u001b[0m\u001b[0;34m\u001b[0m\u001b[0m\n\u001b[0m",
      "\u001b[0;32m/usr/local/anaconda3/lib/python3.9/site-packages/pandas/core/tools/datetimes.py\u001b[0m in \u001b[0;36mto_datetime\u001b[0;34m(arg, errors, dayfirst, yearfirst, utc, format, exact, unit, infer_datetime_format, origin, cache)\u001b[0m\n\u001b[1;32m   1049\u001b[0m             \u001b[0mresult\u001b[0m \u001b[0;34m=\u001b[0m \u001b[0marg\u001b[0m\u001b[0;34m.\u001b[0m\u001b[0mmap\u001b[0m\u001b[0;34m(\u001b[0m\u001b[0mcache_array\u001b[0m\u001b[0;34m)\u001b[0m\u001b[0;34m\u001b[0m\u001b[0;34m\u001b[0m\u001b[0m\n\u001b[1;32m   1050\u001b[0m         \u001b[0;32melse\u001b[0m\u001b[0;34m:\u001b[0m\u001b[0;34m\u001b[0m\u001b[0;34m\u001b[0m\u001b[0m\n\u001b[0;32m-> 1051\u001b[0;31m             \u001b[0mvalues\u001b[0m \u001b[0;34m=\u001b[0m \u001b[0mconvert_listlike\u001b[0m\u001b[0;34m(\u001b[0m\u001b[0marg\u001b[0m\u001b[0;34m.\u001b[0m\u001b[0m_values\u001b[0m\u001b[0;34m,\u001b[0m \u001b[0mformat\u001b[0m\u001b[0;34m)\u001b[0m\u001b[0;34m\u001b[0m\u001b[0;34m\u001b[0m\u001b[0m\n\u001b[0m\u001b[1;32m   1052\u001b[0m             \u001b[0mresult\u001b[0m \u001b[0;34m=\u001b[0m \u001b[0marg\u001b[0m\u001b[0;34m.\u001b[0m\u001b[0m_constructor\u001b[0m\u001b[0;34m(\u001b[0m\u001b[0mvalues\u001b[0m\u001b[0;34m,\u001b[0m \u001b[0mindex\u001b[0m\u001b[0;34m=\u001b[0m\u001b[0marg\u001b[0m\u001b[0;34m.\u001b[0m\u001b[0mindex\u001b[0m\u001b[0;34m,\u001b[0m \u001b[0mname\u001b[0m\u001b[0;34m=\u001b[0m\u001b[0marg\u001b[0m\u001b[0;34m.\u001b[0m\u001b[0mname\u001b[0m\u001b[0;34m)\u001b[0m\u001b[0;34m\u001b[0m\u001b[0;34m\u001b[0m\u001b[0m\n\u001b[1;32m   1053\u001b[0m     \u001b[0;32melif\u001b[0m \u001b[0misinstance\u001b[0m\u001b[0;34m(\u001b[0m\u001b[0marg\u001b[0m\u001b[0;34m,\u001b[0m \u001b[0;34m(\u001b[0m\u001b[0mABCDataFrame\u001b[0m\u001b[0;34m,\u001b[0m \u001b[0mabc\u001b[0m\u001b[0;34m.\u001b[0m\u001b[0mMutableMapping\u001b[0m\u001b[0;34m)\u001b[0m\u001b[0;34m)\u001b[0m\u001b[0;34m:\u001b[0m\u001b[0;34m\u001b[0m\u001b[0;34m\u001b[0m\u001b[0m\n",
      "\u001b[0;32m/usr/local/anaconda3/lib/python3.9/site-packages/pandas/core/tools/datetimes.py\u001b[0m in \u001b[0;36m_convert_listlike_datetimes\u001b[0;34m(arg, format, name, tz, unit, errors, infer_datetime_format, dayfirst, yearfirst, exact)\u001b[0m\n\u001b[1;32m    400\u001b[0m     \u001b[0;32massert\u001b[0m \u001b[0mformat\u001b[0m \u001b[0;32mis\u001b[0m \u001b[0;32mNone\u001b[0m \u001b[0;32mor\u001b[0m \u001b[0minfer_datetime_format\u001b[0m\u001b[0;34m\u001b[0m\u001b[0;34m\u001b[0m\u001b[0m\n\u001b[1;32m    401\u001b[0m     \u001b[0mutc\u001b[0m \u001b[0;34m=\u001b[0m \u001b[0mtz\u001b[0m \u001b[0;34m==\u001b[0m \u001b[0;34m\"utc\"\u001b[0m\u001b[0;34m\u001b[0m\u001b[0;34m\u001b[0m\u001b[0m\n\u001b[0;32m--> 402\u001b[0;31m     result, tz_parsed = objects_to_datetime64ns(\n\u001b[0m\u001b[1;32m    403\u001b[0m         \u001b[0marg\u001b[0m\u001b[0;34m,\u001b[0m\u001b[0;34m\u001b[0m\u001b[0;34m\u001b[0m\u001b[0m\n\u001b[1;32m    404\u001b[0m         \u001b[0mdayfirst\u001b[0m\u001b[0;34m=\u001b[0m\u001b[0mdayfirst\u001b[0m\u001b[0;34m,\u001b[0m\u001b[0;34m\u001b[0m\u001b[0;34m\u001b[0m\u001b[0m\n",
      "\u001b[0;32m/usr/local/anaconda3/lib/python3.9/site-packages/pandas/core/arrays/datetimes.py\u001b[0m in \u001b[0;36mobjects_to_datetime64ns\u001b[0;34m(data, dayfirst, yearfirst, utc, errors, require_iso8601, allow_object, allow_mixed)\u001b[0m\n\u001b[1;32m   2240\u001b[0m             \u001b[0;32mreturn\u001b[0m \u001b[0mvalues\u001b[0m\u001b[0;34m.\u001b[0m\u001b[0mview\u001b[0m\u001b[0;34m(\u001b[0m\u001b[0;34m\"i8\"\u001b[0m\u001b[0;34m)\u001b[0m\u001b[0;34m,\u001b[0m \u001b[0mtz_parsed\u001b[0m\u001b[0;34m\u001b[0m\u001b[0;34m\u001b[0m\u001b[0m\n\u001b[1;32m   2241\u001b[0m         \u001b[0;32mexcept\u001b[0m \u001b[0;34m(\u001b[0m\u001b[0mValueError\u001b[0m\u001b[0;34m,\u001b[0m \u001b[0mTypeError\u001b[0m\u001b[0;34m)\u001b[0m\u001b[0;34m:\u001b[0m\u001b[0;34m\u001b[0m\u001b[0;34m\u001b[0m\u001b[0m\n\u001b[0;32m-> 2242\u001b[0;31m             \u001b[0;32mraise\u001b[0m \u001b[0merr\u001b[0m\u001b[0;34m\u001b[0m\u001b[0;34m\u001b[0m\u001b[0m\n\u001b[0m\u001b[1;32m   2243\u001b[0m \u001b[0;34m\u001b[0m\u001b[0m\n\u001b[1;32m   2244\u001b[0m     \u001b[0;32mif\u001b[0m \u001b[0mtz_parsed\u001b[0m \u001b[0;32mis\u001b[0m \u001b[0;32mnot\u001b[0m \u001b[0;32mNone\u001b[0m\u001b[0;34m:\u001b[0m\u001b[0;34m\u001b[0m\u001b[0;34m\u001b[0m\u001b[0m\n",
      "\u001b[0;32m/usr/local/anaconda3/lib/python3.9/site-packages/pandas/core/arrays/datetimes.py\u001b[0m in \u001b[0;36mobjects_to_datetime64ns\u001b[0;34m(data, dayfirst, yearfirst, utc, errors, require_iso8601, allow_object, allow_mixed)\u001b[0m\n\u001b[1;32m   2222\u001b[0m     \u001b[0morder\u001b[0m\u001b[0;34m:\u001b[0m \u001b[0mLiteral\u001b[0m\u001b[0;34m[\u001b[0m\u001b[0;34m\"F\"\u001b[0m\u001b[0;34m,\u001b[0m \u001b[0;34m\"C\"\u001b[0m\u001b[0;34m]\u001b[0m \u001b[0;34m=\u001b[0m \u001b[0;34m\"F\"\u001b[0m \u001b[0;32mif\u001b[0m \u001b[0mflags\u001b[0m\u001b[0;34m.\u001b[0m\u001b[0mf_contiguous\u001b[0m \u001b[0;32melse\u001b[0m \u001b[0;34m\"C\"\u001b[0m\u001b[0;34m\u001b[0m\u001b[0;34m\u001b[0m\u001b[0m\n\u001b[1;32m   2223\u001b[0m     \u001b[0;32mtry\u001b[0m\u001b[0;34m:\u001b[0m\u001b[0;34m\u001b[0m\u001b[0;34m\u001b[0m\u001b[0m\n\u001b[0;32m-> 2224\u001b[0;31m         result, tz_parsed = tslib.array_to_datetime(\n\u001b[0m\u001b[1;32m   2225\u001b[0m             \u001b[0mdata\u001b[0m\u001b[0;34m.\u001b[0m\u001b[0mravel\u001b[0m\u001b[0;34m(\u001b[0m\u001b[0;34m\"K\"\u001b[0m\u001b[0;34m)\u001b[0m\u001b[0;34m,\u001b[0m\u001b[0;34m\u001b[0m\u001b[0;34m\u001b[0m\u001b[0m\n\u001b[1;32m   2226\u001b[0m             \u001b[0merrors\u001b[0m\u001b[0;34m=\u001b[0m\u001b[0merrors\u001b[0m\u001b[0;34m,\u001b[0m\u001b[0;34m\u001b[0m\u001b[0;34m\u001b[0m\u001b[0m\n",
      "\u001b[0;32m/usr/local/anaconda3/lib/python3.9/site-packages/pandas/_libs/tslib.pyx\u001b[0m in \u001b[0;36mpandas._libs.tslib.array_to_datetime\u001b[0;34m()\u001b[0m\n",
      "\u001b[0;32m/usr/local/anaconda3/lib/python3.9/site-packages/pandas/_libs/tslib.pyx\u001b[0m in \u001b[0;36mpandas._libs.tslib.array_to_datetime\u001b[0;34m()\u001b[0m\n",
      "\u001b[0;32m/usr/local/anaconda3/lib/python3.9/site-packages/pandas/_libs/tslib.pyx\u001b[0m in \u001b[0;36mpandas._libs.tslib._array_to_datetime_object\u001b[0;34m()\u001b[0m\n",
      "\u001b[0;32m/usr/local/anaconda3/lib/python3.9/site-packages/pandas/_libs/tslib.pyx\u001b[0m in \u001b[0;36mpandas._libs.tslib._array_to_datetime_object\u001b[0;34m()\u001b[0m\n",
      "\u001b[0;32m/usr/local/anaconda3/lib/python3.9/site-packages/pandas/_libs/tslibs/parsing.pyx\u001b[0m in \u001b[0;36mpandas._libs.tslibs.parsing.parse_datetime_string\u001b[0;34m()\u001b[0m\n",
      "\u001b[0;32m/usr/local/anaconda3/lib/python3.9/site-packages/dateutil/parser/_parser.py\u001b[0m in \u001b[0;36mparse\u001b[0;34m(timestr, parserinfo, **kwargs)\u001b[0m\n\u001b[1;32m   1366\u001b[0m         \u001b[0;32mreturn\u001b[0m \u001b[0mparser\u001b[0m\u001b[0;34m(\u001b[0m\u001b[0mparserinfo\u001b[0m\u001b[0;34m)\u001b[0m\u001b[0;34m.\u001b[0m\u001b[0mparse\u001b[0m\u001b[0;34m(\u001b[0m\u001b[0mtimestr\u001b[0m\u001b[0;34m,\u001b[0m \u001b[0;34m**\u001b[0m\u001b[0mkwargs\u001b[0m\u001b[0;34m)\u001b[0m\u001b[0;34m\u001b[0m\u001b[0;34m\u001b[0m\u001b[0m\n\u001b[1;32m   1367\u001b[0m     \u001b[0;32melse\u001b[0m\u001b[0;34m:\u001b[0m\u001b[0;34m\u001b[0m\u001b[0;34m\u001b[0m\u001b[0m\n\u001b[0;32m-> 1368\u001b[0;31m         \u001b[0;32mreturn\u001b[0m \u001b[0mDEFAULTPARSER\u001b[0m\u001b[0;34m.\u001b[0m\u001b[0mparse\u001b[0m\u001b[0;34m(\u001b[0m\u001b[0mtimestr\u001b[0m\u001b[0;34m,\u001b[0m \u001b[0;34m**\u001b[0m\u001b[0mkwargs\u001b[0m\u001b[0;34m)\u001b[0m\u001b[0;34m\u001b[0m\u001b[0;34m\u001b[0m\u001b[0m\n\u001b[0m\u001b[1;32m   1369\u001b[0m \u001b[0;34m\u001b[0m\u001b[0m\n\u001b[1;32m   1370\u001b[0m \u001b[0;34m\u001b[0m\u001b[0m\n",
      "\u001b[0;32m/usr/local/anaconda3/lib/python3.9/site-packages/dateutil/parser/_parser.py\u001b[0m in \u001b[0;36mparse\u001b[0;34m(self, timestr, default, ignoretz, tzinfos, **kwargs)\u001b[0m\n\u001b[1;32m    641\u001b[0m \u001b[0;34m\u001b[0m\u001b[0m\n\u001b[1;32m    642\u001b[0m         \u001b[0;32mif\u001b[0m \u001b[0mres\u001b[0m \u001b[0;32mis\u001b[0m \u001b[0;32mNone\u001b[0m\u001b[0;34m:\u001b[0m\u001b[0;34m\u001b[0m\u001b[0;34m\u001b[0m\u001b[0m\n\u001b[0;32m--> 643\u001b[0;31m             \u001b[0;32mraise\u001b[0m \u001b[0mParserError\u001b[0m\u001b[0;34m(\u001b[0m\u001b[0;34m\"Unknown string format: %s\"\u001b[0m\u001b[0;34m,\u001b[0m \u001b[0mtimestr\u001b[0m\u001b[0;34m)\u001b[0m\u001b[0;34m\u001b[0m\u001b[0;34m\u001b[0m\u001b[0m\n\u001b[0m\u001b[1;32m    644\u001b[0m \u001b[0;34m\u001b[0m\u001b[0m\n\u001b[1;32m    645\u001b[0m         \u001b[0;32mif\u001b[0m \u001b[0mlen\u001b[0m\u001b[0;34m(\u001b[0m\u001b[0mres\u001b[0m\u001b[0;34m)\u001b[0m \u001b[0;34m==\u001b[0m \u001b[0;36m0\u001b[0m\u001b[0;34m:\u001b[0m\u001b[0;34m\u001b[0m\u001b[0;34m\u001b[0m\u001b[0m\n",
      "\u001b[0;31mParserError\u001b[0m: Unknown string format: 11/19-20/2022"
     ]
    }
   ],
   "source": [
    "# Change Object Columns\n",
    "mass_shooters['Case #'] = mass_shooters['Case #'].astype(int)\n",
    "mass_shooters['Day of Week'] = mass_shooters['Day of Week'].astype(int)\n",
    "mass_shooters['Day'] = mass_shooters['Day'].astype(int)\n",
    "mass_shooters['Race'] = np.where(mass_shooters['Race'] == 0, 'White', mass_shooters['Race'])\n",
    "mass_shooters['Race'] = np.where(mass_shooters['Race'] == 1, 'Black', mass_shooters['Race'])\n",
    "mass_shooters['Race'] = np.where(mass_shooters['Race'] == 2, 'Latinx', mass_shooters['Race'])\n",
    "mass_shooters['Race'] = np.where(mass_shooters['Race'] == 3, 'Asian', mass_shooters['Race'])\n",
    "mass_shooters['Race'] = np.where(mass_shooters['Race'] == 4, 'Middle Eastern', mass_shooters['Race'])\n",
    "mass_shooters['Race'] = np.where(mass_shooters['Race'] == 5, 'Native American', mass_shooters['Race'])\n",
    "mass_shooters['Employment Status'] = np.where(mass_shooters['Employment Status'] == 0, 'Not Working', mass_shooters['Employment Status'])\n",
    "mass_shooters['Employment Status'] = np.where(mass_shooters['Employment Status'] == 1, 'Working', mass_shooters['Employment Status'])\n",
    "mass_shooters['Criminal Record'] = np.where(mass_shooters['Criminal Record'] == 0, 'No Evidence', mass_shooters['Criminal Record'])\n",
    "mass_shooters['Criminal Record'] = np.where(mass_shooters['Criminal Record'] == 1, 'Yes', mass_shooters['Criminal Record'])\n",
    "mass_shooters['Criminal Record'] = np.where(mass_shooters['Criminal Record'] == '1`', 'Yes', mass_shooters['Criminal Record'])\n"
   ]
  },
  {
   "cell_type": "markdown",
   "id": "1ff1fefb",
   "metadata": {},
   "source": [
    "---"
   ]
  },
  {
   "cell_type": "markdown",
   "id": "c7842eda",
   "metadata": {},
   "source": [
    "<a id='preparenull'></a>\n",
    "<h3><b><i>\n",
    "    Null Handling\n",
    "</i></b></h3>\n",
    "<li><a href='#prepare'>Prepare Top</a></li>"
   ]
  },
  {
   "cell_type": "code",
   "execution_count": 73,
   "id": "5fbbfb90",
   "metadata": {},
   "outputs": [
    {
     "data": {
      "text/plain": [
       "['Race',\n",
       " 'Sexual Orientation',\n",
       " 'Relationship Status',\n",
       " 'Children',\n",
       " 'Employment Status',\n",
       " 'Employment Type\\xa0',\n",
       " 'Community Involvement',\n",
       " 'Known Hate Group or Chat Room Affiliation',\n",
       " 'Violent Video Games',\n",
       " 'Bully',\n",
       " 'Bullied',\n",
       " 'Raised by Single Parent',\n",
       " 'Parental Divorce / Separation',\n",
       " 'Parental Death in Childhood',\n",
       " 'Parental Suicide',\n",
       " 'Childhood Trauma',\n",
       " 'Physically Abused',\n",
       " 'Sexually Abused',\n",
       " 'Emotionally Abused',\n",
       " 'Neglected',\n",
       " 'Mother Violent Treatment',\n",
       " 'Parental Substance Abuse',\n",
       " 'Parent Criminal Record',\n",
       " 'Family Member Incarcerated',\n",
       " 'Adult Trauma',\n",
       " 'Timeline of Signs of Crisis',\n",
       " 'Signs of Crisis Expanded',\n",
       " 'Prior Counseling',\n",
       " 'Psychiatric Medication',\n",
       " 'FASD (Fetal Alcohol Spectrum Disorder)',\n",
       " 'Substance Use',\n",
       " 'Known Prejudices\\xa0',\n",
       " 'Motive: Racism/Xenophobia',\n",
       " 'Motive: Religious Hate',\n",
       " 'Motive: Misogyny',\n",
       " 'Motive: Homophobia',\n",
       " 'Motive: Employment Issue',\n",
       " 'Motive: Economic Issue',\n",
       " 'Motive: Legal Issue',\n",
       " 'Motive: Relationship Issue',\n",
       " 'Motive: Interpersonal Conflict\\xa0',\n",
       " 'Motive: Fame-Seeking',\n",
       " 'Motive: Other\\xa0',\n",
       " 'Interest in Firearms',\n",
       " 'Firearm Proficiency']"
      ]
     },
     "execution_count": 73,
     "metadata": {},
     "output_type": "execute_result"
    }
   ],
   "source": [
    "# Check which columns have nulls\n",
    "has_nulls = check_nulls(mass_shooters)\n",
    "has_nulls"
   ]
  },
  {
   "cell_type": "code",
   "execution_count": 74,
   "id": "83d9daf6",
   "metadata": {},
   "outputs": [
    {
     "data": {
      "text/plain": [
       "Race                                          object\n",
       "Sexual Orientation                           float64\n",
       "Relationship Status                          float64\n",
       "Children                                     float64\n",
       "Employment Status                             object\n",
       "Employment Type                              float64\n",
       "Community Involvement                        float64\n",
       "Known Hate Group or Chat Room Affiliation    float64\n",
       "Violent Video Games                          float64\n",
       "Bully                                        float64\n",
       "Bullied                                      float64\n",
       "Raised by Single Parent                      float64\n",
       "Parental Divorce / Separation                float64\n",
       "Parental Death in Childhood                  float64\n",
       "Parental Suicide                             float64\n",
       "Childhood Trauma                             float64\n",
       "Physically Abused                            float64\n",
       "Sexually Abused                              float64\n",
       "Emotionally Abused                           float64\n",
       "Neglected                                    float64\n",
       "Mother Violent Treatment                     float64\n",
       "Parental Substance Abuse                     float64\n",
       "Parent Criminal Record                       float64\n",
       "Family Member Incarcerated                   float64\n",
       "Adult Trauma                                  object\n",
       "Timeline of Signs of Crisis                  float64\n",
       "Signs of Crisis Expanded                      object\n",
       "Prior Counseling                             float64\n",
       "Psychiatric Medication                       float64\n",
       "FASD (Fetal Alcohol Spectrum Disorder)       float64\n",
       "Substance Use                                 object\n",
       "Known Prejudices                              object\n",
       "Motive: Racism/Xenophobia                    float64\n",
       "Motive: Religious Hate                       float64\n",
       "Motive: Misogyny                             float64\n",
       "Motive: Homophobia                           float64\n",
       "Motive: Employment Issue                     float64\n",
       "Motive: Economic Issue                       float64\n",
       "Motive: Legal Issue                          float64\n",
       "Motive: Relationship Issue                   float64\n",
       "Motive: Interpersonal Conflict               float64\n",
       "Motive: Fame-Seeking                         float64\n",
       "Motive: Other                                float64\n",
       "Interest in Firearms                         float64\n",
       "Firearm Proficiency                          float64\n",
       "dtype: object"
      ]
     },
     "execution_count": 74,
     "metadata": {},
     "output_type": "execute_result"
    }
   ],
   "source": [
    "mass_shooters[has_nulls].dtypes"
   ]
  },
  {
   "cell_type": "markdown",
   "id": "2cf517f3",
   "metadata": {},
   "source": [
    "---"
   ]
  },
  {
   "cell_type": "markdown",
   "id": "fa00b298",
   "metadata": {},
   "source": [
    "<a id='preparetext'></a>\n",
    "<h3><b><i>\n",
    "    Text Modification\n",
    "</i></b></h3>\n",
    "<li><a href='#prepare'>Prepare Top</a></li>"
   ]
  },
  {
   "cell_type": "code",
   "execution_count": null,
   "id": "4d1a2d13",
   "metadata": {},
   "outputs": [],
   "source": []
  },
  {
   "cell_type": "markdown",
   "id": "d71790fd",
   "metadata": {},
   "source": [
    "---"
   ]
  },
  {
   "cell_type": "markdown",
   "id": "8b3913c5",
   "metadata": {},
   "source": [
    "<a id='preparesummary'></a>\n",
    "<h3><b><i>\n",
    "    Summary of Preparation\n",
    "</i></b></h3>\n",
    "<li><a href='#prepare'>Prepare Top</a></li>\n",
    "\n",
    "- Dropped Data\n",
    "    - 1 Row\n",
    "        - Missing majority of info\n",
    "    - 47 columns\n",
    "        - Useless in scope of predictive value\n",
    "        - Percent nulls above 20%\n",
    "- Dtype Cleaning\n",
    "- Null Handling\n",
    "- Text Modifications"
   ]
  },
  {
   "cell_type": "markdown",
   "id": "56c707c4",
   "metadata": {},
   "source": [
    "<div style='background-color: orange'>\n",
    "<a id=\"wrangle\"></a>\n",
    "    <h1 style='text-align: center'>\n",
    "        <b><i>\n",
    "            Wrangle\n",
    "        </i></b></h1>\n",
    "<li><a href='#TableOfContents'>Table of Contents</a></li>"
   ]
  },
  {
   "cell_type": "code",
   "execution_count": null,
   "id": "4d060353",
   "metadata": {},
   "outputs": [],
   "source": []
  },
  {
   "cell_type": "markdown",
   "id": "df3853ba",
   "metadata": {},
   "source": [
    "<div style='background-color: orange'>\n",
    "<a id=\"misc\"></a>\n",
    "    <h1 style='text-align: center'>\n",
    "        <b><i>\n",
    "            Miscellaneous\n",
    "        </i></b></h1>\n",
    "<li><a href='#TableOfContents'>Table of Contents</a></li>"
   ]
  },
  {
   "cell_type": "code",
   "execution_count": 59,
   "id": "88861cbf",
   "metadata": {},
   "outputs": [],
   "source": [
    "def drop_nullpct(df, percent_cutoff):\n",
    "    '''\n",
    "    Takes in a dataframe and a percent_cutoff of nulls to drop a column on\n",
    "    and returns the new dataframe and a dictionary of dropped columns and their pct...\n",
    "    \n",
    "    INPUT:\n",
    "    df = pandas dataframe\n",
    "    percent_cutoff = Null percent cutoff amount\n",
    "    \n",
    "    OUTPUT:\n",
    "    new_df = pandas dataframe with dropped columns\n",
    "    drop_null_pct_dict = dict of column names dropped and pcts\n",
    "    '''\n",
    "    drop_null_pct_dict = {\n",
    "        'column_name' : [],\n",
    "        'percent_null' : []\n",
    "    }\n",
    "    for col in df:\n",
    "        pct = df[col].isna().sum() / df.shape[0]\n",
    "        if pct > 0.20:\n",
    "            df = df.drop(columns=col)\n",
    "            drop_null_pct_dict['column_name'].append(col)\n",
    "            drop_null_pct_dict['percent_null'].append(pct)\n",
    "    new_df = df\n",
    "    return new_df, drop_null_pct_dict"
   ]
  },
  {
   "cell_type": "code",
   "execution_count": 72,
   "id": "b9c36535",
   "metadata": {},
   "outputs": [],
   "source": [
    "def check_nulls(df):\n",
    "    '''\n",
    "    Takes a dataframe and returns a list of columns that has at least one null value\n",
    "    \n",
    "    INPUT:\n",
    "    df = pandas dataframe\n",
    "    \n",
    "    OUTPUT:\n",
    "    has_nulls = List of column names with at least one null\n",
    "    '''\n",
    "    has_nulls = []\n",
    "    for col in df:\n",
    "        nulls = df[col].isna().sum()\n",
    "        if nulls > 0:\n",
    "            has_nulls.append(col)\n",
    "    return has_nulls"
   ]
  },
  {
   "cell_type": "code",
   "execution_count": null,
   "id": "efaa46b9",
   "metadata": {},
   "outputs": [],
   "source": []
  }
 ],
 "metadata": {
  "kernelspec": {
   "display_name": "Python 3 (ipykernel)",
   "language": "python",
   "name": "python3"
  },
  "language_info": {
   "codemirror_mode": {
    "name": "ipython",
    "version": 3
   },
   "file_extension": ".py",
   "mimetype": "text/x-python",
   "name": "python",
   "nbconvert_exporter": "python",
   "pygments_lexer": "ipython3",
   "version": "3.9.13"
  }
 },
 "nbformat": 4,
 "nbformat_minor": 5
}
