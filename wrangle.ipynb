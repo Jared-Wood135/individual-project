{
 "cells": [
  {
   "cell_type": "markdown",
   "id": "067c6c6b",
   "metadata": {},
   "source": [
    "<div style='background-color: orange'>\n",
    "<a id=\"TableOfContents\"></a>\n",
    "    <h1 style='text-align: center'>\n",
    "        <b><i>\n",
    "            TABLE OF CONTENTS:\n",
    "        </i></b></h1>\n",
    "<li><a href='#imports'>Imports</a></li>\n",
    "<li><a href=\"#acquire\">Acquire</a></li>\n",
    "<li><a href='#prepare'>Prepare</a></li>\n",
    "<li><a href=\"#wrangle\">Wrangle</a></li>\n",
    "<li><a href='#misc'>Miscellaneous</a></li>"
   ]
  },
  {
   "cell_type": "markdown",
   "id": "793b55d6",
   "metadata": {},
   "source": [
    "<div style='background-color: orange'>\n",
    "<a id=\"imports\"></a>\n",
    "    <h1 style='text-align: center'>\n",
    "        <b><i>\n",
    "            Imports\n",
    "        </i></b></h1>\n",
    "<li><a href='#TableOfContents'>Table of Contents</a></li>"
   ]
  },
  {
   "cell_type": "code",
   "execution_count": 184,
   "id": "beb5f3e4",
   "metadata": {},
   "outputs": [],
   "source": [
    "# Vectorization and tables\n",
    "import numpy as np\n",
    "import pandas as pd\n",
    "\n",
    "# Ignore Warnings\n",
    "import warnings\n",
    "warnings.filterwarnings('ignore')\n",
    "\n",
    "# .py files\n",
    "import wrangle as w"
   ]
  },
  {
   "cell_type": "markdown",
   "id": "84cd970a",
   "metadata": {},
   "source": [
    "<div style='background-color: orange'>\n",
    "<a id=\"acquire\"></a>\n",
    "    <h1 style='text-align: center'>\n",
    "        <b><i>\n",
    "            Acquire\n",
    "        </i></b></h1>\n",
    "<li><a href='#TableOfContents'>Table of Contents</a></li>"
   ]
  },
  {
   "cell_type": "markdown",
   "id": "9dbe69c7",
   "metadata": {},
   "source": [
    "Acquire everything from the vanilla mass_shooters database via excel sheet\n",
    "\n",
    "- mass_shooters Vanilla Shape:\n",
    "    - Rows: 189\n",
    "    - Columns: 153"
   ]
  },
  {
   "cell_type": "code",
   "execution_count": 144,
   "id": "d0df65b5",
   "metadata": {},
   "outputs": [
    {
     "data": {
      "text/plain": [
       "(189, 153)"
      ]
     },
     "execution_count": 144,
     "metadata": {},
     "output_type": "execute_result"
    }
   ],
   "source": [
    "# Acquire the vanilla data\n",
    "mass_shooters = pd.read_excel('mass_shooters.xlsx', sheet_name='Full Database', header=1)\n",
    "mass_shooters.shape"
   ]
  },
  {
   "cell_type": "code",
   "execution_count": 145,
   "id": "d6c66bc4",
   "metadata": {},
   "outputs": [
    {
     "data": {
      "text/plain": [
       "(189, 153)"
      ]
     },
     "execution_count": 145,
     "metadata": {},
     "output_type": "execute_result"
    }
   ],
   "source": [
    "# Verify .py file functionality\n",
    "mass_shooters_py = w.acquire_mass_shooters()\n",
    "mass_shooters_py.shape"
   ]
  },
  {
   "cell_type": "markdown",
   "id": "3fc72510",
   "metadata": {},
   "source": [
    "<div style='background-color: orange'>\n",
    "<a id=\"prepare\"></a>\n",
    "    <h1 style='text-align: center'>\n",
    "        <b><i>\n",
    "            Prepare\n",
    "        </i></b></h1>\n",
    "<li><a href='#TableOfContents'>Table of Contents</a></li>\n",
    "<li><a href='#preparedrop'>Drop Data</a></li>\n",
    "<li><a href='#preparenull'>Null Handling</a></li>\n",
    "<li><a href='#preparedtypes'>Dtype Cleaning</a></li>\n",
    "<li><a href='#preparedisseminate'>Disseminate Column Information</a></li>\n",
    "<li><a href='#prepareaggregate'>Aggregate Column Creation</a></li>\n",
    "<li><a href='#preparetext'>Text Modifications</a></li>\n",
    "<li><a href='#preparesummary'>Summary of Preparation</a></li>"
   ]
  },
  {
   "cell_type": "markdown",
   "id": "bb6c897c",
   "metadata": {},
   "source": [
    "<a id='preparedrop'></a>\n",
    "<h3><b><i>\n",
    "    Drop Data\n",
    "</i></b></h3>\n",
    "<li><a href='#prepare'>Prepare Top</a></li>"
   ]
  },
  {
   "cell_type": "markdown",
   "id": "437fab4f",
   "metadata": {},
   "source": [
    "- 1 Row\n",
    "    - Missing majority of info\n",
    "- 47 columns\n",
    "    - Useless in scope of predictive value\n",
    "    - Percent nulls above 20%"
   ]
  },
  {
   "cell_type": "code",
   "execution_count": 146,
   "id": "38a01725",
   "metadata": {},
   "outputs": [],
   "source": [
    "# Remove row '145, 146' (Too many nulls)\n",
    "mass_shooters = mass_shooters.drop(mass_shooters[mass_shooters['Case #'] == '145, 146'].index)"
   ]
  },
  {
   "cell_type": "code",
   "execution_count": 147,
   "id": "0c1973fa",
   "metadata": {},
   "outputs": [],
   "source": [
    "# Drop cols that aren't necessary\n",
    "# Generally anything that would've been known during\n",
    "# and/or after the shooting\n",
    "# 29 columns\n",
    "drop_perpetratorname_cols = [\n",
    "    'Shooter Last Name',\n",
    "    'Shooter First Name'\n",
    "]\n",
    "\n",
    "drop_date_cols = [\n",
    "    'Full Date'\n",
    "]\n",
    "\n",
    "drop_location_cols = [\n",
    "    'Street Number',\n",
    "    'Street Name',\n",
    "    'Zip Code',\n",
    "    'Latitude',\n",
    "    'Longitude',\n",
    "    'State Code',\n",
    "    'Region',\n",
    "    'Metro/Micro Statistical Area Type',\n",
    "    'Location',\n",
    "    'Insider or Outsider',\n",
    "    'Workplace Shooting',\n",
    "    'Multiple Locations',\n",
    "    'Other Location',\n",
    "    'Armed Person on Scene',\n",
    "    'Specify Armed Person'\n",
    "]\n",
    "\n",
    "drop_victim_cols = [\n",
    "    'Family Member Victim',\n",
    "    'Romantic Partner Victim',\n",
    "    'Kidnapping or Hostage Situation'\n",
    "]\n",
    "\n",
    "drop_weapons_cols = [\n",
    "    'Total Firearms Brought to the Scene',\n",
    "    'Other Weapons or Gear',\n",
    "    'Specify Other Weapons or Gear',\n",
    "]\n",
    "\n",
    "drop_resolutionofcase_cols = [\n",
    "    'On-Scene Outcome',\n",
    "    'Who Killed Shooter On Scene',\n",
    "    'Attempt to Flee',\n",
    "    'Insanity Defense',\n",
    "    'Criminal Sentence'\n",
    "]"
   ]
  },
  {
   "cell_type": "code",
   "execution_count": 148,
   "id": "3939937c",
   "metadata": {},
   "outputs": [],
   "source": [
    "# Drop the above cols\n",
    "mass_shooters = mass_shooters.drop(columns=drop_perpetratorname_cols)\n",
    "mass_shooters = mass_shooters.drop(columns=drop_date_cols)\n",
    "mass_shooters = mass_shooters.drop(columns=drop_location_cols)\n",
    "mass_shooters = mass_shooters.drop(columns=drop_victim_cols)\n",
    "mass_shooters = mass_shooters.drop(columns=drop_weapons_cols)\n",
    "mass_shooters = mass_shooters.drop(columns=drop_resolutionofcase_cols)"
   ]
  },
  {
   "cell_type": "code",
   "execution_count": 149,
   "id": "13287ae3",
   "metadata": {},
   "outputs": [
    {
     "data": {
      "text/plain": [
       "(188, 124)"
      ]
     },
     "execution_count": 149,
     "metadata": {},
     "output_type": "execute_result"
    }
   ],
   "source": [
    "mass_shooters.shape"
   ]
  },
  {
   "cell_type": "code",
   "execution_count": 150,
   "id": "e147a0f6",
   "metadata": {},
   "outputs": [],
   "source": [
    "# Drop cols based off of a null percent cutoff\n",
    "# 21 columns\n",
    "mass_shooters, drop_null_pct_dict = drop_nullpct(mass_shooters, 0.20)"
   ]
  },
  {
   "cell_type": "code",
   "execution_count": 151,
   "id": "57576f57",
   "metadata": {},
   "outputs": [
    {
     "data": {
      "text/html": [
       "<div>\n",
       "<style scoped>\n",
       "    .dataframe tbody tr th:only-of-type {\n",
       "        vertical-align: middle;\n",
       "    }\n",
       "\n",
       "    .dataframe tbody tr th {\n",
       "        vertical-align: top;\n",
       "    }\n",
       "\n",
       "    .dataframe thead th {\n",
       "        text-align: right;\n",
       "    }\n",
       "</style>\n",
       "<table border=\"1\" class=\"dataframe\">\n",
       "  <thead>\n",
       "    <tr style=\"text-align: right;\">\n",
       "      <th></th>\n",
       "      <th>column_name</th>\n",
       "      <th>percent_null</th>\n",
       "    </tr>\n",
       "  </thead>\n",
       "  <tbody>\n",
       "    <tr>\n",
       "      <th>0</th>\n",
       "      <td>Height</td>\n",
       "      <td>0.702128</td>\n",
       "    </tr>\n",
       "    <tr>\n",
       "      <th>1</th>\n",
       "      <td>Weight</td>\n",
       "      <td>0.760638</td>\n",
       "    </tr>\n",
       "    <tr>\n",
       "      <th>2</th>\n",
       "      <td>Religion</td>\n",
       "      <td>0.505319</td>\n",
       "    </tr>\n",
       "    <tr>\n",
       "      <th>3</th>\n",
       "      <td>Education</td>\n",
       "      <td>0.265957</td>\n",
       "    </tr>\n",
       "    <tr>\n",
       "      <th>4</th>\n",
       "      <td>School Performance</td>\n",
       "      <td>0.531915</td>\n",
       "    </tr>\n",
       "    <tr>\n",
       "      <th>5</th>\n",
       "      <td>School Performance Specified</td>\n",
       "      <td>0.526596</td>\n",
       "    </tr>\n",
       "    <tr>\n",
       "      <th>6</th>\n",
       "      <td>Birth Order</td>\n",
       "      <td>0.420213</td>\n",
       "    </tr>\n",
       "    <tr>\n",
       "      <th>7</th>\n",
       "      <td>Number of Siblings</td>\n",
       "      <td>0.255319</td>\n",
       "    </tr>\n",
       "    <tr>\n",
       "      <th>8</th>\n",
       "      <td>Older Siblings</td>\n",
       "      <td>0.436170</td>\n",
       "    </tr>\n",
       "    <tr>\n",
       "      <th>9</th>\n",
       "      <td>Younger Siblings</td>\n",
       "      <td>0.446809</td>\n",
       "    </tr>\n",
       "    <tr>\n",
       "      <th>10</th>\n",
       "      <td>Military Branch</td>\n",
       "      <td>0.744681</td>\n",
       "    </tr>\n",
       "    <tr>\n",
       "      <th>11</th>\n",
       "      <td>Community Involvement Specified</td>\n",
       "      <td>0.680851</td>\n",
       "    </tr>\n",
       "    <tr>\n",
       "      <th>12</th>\n",
       "      <td>Childhood SES</td>\n",
       "      <td>0.297872</td>\n",
       "    </tr>\n",
       "    <tr>\n",
       "      <th>13</th>\n",
       "      <td>Psychiatric Medication Specified</td>\n",
       "      <td>0.765957</td>\n",
       "    </tr>\n",
       "    <tr>\n",
       "      <th>14</th>\n",
       "      <td>Medication Category</td>\n",
       "      <td>0.771277</td>\n",
       "    </tr>\n",
       "    <tr>\n",
       "      <th>15</th>\n",
       "      <td>Health Issues - Specify</td>\n",
       "      <td>0.760638</td>\n",
       "    </tr>\n",
       "    <tr>\n",
       "      <th>16</th>\n",
       "      <td>Leakage How</td>\n",
       "      <td>0.547872</td>\n",
       "    </tr>\n",
       "    <tr>\n",
       "      <th>17</th>\n",
       "      <td>Leakage Who</td>\n",
       "      <td>0.553191</td>\n",
       "    </tr>\n",
       "    <tr>\n",
       "      <th>18</th>\n",
       "      <td>Leakage Specific/Nonspecific</td>\n",
       "      <td>0.537234</td>\n",
       "    </tr>\n",
       "    <tr>\n",
       "      <th>19</th>\n",
       "      <td>Specify Relationship to Other Shooting(s)</td>\n",
       "      <td>0.872340</td>\n",
       "    </tr>\n",
       "    <tr>\n",
       "      <th>20</th>\n",
       "      <td>Specify Pop Culture Connection</td>\n",
       "      <td>0.893617</td>\n",
       "    </tr>\n",
       "  </tbody>\n",
       "</table>\n",
       "</div>"
      ],
      "text/plain": [
       "                                  column_name  percent_null\n",
       "0                                      Height      0.702128\n",
       "1                                      Weight      0.760638\n",
       "2                                    Religion      0.505319\n",
       "3                                   Education      0.265957\n",
       "4                          School Performance      0.531915\n",
       "5                School Performance Specified      0.526596\n",
       "6                                 Birth Order      0.420213\n",
       "7                          Number of Siblings      0.255319\n",
       "8                              Older Siblings      0.436170\n",
       "9                            Younger Siblings      0.446809\n",
       "10                            Military Branch      0.744681\n",
       "11            Community Involvement Specified      0.680851\n",
       "12                              Childhood SES      0.297872\n",
       "13           Psychiatric Medication Specified      0.765957\n",
       "14                        Medication Category      0.771277\n",
       "15                    Health Issues - Specify      0.760638\n",
       "16                                Leakage How      0.547872\n",
       "17                               Leakage Who       0.553191\n",
       "18              Leakage Specific/Nonspecific       0.537234\n",
       "19  Specify Relationship to Other Shooting(s)      0.872340\n",
       "20             Specify Pop Culture Connection      0.893617"
      ]
     },
     "execution_count": 151,
     "metadata": {},
     "output_type": "execute_result"
    }
   ],
   "source": [
    "# Get list and percentages of everything dropped\n",
    "pd.DataFrame(drop_null_pct_dict)"
   ]
  },
  {
   "cell_type": "code",
   "execution_count": 152,
   "id": "e6fffe0b",
   "metadata": {},
   "outputs": [
    {
     "data": {
      "text/plain": [
       "(188, 103)"
      ]
     },
     "execution_count": 152,
     "metadata": {},
     "output_type": "execute_result"
    }
   ],
   "source": [
    "mass_shooters.shape"
   ]
  },
  {
   "cell_type": "markdown",
   "id": "1c330cab",
   "metadata": {},
   "source": [
    "---"
   ]
  },
  {
   "cell_type": "markdown",
   "id": "cf0580e5",
   "metadata": {},
   "source": [
    "<a id='preparenull'></a>\n",
    "<h3><b><i>\n",
    "    Null Handling\n",
    "</i></b></h3>\n",
    "<li><a href='#prepare'>Prepare Top</a></li>"
   ]
  },
  {
   "cell_type": "markdown",
   "id": "cb62df66",
   "metadata": {},
   "source": [
    "45 columns out of 106 columns with nulls:\n",
    "\n",
    "- Fill with mode\n",
    "    - 44 columns\n",
    "- Fill uniquely\n",
    "    - 1 columns ('None')"
   ]
  },
  {
   "cell_type": "code",
   "execution_count": 153,
   "id": "9f0180bc",
   "metadata": {},
   "outputs": [
    {
     "data": {
      "text/plain": [
       "45"
      ]
     },
     "execution_count": 153,
     "metadata": {},
     "output_type": "execute_result"
    }
   ],
   "source": [
    "# Identify cols with nulls\n",
    "has_nulls = check_nulls(mass_shooters)\n",
    "len(has_nulls)"
   ]
  },
  {
   "cell_type": "code",
   "execution_count": 154,
   "id": "7478db3c",
   "metadata": {},
   "outputs": [],
   "source": [
    "# Filling nulls\n",
    "mass_shooters['Signs of Crisis Expanded'] = mass_shooters['Signs of Crisis Expanded'].fillna('None')\n",
    "for col in has_nulls:\n",
    "    mass_shooters[col] = mass_shooters[col].fillna(mass_shooters[col].mode()[0])"
   ]
  },
  {
   "cell_type": "code",
   "execution_count": 155,
   "id": "d14770f0",
   "metadata": {},
   "outputs": [
    {
     "data": {
      "text/plain": [
       "0"
      ]
     },
     "execution_count": 155,
     "metadata": {},
     "output_type": "execute_result"
    }
   ],
   "source": [
    "# Recheck for any nulls\n",
    "has_nulls_verify = check_nulls(mass_shooters)\n",
    "len(has_nulls_verify)"
   ]
  },
  {
   "cell_type": "markdown",
   "id": "1babb391",
   "metadata": {},
   "source": [
    "---"
   ]
  },
  {
   "cell_type": "markdown",
   "id": "b461329e",
   "metadata": {},
   "source": [
    "<a id='preparedtypes'></a>\n",
    "<h3><b><i>\n",
    "    Dtype Cleaning\n",
    "</i></b></h3>\n",
    "<li><a href='#prepare'>Prepare Top</a></li>"
   ]
  },
  {
   "cell_type": "markdown",
   "id": "9de81a03",
   "metadata": {},
   "source": [
    "87 columns out of 106 columns adjusted:\n",
    "- Object\n",
    "    - 4 columns to int\n",
    "    - 3 columns fixed\n",
    "         - 'Day',\n",
    "             - '19-20' == 19\n",
    "         - 'Race',\n",
    "             - 'Moroccan' == 6\n",
    "             - 'Bosnian' == 7\n",
    "         - 'Criminal Record',\n",
    "             - '1`' == 1\n",
    "- Float\n",
    "    - 79 columns to int\n",
    "    - 3 columns fixed\n",
    "         - 'Gender',\n",
    "             - 3.0 == 0\n",
    "         - 'Children',\n",
    "             - 5.0 == 0\n",
    "         - 'History of Domestic Abuse',\n",
    "             - 3.0 == 2\n",
    "- Int\n",
    "    - Nothing changed"
   ]
  },
  {
   "cell_type": "code",
   "execution_count": 156,
   "id": "bd8dcfc3",
   "metadata": {},
   "outputs": [],
   "source": [
    "# Ensure there are no ' ' values...\n",
    "for col in mass_shooters.columns:\n",
    "    if mass_shooters[col].dtype == 'object':\n",
    "        if mass_shooters[col].apply(lambda x: isinstance(x, str) and x.isspace()).any():\n",
    "            mass_shooters[col].replace(r'^\\s*$', np.nan, regex=True, inplace=True)\n",
    "            mass_shooters[col].fillna(mass_shooters[col].mode()[0], inplace=True)"
   ]
  },
  {
   "cell_type": "code",
   "execution_count": 158,
   "id": "509055ee",
   "metadata": {},
   "outputs": [],
   "source": [
    "# Change Object Columns\n",
    "mass_shooters['Case #'] = mass_shooters['Case #'].astype(int)\n",
    "mass_shooters['Day'] = np.where(mass_shooters['Day'] == '19-20', 19, mass_shooters['Day'])\n",
    "mass_shooters['Day'] = mass_shooters['Day'].astype(int)\n",
    "mass_shooters['Race'] = np.where(mass_shooters['Race'] == 'Moroccan', 6, mass_shooters['Race'])\n",
    "mass_shooters['Race'] = np.where(mass_shooters['Race'] == 'Bosnian', 7, mass_shooters['Race'])\n",
    "mass_shooters['Race'] = mass_shooters['Race'].astype(int)\n",
    "mass_shooters['Criminal Record'] = np.where(mass_shooters['Criminal Record'] == '1`', 1, mass_shooters['Criminal Record'])\n",
    "mass_shooters['Criminal Record'] = mass_shooters['Criminal Record'].astype(int)"
   ]
  },
  {
   "cell_type": "code",
   "execution_count": 229,
   "id": "d7d11831",
   "metadata": {},
   "outputs": [],
   "source": [
    "# Make preliminary changes before astype changes\n",
    "mass_shooters['Gender'] = np.where(mass_shooters['Gender'] == 3.0, 0, mass_shooters['Gender'])\n",
    "mass_shooters['Children'] = np.where(mass_shooters['Children'] == 5.0, 0, mass_shooters['Children'])\n",
    "mass_shooters['History of Domestic Abuse'] = np.where(mass_shooters['History of Domestic Abuse'] == 3.0, 2, mass_shooters['History of Domestic Abuse'])"
   ]
  },
  {
   "cell_type": "code",
   "execution_count": 160,
   "id": "73654d30",
   "metadata": {},
   "outputs": [],
   "source": [
    "# All floats confirmed ready to change to int\n",
    "for col in mass_shooters.select_dtypes(include=float).columns.to_list():\n",
    "    mass_shooters[col] = mass_shooters[col].astype(int)"
   ]
  },
  {
   "cell_type": "code",
   "execution_count": 161,
   "id": "9c9c2578",
   "metadata": {},
   "outputs": [],
   "source": [
    "# No changes to int dtypes necessary..."
   ]
  },
  {
   "cell_type": "markdown",
   "id": "7844963f",
   "metadata": {},
   "source": [
    "---"
   ]
  },
  {
   "cell_type": "markdown",
   "id": "79479cc4",
   "metadata": {},
   "source": [
    "<a id='preparedisseminate'></a>\n",
    "<h3><b><i>\n",
    "    Disseminate Column Information\n",
    "</i></b></h3>\n",
    "<li><a href='#prepare'>Prepare Top</a></li>"
   ]
  },
  {
   "cell_type": "markdown",
   "id": "dd1f1e5b",
   "metadata": {},
   "source": [
    "Due to column information formatting, encoders will not disseminate/create binary columns properly;therefore, must manually create them..."
   ]
  },
  {
   "cell_type": "markdown",
   "id": "3db1aaaf",
   "metadata": {},
   "source": [
    "- 31 columns manually disseminated\n",
    "    - 137 new columns generated"
   ]
  },
  {
   "cell_type": "code",
   "execution_count": 177,
   "id": "c5b8b8ae",
   "metadata": {},
   "outputs": [],
   "source": [
    "# Disseminate 'Adult Trauma'\n",
    "mass_shooters['adult_trauma_no_evidence'] = np.where(mass_shooters['Adult Trauma'].astype(str).str.contains('0'), 1, 0)\n",
    "mass_shooters['adult_trauma_death_of_parent'] = np.where(mass_shooters['Adult Trauma'].astype(str).str.contains('1'), 1, 0)\n",
    "mass_shooters['adult_trauma_death_or_loss_of_child'] = np.where(mass_shooters['Adult Trauma'].astype(str).str.contains('2'), 1, 0)\n",
    "mass_shooters['adult_trauma_death_of_family_member_causing_significant_distress'] = np.where(mass_shooters['Adult Trauma'].astype(str).str.contains('3'), 1, 0)\n",
    "mass_shooters['adult_trauma_from_war'] = np.where(mass_shooters['Adult Trauma'].astype(str).str.contains('4'), 1, 0)\n",
    "mass_shooters['adult_trauma_accident'] = np.where(mass_shooters['Adult Trauma'].astype(str).str.contains('5'), 1, 0)\n",
    "mass_shooters['adult_trauma_other'] = np.where(mass_shooters['Adult Trauma'].astype(str).str.contains('6'), 1, 0)"
   ]
  },
  {
   "cell_type": "code",
   "execution_count": 179,
   "id": "f259d721",
   "metadata": {},
   "outputs": [],
   "source": [
    "# Disseminate 'Voluntary or Mandatory Counseling'\n",
    "mass_shooters['voluntary_or_mandatory_counseling_na'] = np.where(mass_shooters['Voluntary or Mandatory Counseling'].astype(str).str.contains('0'), 1, 0)\n",
    "mass_shooters['voluntary_or_mandatory_counseling_voluntary'] = np.where(mass_shooters['Voluntary or Mandatory Counseling'].astype(str).str.contains('1'), 1, 0)\n",
    "mass_shooters['voluntary_or_mandatory_counseling_involuntary'] = np.where(mass_shooters['Voluntary or Mandatory Counseling'].astype(str).str.contains('2'), 1, 0)"
   ]
  },
  {
   "cell_type": "code",
   "execution_count": 185,
   "id": "2fbe0ace",
   "metadata": {},
   "outputs": [],
   "source": [
    "# Disseminate 'Mental Illness'\n",
    "mass_shooters['mental_illness_no_evidence'] = np.where(mass_shooters['Mental Illness'].astype(str).str.contains('0'), 1, 0)\n",
    "mass_shooters['mental_illness_mood_disorder'] = np.where(mass_shooters['Mental Illness'].astype(str).str.contains('1'), 1, 0)\n",
    "mass_shooters['mental_illness_thought_disorder'] = np.where(mass_shooters['Mental Illness'].astype(str).str.contains('2'), 1, 0)\n",
    "mass_shooters['mental_illness_other_psychiatric_disorder'] = np.where(mass_shooters['Mental Illness'].astype(str).str.contains('3'), 1, 0)\n",
    "mass_shooters['mental_illness_indication_but_no_diagnosis'] = np.where(mass_shooters['Mental Illness'].astype(str).str.contains('4'), 1, 0)"
   ]
  },
  {
   "cell_type": "code",
   "execution_count": 187,
   "id": "75422a14",
   "metadata": {},
   "outputs": [],
   "source": [
    "# Disseminate 'Known Family Mental Health History'\n",
    "mass_shooters['known_family_mental_health_history_no_evidence'] = np.where(mass_shooters['Known Family Mental Health History'].astype(str).str.contains('0'), 1, 0)\n",
    "mass_shooters['known_family_mental_health_history_parents'] = np.where(mass_shooters['Known Family Mental Health History'].astype(str).str.contains('1'), 1, 0)\n",
    "mass_shooters['known_family_mental_health_history_other_relative'] = np.where(mass_shooters['Known Family Mental Health History'].astype(str).str.contains('2'), 1, 0)"
   ]
  },
  {
   "cell_type": "code",
   "execution_count": 189,
   "id": "01404696",
   "metadata": {},
   "outputs": [],
   "source": [
    "# Disseminate 'Part I Crimes'\n",
    "mass_shooters['part_i_crimes_no_evidence'] = np.where(mass_shooters['Part I Crimes'].astype(str).str.contains('0'), 1, 0)\n",
    "mass_shooters['part_i_crimes_homicide'] = np.where(mass_shooters['Part I Crimes'].astype(str).str.contains('1'), 1, 0)\n",
    "mass_shooters['part_i_crimes_forcible_rape'] = np.where(mass_shooters['Part I Crimes'].astype(str).str.contains('2'), 1, 0)\n",
    "mass_shooters['part_i_crimes_robbery'] = np.where(mass_shooters['Part I Crimes'].astype(str).str.contains('3'), 1, 0)\n",
    "mass_shooters['part_i_crimes_aggravated_assault'] = np.where(mass_shooters['Part I Crimes'].astype(str).str.contains('4'), 1, 0)\n",
    "mass_shooters['part_i_crimes_burglary'] = np.where(mass_shooters['Part I Crimes'].astype(str).str.contains('5'), 1, 0)\n",
    "mass_shooters['part_i_crimes_larceny_theft'] = np.where(mass_shooters['Part I Crimes'].astype(str).str.contains('6'), 1, 0)\n",
    "mass_shooters['part_i_crimes_motor_vehicle_theft'] = np.where(mass_shooters['Part I Crimes'].astype(str).str.contains('7'), 1, 0)\n",
    "mass_shooters['part_i_crimes_arson'] = np.where(mass_shooters['Part I Crimes'].astype(str).str.contains('8'), 1, 0)"
   ]
  },
  {
   "cell_type": "code",
   "execution_count": 191,
   "id": "ab98d47b",
   "metadata": {},
   "outputs": [],
   "source": [
    "# Disseminate 'Part II Crimes'\n",
    "mass_shooters['part_ii_crimes_no_evidence'] = np.where(mass_shooters['Part II Crimes'].astype(str).str.contains('0'), 1, 0)\n",
    "mass_shooters['part_ii_crimes_simple_assault'] = np.where(mass_shooters['Part II Crimes'].astype(str).str.contains('1'), 1, 0)\n",
    "mass_shooters['part_ii_crimes_fraud_forgery_embezzlement'] = np.where(mass_shooters['Part II Crimes'].astype(str).str.contains('2'), 1, 0)\n",
    "mass_shooters['part_ii_crimes_stolen_property'] = np.where(mass_shooters['Part II Crimes'].astype(str).str.contains('3'), 1, 0)\n",
    "mass_shooters['part_ii_crimes_vandalism'] = np.where(mass_shooters['Part II Crimes'].astype(str).str.contains('4'), 1, 0)\n",
    "mass_shooters['part_ii_crimes_weapons_offenses'] = np.where(mass_shooters['Part II Crimes'].astype(str).str.contains('5'), 1, 0)\n",
    "mass_shooters['part_ii_crimes_prostitution'] = np.where(mass_shooters['Part II Crimes'].astype(str).str.contains('6'), 1, 0)\n",
    "mass_shooters['part_ii_crimes_drugs'] = np.where(mass_shooters['Part II Crimes'].astype(str).str.contains('7'), 1, 0)\n",
    "mass_shooters['part_ii_crimes_dui'] = np.where(mass_shooters['Part II Crimes'].astype(str).str.contains('8'), 1, 0)\n",
    "mass_shooters['part_ii_crimes_other'] = np.where(mass_shooters['Part II Crimes'].astype(str).str.contains('9'), 1, 0)"
   ]
  },
  {
   "cell_type": "code",
   "execution_count": 193,
   "id": "80a2e19d",
   "metadata": {},
   "outputs": [],
   "source": [
    "# Disseminate 'Domestic Abuse Specified'\n",
    "mass_shooters['domestic_abuse_specified_na'] = np.where(mass_shooters['Domestic Abuse Specified'].astype(str).str.contains('0'), 1, 0)\n",
    "mass_shooters['domestic_abuse_specified_non_sexual'] = np.where(mass_shooters['Domestic Abuse Specified'].astype(str).str.contains('1'), 1, 0)\n",
    "mass_shooters['domestic_abuse_specified_sexual_violence'] = np.where(mass_shooters['Domestic Abuse Specified'].astype(str).str.contains('2'), 1, 0)\n",
    "mass_shooters['domestic_abuse_specified_threats_coercive_control'] = np.where(mass_shooters['Domestic Abuse Specified'].astype(str).str.contains('3'), 1, 0)\n",
    "mass_shooters['domestic_abuse_specified_threats_with_deadly_weapon'] = np.where(mass_shooters['Domestic Abuse Specified'].astype(str).str.contains('4'), 1, 0)"
   ]
  },
  {
   "cell_type": "code",
   "execution_count": 195,
   "id": "562ca62a",
   "metadata": {},
   "outputs": [],
   "source": [
    "# Disseminate 'Recent or Ongoing Stressor'\n",
    "mass_shooters['recent_or_ongoing_stressor_no_evidence'] = np.where(mass_shooters['Recent or Ongoing Stressor'].astype(str).str.contains('0'), 1, 0)\n",
    "mass_shooters['recent_or_ongoing_stressor_recent_breakup'] = np.where(mass_shooters['Recent or Ongoing Stressor'].astype(str).str.contains('1'), 1, 0)\n",
    "mass_shooters['recent_or_ongoing_stressor_employment'] = np.where(mass_shooters['Recent or Ongoing Stressor'].astype(str).str.contains('2'), 1, 0)\n",
    "mass_shooters['recent_or_ongoing_stressor_economic_stressor'] = np.where(mass_shooters['Recent or Ongoing Stressor'].astype(str).str.contains('3'), 1, 0)\n",
    "mass_shooters['recent_or_ongoing_stressor_family_issue'] = np.where(mass_shooters['Recent or Ongoing Stressor'].astype(str).str.contains('4'), 1, 0)\n",
    "mass_shooters['recent_or_ongoing_stressor_legal_issue'] = np.where(mass_shooters['Recent or Ongoing Stressor'].astype(str).str.contains('5'), 1, 0)\n",
    "mass_shooters['recent_or_ongoing_stressor_other'] = np.where(mass_shooters['Recent or Ongoing Stressor'].astype(str).str.contains('6'), 1, 0)"
   ]
  },
  {
   "cell_type": "code",
   "execution_count": 197,
   "id": "62ff99c8",
   "metadata": {},
   "outputs": [],
   "source": [
    "# Disseminate 'Substance Use'\n",
    "mass_shooters['substance_use_no_evidence'] = np.where(mass_shooters['Substance Use'].astype(str).str.contains('0'), 1, 0)\n",
    "mass_shooters['substance_use_alcohol'] = np.where(mass_shooters['Substance Use'].astype(str).str.contains('1'), 1, 0)\n",
    "mass_shooters['substance_use_marijuana'] = np.where(mass_shooters['Substance Use'].astype(str).str.contains('2'), 1, 0)\n",
    "mass_shooters['substance_use_other_drugs'] = np.where(mass_shooters['Substance Use'].astype(str).str.contains('3'), 1, 0)"
   ]
  },
  {
   "cell_type": "code",
   "execution_count": 199,
   "id": "4b8cbf92",
   "metadata": {},
   "outputs": [],
   "source": [
    "# Disseminate 'Known Prejudices\\xa0'\n",
    "mass_shooters['known_prejudices_no_evidence'] = np.where(mass_shooters['Known Prejudices\\xa0'].astype(str).str.contains('0'), 1, 0)\n",
    "mass_shooters['known_prejudices_racism'] = np.where(mass_shooters['Known Prejudices\\xa0'].astype(str).str.contains('1'), 1, 0)\n",
    "mass_shooters['known_prejudices_misogyny'] = np.where(mass_shooters['Known Prejudices\\xa0'].astype(str).str.contains('2'), 1, 0)\n",
    "mass_shooters['known_prejudices_homophobia'] = np.where(mass_shooters['Known Prejudices\\xa0'].astype(str).str.contains('3'), 1, 0)\n",
    "mass_shooters['known_prejudices_religious_hatred'] = np.where(mass_shooters['Known Prejudices\\xa0'].astype(str).str.contains('4'), 1, 0)"
   ]
  },
  {
   "cell_type": "code",
   "execution_count": 213,
   "id": "b26d9778",
   "metadata": {},
   "outputs": [],
   "source": [
    "# Disseminate 'Urban/Suburban/Rural'\n",
    "mass_shooters['urban'] = np.where(mass_shooters['Urban/Suburban/Rural'] == 0, 1, 0)\n",
    "mass_shooters['suburban'] = np.where(mass_shooters['Urban/Suburban/Rural'] == 1, 1, 0)\n",
    "mass_shooters['rural'] = np.where(mass_shooters['Urban/Suburban/Rural'] == 2, 1, 0)"
   ]
  },
  {
   "cell_type": "code",
   "execution_count": 216,
   "id": "fc3098eb",
   "metadata": {},
   "outputs": [],
   "source": [
    "# Disseminate 'Race'\n",
    "mass_shooters['race_white'] = np.where(mass_shooters['Race'] == 0, 1, 0)\n",
    "mass_shooters['race_black'] = np.where(mass_shooters['Race'] == 1, 1, 0)\n",
    "mass_shooters['race_hispanic'] = np.where(mass_shooters['Race'] == 2, 1, 0)\n",
    "mass_shooters['race_asian'] = np.where(mass_shooters['Race'] == 3, 1, 0)\n",
    "mass_shooters['race_middle_eastern'] = np.where(mass_shooters['Race'] == 4, 1, 0)\n",
    "mass_shooters['race_native_american'] = np.where(mass_shooters['Race'] == 5, 1, 0)\n",
    "mass_shooters['race_moroccan'] = np.where(mass_shooters['Race'] == 6, 1, 0)\n",
    "mass_shooters['race_bosnian'] = np.where(mass_shooters['Race'] == 7, 1, 0)"
   ]
  },
  {
   "cell_type": "code",
   "execution_count": 217,
   "id": "f7ad4ba3",
   "metadata": {},
   "outputs": [],
   "source": [
    "# Disseminate 'Relationship Status'\n",
    "mass_shooters['relationship_status_single'] = np.where(mass_shooters['Relationship Status'] == 0, 1, 0)\n",
    "mass_shooters['relationship_status_boyfriend_girlfriend'] = np.where(mass_shooters['Relationship Status'] == 1, 1, 0)\n",
    "mass_shooters['relationship_status_married'] = np.where(mass_shooters['Relationship Status'] == 2, 1, 0)\n",
    "mass_shooters['relationship_status_divorce_separated'] = np.where(mass_shooters['Relationship Status'] == 3, 1, 0)"
   ]
  },
  {
   "cell_type": "code",
   "execution_count": 219,
   "id": "a77b40d8",
   "metadata": {},
   "outputs": [],
   "source": [
    "# Disseminate 'Employment Type\\xa0'\n",
    "mass_shooters['employment_type_blue_collar'] = np.where(mass_shooters['Employment Type\\xa0'] == 0, 1, 0)\n",
    "mass_shooters['employment_type_white_collar'] = np.where(mass_shooters['Employment Type\\xa0'] == 1, 1, 0)\n",
    "mass_shooters['employment_type_in_between'] = np.where(mass_shooters['Employment Type\\xa0'] == 2, 1, 0)"
   ]
  },
  {
   "cell_type": "code",
   "execution_count": 223,
   "id": "1e3ef070",
   "metadata": {},
   "outputs": [],
   "source": [
    "# Disseminate 'Military Service'\n",
    "mass_shooters['military_service_no'] = np.where(mass_shooters['Military Service'] == 0, 1, 0)\n",
    "mass_shooters['military_service_yes'] = np.where(mass_shooters['Military Service'] == 1, 1, 0)\n",
    "mass_shooters['military_service_joined_but_did_not_complete_training'] = np.where(mass_shooters['Military Service'] == 2, 1, 0)"
   ]
  },
  {
   "cell_type": "code",
   "execution_count": 224,
   "id": "cdb83cb0",
   "metadata": {},
   "outputs": [],
   "source": [
    "# Disseminate 'Community Involvement'\n",
    "mass_shooters['community_involvement_no_evidence'] = np.where(mass_shooters['Community Involvement'] == 0, 1, 0)\n",
    "mass_shooters['community_involvement_somewhat'] = np.where(mass_shooters['Community Involvement'] == 1, 1, 0)\n",
    "mass_shooters['community_involvement_heavily_involved'] = np.where(mass_shooters['Community Involvement'] == 2, 1, 0)\n",
    "mass_shooters['community_involvement_formerly_involved'] = np.where(mass_shooters['Community Involvement'] == 3, 1, 0)"
   ]
  },
  {
   "cell_type": "code",
   "execution_count": 225,
   "id": "9ef0b816",
   "metadata": {},
   "outputs": [],
   "source": [
    "# Disseminate 'Highest Level of Justice System Involvement'\n",
    "mass_shooters['highest_level_of_justice_system_involvement_na'] = np.where(mass_shooters['Highest Level of Justice System Involvement'] == 0, 1, 0)\n",
    "mass_shooters['highest_level_of_justice_system_involvement_suspected'] = np.where(mass_shooters['Highest Level of Justice System Involvement'] == 1, 1, 0)\n",
    "mass_shooters['highest_level_of_justice_system_involvement_arrested'] = np.where(mass_shooters['Highest Level of Justice System Involvement'] == 2, 1, 0)\n",
    "mass_shooters['highest_level_of_justice_system_involvement_charged'] = np.where(mass_shooters['Highest Level of Justice System Involvement'] == 3, 1, 0)\n",
    "mass_shooters['highest_level_of_justice_system_involvement_convicted'] = np.where(mass_shooters['Highest Level of Justice System Involvement'] == 4, 1, 0)"
   ]
  },
  {
   "cell_type": "code",
   "execution_count": 227,
   "id": "fdc9d48b",
   "metadata": {},
   "outputs": [],
   "source": [
    "# Disseminate 'History of Physical Altercations'\n",
    "mass_shooters['history_of_physical_altercations_na'] = np.where(mass_shooters['History of Physical Altercations'] == 0, 1, 0)\n",
    "mass_shooters['history_of_physical_altercations_yes'] = np.where(mass_shooters['History of Physical Altercations'] == 1, 1, 0)\n",
    "mass_shooters['history_of_physical_altercations_attacked_inanimate_objects_during_arguments'] = np.where(mass_shooters['History of Physical Altercations'] == 2, 1, 0)"
   ]
  },
  {
   "cell_type": "code",
   "execution_count": null,
   "id": "c9683169",
   "metadata": {},
   "outputs": [],
   "source": [
    "# Disseminate 'History of Domestic Abuse'\n",
    "mass_shooters['history_of_domestic_abuse_na'] = np.where(mass_shooters['History of Domestic Abuse'] == 0, 1, 0)\n",
    "mass_shooters['history_of_domestic_abuse_abused_romantic_partner'] = np.where(mass_shooters['History of Domestic Abuse'] == 1, 1, 0)\n",
    "mass_shooters['history_of_domestic_abuse_abused_other_family'] = np.where(mass_shooters['History of Domestic Abuse'] == 2, 1, 0)"
   ]
  },
  {
   "cell_type": "code",
   "execution_count": null,
   "id": "19ed18ca",
   "metadata": {},
   "outputs": [],
   "source": [
    "# Disseminate 'Known Hate Group or Chat Room Affiliation'\n",
    "mass_shooters['known_hate_group_or_chat_room_affiliation_no_evidence'] = np.where(mass_shooters['Known Hate Group or Chat Room Affiliation'] == 0, 1, 0)\n",
    "mass_shooters['known_hate_group_or_chat_room_affiliation_hate_group'] = np.where(mass_shooters['Known Hate Group or Chat Room Affiliation'] == 1, 1, 0)\n",
    "mass_shooters['known_hate_group_or_chat_room_affiliation_other_radical_group'] = np.where(mass_shooters['Known Hate Group or Chat Room Affiliation'] == 2, 1, 0)\n",
    "mass_shooters['known_hate_group_or_chat_room_affiliation_inspired_by_hate_group_but_no_connection'] = np.where(mass_shooters['Known Hate Group or Chat Room Affiliation'] == 3, 1, 0)\n",
    "mass_shooters['known_hate_group_or_chat_room_affiliation_website_or_chat'] = np.where(mass_shooters['Known Hate Group or Chat Room Affiliation'] == 4, 1, 0)"
   ]
  },
  {
   "cell_type": "code",
   "execution_count": null,
   "id": "45dbd69f",
   "metadata": {},
   "outputs": [],
   "source": [
    "# Disseminate 'Violent Video Games'\n",
    "mass_shooters['violent_video_games_no_evidence'] = np.where(mass_shooters['Violent Video Games'] == 0, 1, 0)\n",
    "mass_shooters['violent_video_games_yes'] = np.where(mass_shooters['Violent Video Games'] == 1, 1, 0)\n",
    "mass_shooters['violent_video_games_played_unspecified'] = np.where(mass_shooters['Violent Video Games'] == 2, 1, 0)\n",
    "mass_shooters['violent_video_games_na'] = np.where(mass_shooters['Violent Video Games'] == 3, 1, 0)"
   ]
  },
  {
   "cell_type": "code",
   "execution_count": null,
   "id": "8fcde16d",
   "metadata": {},
   "outputs": [],
   "source": [
    "# Disseminate 'Timeline of Signs of Crisis'\n",
    "mass_shooters['timeline_of_signs_of_crisis_days_before'] = np.where(mass_shooters['Timeline of Signs of Crisis'] == 0, 1, 0)\n",
    "mass_shooters['timeline_of_signs_of_crisis_weeks_before'] = np.where(mass_shooters['Timeline of Signs of Crisis'] == 1, 1, 0)\n",
    "mass_shooters['timeline_of_signs_of_crisis_months_before'] = np.where(mass_shooters['Timeline of Signs of Crisis'] == 2, 1, 0)\n",
    "mass_shooters['timeline_of_signs_of_crisis_years_before'] = np.where(mass_shooters['Timeline of Signs of Crisis'] == 3, 1, 0)"
   ]
  },
  {
   "cell_type": "code",
   "execution_count": null,
   "id": "1d3cdafd",
   "metadata": {},
   "outputs": [],
   "source": [
    "# Disseminate 'Suicidality'\n",
    "mass_shooters['suicidality_no_evidence'] = np.where(mass_shooters['Suicidality'] == 0, 1, 0)\n",
    "mass_shooters['suicidality_yes_prior_to_shooting'] = np.where(mass_shooters['Suicidality'] == 1, 1, 0)\n",
    "mass_shooters['suicidality_intended_to_die_in_shooting_no_prior'] = np.where(mass_shooters['Suicidality'] == 2, 1, 0)"
   ]
  },
  {
   "cell_type": "code",
   "execution_count": null,
   "id": "2d99c7f0",
   "metadata": {},
   "outputs": [],
   "source": [
    "# Disseminate 'Voluntary or Involuntary Hospitalization'\n",
    "mass_shooters['voluntary_or_involuntary_hospitalization_na'] = np.where(mass_shooters['Voluntary or Involuntary Hospitalization'] == 0, 1, 0)\n",
    "mass_shooters['voluntary_or_involuntary_hospitalization_voluntary'] = np.where(mass_shooters['Voluntary or Involuntary Hospitalization'] == 1, 1, 0)\n",
    "mass_shooters['voluntary_or_involuntary_hospitalization_involuntary'] = np.where(mass_shooters['Voluntary or Involuntary Hospitalization'] == 2, 1, 0)"
   ]
  },
  {
   "cell_type": "code",
   "execution_count": null,
   "id": "f917eb06",
   "metadata": {},
   "outputs": [],
   "source": [
    "# Disseminate 'Motive: Racism/Xenophobia'\n",
    "mass_shooters['motive_racism_xenophobia_no_evidence'] = np.where(mass_shooters['Motive: Racism/Xenophobia'] == 0, 1, 0)\n",
    "mass_shooters['motive_racism_xenophobia_targeting_color'] = np.where(mass_shooters['Motive: Racism/Xenophobia'] == 1, 1, 0)\n",
    "mass_shooters['motive_racism_xenophobia_targeting_white'] = np.where(mass_shooters['Motive: Racism/Xenophobia'] == 2, 1, 0)"
   ]
  },
  {
   "cell_type": "code",
   "execution_count": null,
   "id": "13398776",
   "metadata": {},
   "outputs": [],
   "source": [
    "# Disseminate 'Motive: Religious Hate'\n",
    "mass_shooters['motive_religious_hate_no_evidence'] = np.where(mass_shooters['Motive: Religious Hate'] == 0, 1, 0)\n",
    "mass_shooters['motive_religious_hate_antisemitism'] = np.where(mass_shooters['Motive: Religious Hate'] == 1, 1, 0)\n",
    "mass_shooters['motive_religious_hate_islamophobia'] = np.where(mass_shooters['Motive: Religious Hate'] == 2, 1, 0)\n",
    "mass_shooters['motive_religious_hate_angry_with_christianity_or_god'] = np.where(mass_shooters['Motive: Religious Hate'] == 3, 1, 0)"
   ]
  },
  {
   "cell_type": "code",
   "execution_count": null,
   "id": "9dacb7fd",
   "metadata": {},
   "outputs": [],
   "source": [
    "# Disseminate 'Motive: Other\\xa0'\n",
    "mass_shooters['motive_other_no_evidence'] = np.where(mass_shooters['Motive: Other\\xa0'] == 0, 1, 0)\n",
    "mass_shooters['motive_other_yes'] = np.where(mass_shooters['Motive: Other\\xa0'] == 1, 1, 0)\n",
    "mass_shooters['motive_other_generalized_anger'] = np.where(mass_shooters['Motive: Other\\xa0'] == 2, 1, 0)"
   ]
  },
  {
   "cell_type": "code",
   "execution_count": null,
   "id": "c0495560",
   "metadata": {},
   "outputs": [],
   "source": [
    "# Disseminate 'Role of Psychosis in the Shooting'\n",
    "mass_shooters['role_of_psychosis_in_the_shooting_no_evidence'] = np.where(mass_shooters['Role of Psychosis in the Shooting'] == 0, 1, 0)\n",
    "mass_shooters['role_of_psychosis_in_the_shooting_minor_role'] = np.where(mass_shooters['Role of Psychosis in the Shooting'] == 1, 1, 0)\n",
    "mass_shooters['role_of_psychosis_in_the_shooting_moderate_role'] = np.where(mass_shooters['Role of Psychosis in the Shooting'] == 2, 1, 0)\n",
    "mass_shooters['role_of_psychosis_in_the_shooting_major_role'] = np.where(mass_shooters['Role of Psychosis in the Shooting'] == 3, 1, 0)"
   ]
  },
  {
   "cell_type": "code",
   "execution_count": null,
   "id": "44dfd8a6",
   "metadata": {},
   "outputs": [],
   "source": [
    "# Disseminate 'Social Media Use\\xa0'\n",
    "mass_shooters['social_media_use_no_evidence'] = np.where(mass_shooters['Social Media Use\\xa0'] == 0, 1, 0)\n",
    "mass_shooters['social_media_use_yes'] = np.where(mass_shooters['Social Media Use\\xa0'] == 1, 1, 0)\n",
    "mass_shooters['social_media_use_na'] = np.where(mass_shooters['Social Media Use\\xa0'] == 2, 1, 0)"
   ]
  },
  {
   "cell_type": "code",
   "execution_count": null,
   "id": "759463eb",
   "metadata": {},
   "outputs": [],
   "source": [
    "# Disseminate 'Pop Culture Connection'\n",
    "mass_shooters['pop_culture_connection_no_evidence'] = np.where(mass_shooters['Pop Culture Connection'] == 0, 1, 0)\n",
    "mass_shooters['pop_culture_connection_explicit_reference'] = np.where(mass_shooters['Pop Culture Connection'] == 1, 1, 0)\n",
    "mass_shooters['pop_culture_connection_tangential_reference'] = np.where(mass_shooters['Pop Culture Connection'] == 2, 1, 0)"
   ]
  },
  {
   "cell_type": "code",
   "execution_count": null,
   "id": "87357183",
   "metadata": {},
   "outputs": [],
   "source": [
    "# Disseminate 'Firearm Proficiency'\n",
    "mass_shooters['firearm_proficiency_no_experience'] = np.where(mass_shooters['Firearm Proficiency'] == 0, 1, 0)\n",
    "mass_shooters['firearm_proficiency_some_experience'] = np.where(mass_shooters['Firearm Proficiency'] == 1, 1, 0)\n",
    "mass_shooters['firearm_proficiency_more_experienced'] = np.where(mass_shooters['Firearm Proficiency'] == 2, 1, 0)\n",
    "mass_shooters['firearm_proficiency_very_experienced'] = np.where(mass_shooters['Firearm Proficiency'] == 3, 1, 0)"
   ]
  },
  {
   "cell_type": "markdown",
   "id": "9036084a",
   "metadata": {},
   "source": [
    "---"
   ]
  },
  {
   "cell_type": "markdown",
   "id": "2756396b",
   "metadata": {},
   "source": [
    "<a id='prepareaggregate'></a>\n",
    "<h3><b><i>\n",
    "    Aggregate Column Creation\n",
    "</i></b></h3>\n",
    "<li><a href='#prepare'>Prepare Top</a></li>"
   ]
  },
  {
   "cell_type": "markdown",
   "id": "13c051bb",
   "metadata": {},
   "source": [
    "- Columns Created: 12\n",
    "    - agg_signs_of_crisis\n",
    "        - 10 columns used\n",
    "    - agg_motivation_hatred\n",
    "        - 2 columns used\n",
    "    - agg_motivation_personal\n",
    "        - 6 columns used\n",
    "    - agg_social\n",
    "        - 5 columns used\n",
    "    - agg_trauma\n",
    "        - 20 columns used\n",
    "    - agg_health\n",
    "        - 13 columns used\n",
    "    - agg_background\n",
    "        - 4 columns used\n",
    "    - agg_crime\n",
    "        - 32 columns used\n",
    "    - agg_stress\n",
    "        - 9 columns used\n",
    "    - agg_substance_abuse\n",
    "        - 3 columns used\n",
    "    - agg_prejudice\n",
    "        - 4 columns used\n",
    "    - agg_grand_total\n",
    "        - 109 columns used"
   ]
  },
  {
   "cell_type": "code",
   "execution_count": null,
   "id": "0e7cdf31",
   "metadata": {},
   "outputs": [],
   "source": [
    "signs_of_crisis_cols = [\n",
    "     'Signs of Being in Crisis',\n",
    "     'Inability to Perform Daily Tasks',\n",
    "     'Notably Depressed Mood',\n",
    "     'Unusually Calm or Happy',\n",
    "     'Rapid Mood Swings',\n",
    "     'Increased Agitation',\n",
    "     'Abusive Behavior',\n",
    "     'Isolation',\n",
    "     'Losing Touch with Reality',\n",
    "     'Paranoia'\n",
    "]\n",
    "motivation_hatred_cols = [\n",
    "    'Motive: Misogyny',\n",
    "    'Motive: Homophobia'\n",
    "]\n",
    "motivation_personal_cols = [\n",
    "    'Motive: Employment Issue',\n",
    "    'Motive: Economic Issue',\n",
    "    'Motive: Legal Issue',\n",
    "    'Motive: Relationship Issue',\n",
    "    'Motive: Interpersonal Conflict\\xa0',\n",
    "    'Motive: Fame-Seeking'\n",
    "]\n",
    "social_cols = [\n",
    "    'Leakage\\xa0',\n",
    "    'Interest in Past Mass Violence',\n",
    "    'Relationship with Other Shooting(s)',\n",
    "    'Planning',\n",
    "    'Performance'\n",
    "]\n",
    "trauma_cols = [\n",
    "    'Bullied',\n",
    "    'Raised by Single Parent',\n",
    "    'Parental Divorce / Separation',\n",
    "    'Parental Death in Childhood',\n",
    "    'Parental Suicide',\n",
    "    'Childhood Trauma',\n",
    "    'Physically Abused',\n",
    "    'Sexually Abused',\n",
    "    'Emotionally Abused',\n",
    "    'Neglected',\n",
    "    'Mother Violent Treatment',\n",
    "    'Parental Substance Abuse',\n",
    "    'Parent Criminal Record',\n",
    "    'Family Member Incarcerated',\n",
    "    'adult_trauma_death_of_parent',\n",
    "    'adult_trauma_death_or_loss_of_child',\n",
    "    'adult_trauma_death_of_family_member_causing_significant_distress',\n",
    "    'adult_trauma_from_war',\n",
    "    'adult_trauma_accident',\n",
    "    'adult_trauma_other'\n",
    "]\n",
    "health_cols = [\n",
    "    'Prior Hospitalization',\n",
    "    'Prior Counseling',\n",
    "    'Psychiatric Medication',\n",
    "    'FASD (Fetal Alcohol Spectrum Disorder)',\n",
    "    'Autism Spectrum',\n",
    "    'Health Issues',\n",
    "    'Head Injury / Possible TBI',\n",
    "    'voluntary_or_mandatory_counseling_voluntary',\n",
    "    'voluntary_or_mandatory_counseling_involuntary',\n",
    "    'mental_illness_mood_disorder',\n",
    "    'mental_illness_thought_disorder',\n",
    "    'mental_illness_other_psychiatric_disorder',\n",
    "    'mental_illness_indication_but_no_diagnosis'\n",
    "]\n",
    "background_cols = [\n",
    "    'Immigrant',\n",
    "    'Sexual Orientation',\n",
    "    'known_family_mental_health_history_parents',\n",
    "    'known_family_mental_health_history_other_relative'\n",
    "]\n",
    "crime_cols = [\n",
    "    'Known to Police or FBI',\n",
    "    'Criminal Record',\n",
    "    'History of Animal Abuse',\n",
    "    'History of Sexual Offenses',\n",
    "    'Gang Affiliation',\n",
    "    'Terror Group Affiliation',\n",
    "    'Bully',\n",
    "    'part_i_crimes_homicide',\n",
    "    'part_i_crimes_forcible_rape',\n",
    "    'part_i_crimes_robbery',\n",
    "    'part_i_crimes_aggravated_assault',\n",
    "    'part_i_crimes_burglary',\n",
    "    'part_i_crimes_larceny_theft',\n",
    "    'part_i_crimes_motor_vehicle_theft',\n",
    "    'part_i_crimes_arson',\n",
    "    'part_ii_crimes_simple_assault',\n",
    "    'part_ii_crimes_fraud_forgery_embezzlement',\n",
    "    'part_ii_crimes_stolen_property',\n",
    "    'part_ii_crimes_vandalism',\n",
    "    'part_ii_crimes_weapons_offenses',\n",
    "    'part_ii_crimes_prostitution',\n",
    "    'part_ii_crimes_drugs',\n",
    "    'part_ii_crimes_dui',\n",
    "    'part_ii_crimes_other',\n",
    "    'domestic_abuse_specified_non_sexual',\n",
    "    'domestic_abuse_specified_sexual_violence',\n",
    "    'domestic_abuse_specified_threats_coercive_control',\n",
    "    'domestic_abuse_specified_threats_with_deadly_weapon',\n",
    "    'highest_level_of_justice_system_involvement_suspected',\n",
    "    'highest_level_of_justice_system_involvement_arrested',\n",
    "    'highest_level_of_justice_system_involvement_charged',\n",
    "    'highest_level_of_justice_system_involvement_convicted'\n",
    "]\n",
    "stress_cols = [\n",
    "    'Employment Status',\n",
    "    'recent_or_ongoing_stressor_recent_breakup',\n",
    "    'recent_or_ongoing_stressor_employment',\n",
    "    'recent_or_ongoing_stressor_economic_stressor',\n",
    "    'recent_or_ongoing_stressor_family_issue',\n",
    "    'recent_or_ongoing_stressor_legal_issue',\n",
    "    'recent_or_ongoing_stressor_other',\n",
    "    'history_of_physical_altercations_yes',\n",
    "    'history_of_physical_altercations_attacked_inanimate_objects_during_arguments'\n",
    "]\n",
    "substance_abuse_cols = [\n",
    "    'substance_use_alcohol',\n",
    "    'substance_use_marijuana',\n",
    "    'substance_use_other_drugs'\n",
    "]\n",
    "prejudice_cols = [\n",
    "    'known_prejudices_racism',\n",
    "    'known_prejudices_misogyny',\n",
    "    'known_prejudices_homophobia',\n",
    "    'known_prejudices_religious_hatred'\n",
    "]\n",
    "grand_total_cols = [\n",
    "    'Interest in Firearms',\n",
    "]"
   ]
  },
  {
   "cell_type": "code",
   "execution_count": 250,
   "id": "259805db",
   "metadata": {},
   "outputs": [
    {
     "data": {
      "text/plain": [
       "0    183\n",
       "1      5\n",
       "Name: Sexual Orientation, dtype: int64"
      ]
     },
     "execution_count": 250,
     "metadata": {},
     "output_type": "execute_result"
    }
   ],
   "source": [
    "mass_shooters['Sexual Orientation'].value_counts()"
   ]
  },
  {
   "cell_type": "code",
   "execution_count": 251,
   "id": "3d4adfd5",
   "metadata": {},
   "outputs": [
    {
     "data": {
      "text/plain": [
       "0    177\n",
       "1     11\n",
       "Name: History of Animal Abuse, dtype: int64"
      ]
     },
     "execution_count": 251,
     "metadata": {},
     "output_type": "execute_result"
    }
   ],
   "source": [
    "mass_shooters['History of Animal Abuse'].value_counts()"
   ]
  },
  {
   "cell_type": "markdown",
   "id": "4b00470f",
   "metadata": {},
   "source": [
    "---"
   ]
  },
  {
   "cell_type": "markdown",
   "id": "1337a96c",
   "metadata": {},
   "source": [
    "<a id='preparetext'></a>\n",
    "<h3><b><i>\n",
    "    Text Modification\n",
    "</i></b></h3>\n",
    "<li><a href='#prepare'>Prepare Top</a></li>"
   ]
  },
  {
   "cell_type": "code",
   "execution_count": null,
   "id": "ebab2ca0",
   "metadata": {},
   "outputs": [],
   "source": []
  },
  {
   "cell_type": "markdown",
   "id": "e01c1e49",
   "metadata": {},
   "source": [
    "---"
   ]
  },
  {
   "cell_type": "markdown",
   "id": "5acebd18",
   "metadata": {},
   "source": [
    "<a id='preparesummary'></a>\n",
    "<h3><b><i>\n",
    "    Summary of Preparation\n",
    "</i></b></h3>\n",
    "<li><a href='#prepare'>Prepare Top</a></li>\n",
    "\n",
    "- <h5><b>Dropped Data</b></h5>\n",
    "\n",
    "    - 1 Row\n",
    "        - Missing majority of info\n",
    "    - 47 columns\n",
    "        - Useless in scope of predictive value\n",
    "        - Percent nulls above 20%\n",
    "        \n",
    "- <h5><b>Null Handling</b></h5>\n",
    "\n",
    "    - Fill with mode\n",
    "        - 44 columns\n",
    "    - Fill uniquely\n",
    "        - 1 columns ('None')\n",
    "\n",
    "- <h5><b>Dtype Cleaning</b></h5>\n",
    "    \n",
    "    - Object\n",
    "        - 4 columns to int\n",
    "        - 3 columns fixed\n",
    "             - 'Day',\n",
    "                 - '19-20' == 19\n",
    "             - 'Race',\n",
    "                 - 'Moroccan' == 6\n",
    "                 - 'Bosnian' == 7\n",
    "             - 'Criminal Record',\n",
    "                 - '1`' == 1\n",
    "    - Float\n",
    "        - 79 columns to int\n",
    "        - 3 columns fixed\n",
    "             - 'Gender',\n",
    "                 - 3.0 == 0\n",
    "             - 'Children',\n",
    "                 - 5.0 == 0\n",
    "             - 'History of Domestic Abuse',\n",
    "                 - 3.0 == 2\n",
    "    - Int\n",
    "        - Nothing changed\n",
    "    \n",
    "- <h5><b>Disseminate Column Information</b></h5>\n",
    "    \n",
    "    - 31 columns manually disseminated\n",
    "        - 137 new columns generated\n",
    "    \n",
    "- <h5><b>Aggregate Column Creation</b></h5>    \n",
    "\n",
    "\n",
    "- <h5><b>Text Modifications</b></h5>\n",
    "\n",
    "\n",
    "- <h5><b>Final Dataframe</b></h5>\n",
    "\n",
    "    - Rows: \n",
    "    - Columns: "
   ]
  },
  {
   "cell_type": "markdown",
   "id": "56c707c4",
   "metadata": {},
   "source": [
    "<div style='background-color: orange'>\n",
    "<a id=\"wrangle\"></a>\n",
    "    <h1 style='text-align: center'>\n",
    "        <b><i>\n",
    "            Wrangle\n",
    "        </i></b></h1>\n",
    "<li><a href='#TableOfContents'>Table of Contents</a></li>"
   ]
  },
  {
   "cell_type": "code",
   "execution_count": null,
   "id": "cbfe7484",
   "metadata": {},
   "outputs": [],
   "source": []
  },
  {
   "cell_type": "markdown",
   "id": "df3853ba",
   "metadata": {},
   "source": [
    "<div style='background-color: orange'>\n",
    "<a id=\"misc\"></a>\n",
    "    <h1 style='text-align: center'>\n",
    "        <b><i>\n",
    "            Miscellaneous\n",
    "        </i></b></h1>\n",
    "<li><a href='#TableOfContents'>Table of Contents</a></li>"
   ]
  },
  {
   "cell_type": "code",
   "execution_count": 1,
   "id": "e96d83ef",
   "metadata": {},
   "outputs": [],
   "source": [
    "def drop_nullpct(df, percent_cutoff):\n",
    "    '''\n",
    "    Takes in a dataframe and a percent_cutoff of nulls to drop a column on\n",
    "    and returns the new dataframe and a dictionary of dropped columns and their pct...\n",
    "    \n",
    "    INPUT:\n",
    "    df = pandas dataframe\n",
    "    percent_cutoff = Null percent cutoff amount\n",
    "    \n",
    "    OUTPUT:\n",
    "    new_df = pandas dataframe with dropped columns\n",
    "    drop_null_pct_dict = dict of column names dropped and pcts\n",
    "    '''\n",
    "    drop_null_pct_dict = {\n",
    "        'column_name' : [],\n",
    "        'percent_null' : []\n",
    "    }\n",
    "    for col in df:\n",
    "        pct = df[col].isna().sum() / df.shape[0]\n",
    "        if pct > 0.20:\n",
    "            df = df.drop(columns=col)\n",
    "            drop_null_pct_dict['column_name'].append(col)\n",
    "            drop_null_pct_dict['percent_null'].append(pct)\n",
    "    new_df = df\n",
    "    return new_df, drop_null_pct_dict"
   ]
  },
  {
   "cell_type": "code",
   "execution_count": 2,
   "id": "6459e65c",
   "metadata": {},
   "outputs": [],
   "source": [
    "def check_nulls(df):\n",
    "    '''\n",
    "    Takes a dataframe and returns a list of columns that has at least one null value\n",
    "    \n",
    "    INPUT:\n",
    "    df = pandas dataframe\n",
    "    \n",
    "    OUTPUT:\n",
    "    has_nulls = List of column names with at least one null\n",
    "    '''\n",
    "    has_nulls = []\n",
    "    for col in df:\n",
    "        nulls = df[col].isna().sum()\n",
    "        if nulls > 0:\n",
    "            has_nulls.append(col)\n",
    "    return has_nulls"
   ]
  },
  {
   "cell_type": "code",
   "execution_count": null,
   "id": "7cf03f89",
   "metadata": {},
   "outputs": [],
   "source": []
  }
 ],
 "metadata": {
  "kernelspec": {
   "display_name": "Python 3 (ipykernel)",
   "language": "python",
   "name": "python3"
  },
  "language_info": {
   "codemirror_mode": {
    "name": "ipython",
    "version": 3
   },
   "file_extension": ".py",
   "mimetype": "text/x-python",
   "name": "python",
   "nbconvert_exporter": "python",
   "pygments_lexer": "ipython3",
   "version": "3.9.13"
  }
 },
 "nbformat": 4,
 "nbformat_minor": 5
}
