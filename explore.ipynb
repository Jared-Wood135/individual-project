{
 "cells": [
  {
   "cell_type": "markdown",
   "id": "468f91d2",
   "metadata": {},
   "source": [
    "<div style=\"background-color: orange\">\n",
    "<a id='TableOfContents'></a>\n",
    "    <b><u><i><h1 style='text-align: center'>\n",
    "        Table of Contents\n",
    "    </h1></i></u></b>\n",
    "<li><a href='#imports'>Imports</a></li>\n",
    "<li><a href='#?'>Something?</a></li>\n",
    "<li><a href='#germany'>Miscellaneous</a></li>"
   ]
  },
  {
   "cell_type": "markdown",
   "id": "d8c3fd19",
   "metadata": {},
   "source": [
    "<div style='background-color: orange'>\n",
    "<a id='imports'></a>\n",
    "    <b><u><i><h1 style='text-align: center'>\n",
    "        Imports\n",
    "    </h1></i></u></b>\n",
    "<li><a href='#TableOfContents'>Table of Contents</a></li>"
   ]
  },
  {
   "cell_type": "code",
   "execution_count": 1,
   "id": "4ff916e3",
   "metadata": {},
   "outputs": [],
   "source": [
    "# Vectorization and dataframing\n",
    "import numpy as np\n",
    "import pandas as pd\n",
    "\n",
    "# Visualizations\n",
    "import matplotlib.pyplot as plt\n",
    "import seaborn as sns\n",
    "\n",
    "# .py file\n",
    "import wrangle as w"
   ]
  },
  {
   "cell_type": "markdown",
   "id": "3ad4de6a",
   "metadata": {},
   "source": [
    "<div style='background-color: orange'>\n",
    "<a id='?'></a>\n",
    "    <b><u><i><h1 style='text-align: center'>\n",
    "        Something?\n",
    "    </h1></i></u></b>\n",
    "<li><a href='#TableOfContents'>Table of Contents</a></li>"
   ]
  },
  {
   "cell_type": "code",
   "execution_count": null,
   "id": "fbce76e4",
   "metadata": {},
   "outputs": [],
   "source": []
  },
  {
   "cell_type": "markdown",
   "id": "81c0be58",
   "metadata": {},
   "source": [
    "<div style='background-color: orange'>\n",
    "<a id='misc'></a>\n",
    "    <b><u><i><h1 style='text-align: center'>\n",
    "        Miscellaneous\n",
    "    </h1></i></u></b>\n",
    "<li><a href='#TableOfContents'>Table of Contents</a></li>"
   ]
  },
  {
   "cell_type": "markdown",
   "id": "31a405c2",
   "metadata": {},
   "source": [
    "3 - Urban/Suburban/Rural\n",
    "8 - Race\n",
    "4 - Relationship Status\n",
    "3 - Employment Type\\xa0\n",
    "3 - Military Service\n",
    "4 - Community Involvement\n",
    "- Highest Level of Justice System Involvement\n",
    "- History of Physical Altercations\n",
    "- History of Domestic Abuse\n",
    "- Known Hate Group or Chat Room Affiliation\n",
    "- Violent Video Games\n",
    "- Timeline of Signs of Crisis\n",
    "- Suicidality\n",
    "- Voluntary or Involuntary Hospitalization\n",
    "- Motive: Racism/Xenophobia\n",
    "- Motive: Religious Hate\n",
    "- Motive: Other\\xa0\n",
    "- Role of Psychosis in the Shooting\n",
    "- Social Media Us\\xa0\n",
    "- Pop Culture Connection\n",
    "- Firearm Proficiency"
   ]
  },
  {
   "cell_type": "code",
   "execution_count": null,
   "id": "7263a1f5",
   "metadata": {},
   "outputs": [],
   "source": []
  }
 ],
 "metadata": {
  "kernelspec": {
   "display_name": "Python 3 (ipykernel)",
   "language": "python",
   "name": "python3"
  },
  "language_info": {
   "codemirror_mode": {
    "name": "ipython",
    "version": 3
   },
   "file_extension": ".py",
   "mimetype": "text/x-python",
   "name": "python",
   "nbconvert_exporter": "python",
   "pygments_lexer": "ipython3",
   "version": "3.9.13"
  }
 },
 "nbformat": 4,
 "nbformat_minor": 5
}
