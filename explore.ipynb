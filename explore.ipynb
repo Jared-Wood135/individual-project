{
 "cells": [
  {
   "cell_type": "markdown",
   "id": "468f91d2",
   "metadata": {},
   "source": [
    "<div style=\"background-color: orange\">\n",
    "<a id='TableOfContents'></a>\n",
    "    <b><u><i><h1 style='text-align: center'>\n",
    "        Table of Contents\n",
    "    </h1></i></u></b>\n",
    "<li><a href='#imports'>Imports</a></li>\n",
    "<li><a href='#wrangle'>Wrangle Data</a></li>\n",
    "<li><a href='#comparebinary'>Comparison of Binary Columns to Target</a></li>\n",
    "<li><a href='#compareaggregate'>Comparison of Aggregate Columns to Target</a></li>\n",
    "<li><a href='#comparemisc'>Comparison of Miscellaneous Columns to Target</a></li>\n",
    "<li><a href='#misc'>Miscellaneous</a></li>"
   ]
  },
  {
   "cell_type": "markdown",
   "id": "d8c3fd19",
   "metadata": {},
   "source": [
    "<div style='background-color: orange'>\n",
    "<a id='imports'></a>\n",
    "    <b><u><i><h1 style='text-align: center'>\n",
    "        Imports\n",
    "    </h1></i></u></b>\n",
    "<li><a href='#TableOfContents'>Table of Contents</a></li>"
   ]
  },
  {
   "cell_type": "code",
   "execution_count": 2,
   "id": "4ff916e3",
   "metadata": {},
   "outputs": [],
   "source": [
    "# Vectorization and dataframing\n",
    "import numpy as np\n",
    "import pandas as pd\n",
    "\n",
    "# Visualizations\n",
    "import matplotlib.pyplot as plt\n",
    "import seaborn as sns\n",
    "\n",
    "# Stats\n",
    "from scipy import stats\n",
    "\n",
    "# Ignore Warnings\n",
    "import warnings\n",
    "warnings.filterwarnings('ignore')\n",
    "\n",
    "# .py file\n",
    "import wrangle as w"
   ]
  },
  {
   "cell_type": "markdown",
   "id": "cbc90f90",
   "metadata": {},
   "source": [
    "<div style='background-color: orange'>\n",
    "<a id='wrangle'></a>\n",
    "    <b><u><i><h1 style='text-align: center'>\n",
    "        Wrangle Data\n",
    "    </h1></i></u></b>\n",
    "<li><a href='#TableOfContents'>Table of Contents</a></li>"
   ]
  },
  {
   "cell_type": "code",
   "execution_count": 3,
   "id": "1ca716e6",
   "metadata": {},
   "outputs": [],
   "source": [
    "# Wrangle and split the mass_shooters data for proper\n",
    "# exploratory purposes\n",
    "train, validate, test = w.wrangle_mass_shooters()"
   ]
  },
  {
   "cell_type": "code",
   "execution_count": 5,
   "id": "88d9dfd6",
   "metadata": {},
   "outputs": [
    {
     "data": {
      "text/plain": [
       "((131, 254), (38, 254), (19, 254))"
      ]
     },
     "execution_count": 5,
     "metadata": {},
     "output_type": "execute_result"
    }
   ],
   "source": [
    "# Verify split data\n",
    "train.shape, validate.shape, test.shape"
   ]
  },
  {
   "cell_type": "markdown",
   "id": "3ad4de6a",
   "metadata": {},
   "source": [
    "<div style='background-color: orange'>\n",
    "<a id='comparebinary'></a>\n",
    "    <b><u><i><h1 style='text-align: center'>\n",
    "        Comparison of Binary Columns to Target\n",
    "    </h1></i></u></b>\n",
    "<li><a href='#TableOfContents'>Table of Contents</a></li>"
   ]
  },
  {
   "cell_type": "code",
   "execution_count": 15,
   "id": "2b78ed99",
   "metadata": {},
   "outputs": [
    {
     "data": {
      "text/plain": [
       "197"
      ]
     },
     "execution_count": 15,
     "metadata": {},
     "output_type": "execute_result"
    }
   ],
   "source": [
    "# Identify all of the binary columns\n",
    "binary_cols = []\n",
    "for col in train.columns:\n",
    "    if train[col].nunique() == 2:\n",
    "        binary_cols.append(col)\n",
    "len(binary_cols)"
   ]
  },
  {
   "cell_type": "markdown",
   "id": "3f89ede9",
   "metadata": {},
   "source": [
    "<div style='background-color: orange'>\n",
    "<a id='compareaggregate'></a>\n",
    "    <b><u><i><h1 style='text-align: center'>\n",
    "        Comparison of Aggregate Columns to Target\n",
    "    </h1></i></u></b>\n",
    "<li><a href='#TableOfContents'>Table of Contents</a></li>"
   ]
  },
  {
   "cell_type": "code",
   "execution_count": 14,
   "id": "5bd5acd6",
   "metadata": {},
   "outputs": [
    {
     "data": {
      "text/plain": [
       "13"
      ]
     },
     "execution_count": 14,
     "metadata": {},
     "output_type": "execute_result"
    }
   ],
   "source": [
    "# Identify all of the aggregate columns\n",
    "agg_cols = [col for col in train.columns if col.startswith('agg')]\n",
    "len(agg_cols)"
   ]
  },
  {
   "cell_type": "markdown",
   "id": "50dd3516",
   "metadata": {},
   "source": [
    "<div style='background-color: orange'>\n",
    "<a id='comparemisc'></a>\n",
    "    <b><u><i><h1 style='text-align: center'>\n",
    "        Comparison of Miscellaneous Columns to Target\n",
    "    </h1></i></u></b>\n",
    "<li><a href='#TableOfContents'>Table of Contents</a></li>"
   ]
  },
  {
   "cell_type": "code",
   "execution_count": 20,
   "id": "48ba2f76",
   "metadata": {},
   "outputs": [
    {
     "data": {
      "text/plain": [
       "45"
      ]
     },
     "execution_count": 20,
     "metadata": {},
     "output_type": "execute_result"
    }
   ],
   "source": [
    "# Identify everything that isn't binary or aggregate columns\n",
    "misc_cols = [col for col in train.columns if col not in binary_cols and col not in agg_cols]\n",
    "len(misc_cols)"
   ]
  },
  {
   "cell_type": "markdown",
   "id": "81c0be58",
   "metadata": {},
   "source": [
    "<div style='background-color: orange'>\n",
    "<a id='misc'></a>\n",
    "    <b><u><i><h1 style='text-align: center'>\n",
    "        Miscellaneous\n",
    "    </h1></i></u></b>\n",
    "<li><a href='#TableOfContents'>Table of Contents</a></li>"
   ]
  },
  {
   "cell_type": "code",
   "execution_count": null,
   "id": "a0cec241",
   "metadata": {},
   "outputs": [],
   "source": []
  }
 ],
 "metadata": {
  "kernelspec": {
   "display_name": "Python 3 (ipykernel)",
   "language": "python",
   "name": "python3"
  },
  "language_info": {
   "codemirror_mode": {
    "name": "ipython",
    "version": 3
   },
   "file_extension": ".py",
   "mimetype": "text/x-python",
   "name": "python",
   "nbconvert_exporter": "python",
   "pygments_lexer": "ipython3",
   "version": "3.9.13"
  }
 },
 "nbformat": 4,
 "nbformat_minor": 5
}
